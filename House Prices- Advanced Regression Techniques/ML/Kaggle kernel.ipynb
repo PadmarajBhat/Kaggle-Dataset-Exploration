{
  "cells": [
    {
      "metadata": {
        "trusted": true,
        "_uuid": "f2af6c1bf47b5300fddfd754fe24eff638d46d9e"
      },
      "cell_type": "code",
      "source": "import numpy as np\nimport pandas as pd\nimport matplotlib.pyplot as plt\nfrom collections import Counter\nimport datetime\n\nimport matplotlib.pyplot as plt\n\nfrom scipy import stats\nimport math\nimport random\n\nfrom sklearn import preprocessing\nfrom sklearn.model_selection import ShuffleSplit, train_test_split, cross_val_score, StratifiedShuffleSplit\nfrom sklearn.metrics import  mean_squared_log_error\n\nfrom xgboost import XGBRegressor",
      "execution_count": 59,
      "outputs": []
    },
    {
      "metadata": {
        "trusted": true,
        "_uuid": "f4909622d44d7e20201b25b6407af57e7a035498"
      },
      "cell_type": "code",
      "source": "#Global Variables for grid search\nn_splits = 10\nn_jobs = 2\n\nmax_depth_min = 3\nmax_depth_max = 11\nn_estimator_min = 100\nn_estimator_max = 200\n\ntest_size =0.5\nrandom_state = 1986",
      "execution_count": 60,
      "outputs": []
    },
    {
      "metadata": {
        "trusted": true,
        "_uuid": "8c5318c5aa322350262771276ec2e9011d6ace91"
      },
      "cell_type": "code",
      "source": "train_File = '../input/train.csv'\ntest_File = '../input/test.csv'\n\ndf_train = pd.read_csv(train_File)\ndf_test = pd.read_csv(test_File)\ndf_test['SalePrice'] = 0\ndf_concat = pd.concat([df_train,df_test])",
      "execution_count": 61,
      "outputs": []
    },
    {
      "metadata": {
        "trusted": true,
        "_uuid": "7273d0af0a883ac7cafdc44cf7b67cbb1019b039"
      },
      "cell_type": "code",
      "source": "df_concat.head()",
      "execution_count": 62,
      "outputs": [
        {
          "output_type": "execute_result",
          "execution_count": 62,
          "data": {
            "text/plain": "   Id  MSSubClass MSZoning    ...     SaleType  SaleCondition SalePrice\n0   1          60       RL    ...           WD         Normal    208500\n1   2          20       RL    ...           WD         Normal    181500\n2   3          60       RL    ...           WD         Normal    223500\n3   4          70       RL    ...           WD        Abnorml    140000\n4   5          60       RL    ...           WD         Normal    250000\n\n[5 rows x 81 columns]",
            "text/html": "<div>\n<style scoped>\n    .dataframe tbody tr th:only-of-type {\n        vertical-align: middle;\n    }\n\n    .dataframe tbody tr th {\n        vertical-align: top;\n    }\n\n    .dataframe thead th {\n        text-align: right;\n    }\n</style>\n<table border=\"1\" class=\"dataframe\">\n  <thead>\n    <tr style=\"text-align: right;\">\n      <th></th>\n      <th>Id</th>\n      <th>MSSubClass</th>\n      <th>MSZoning</th>\n      <th>LotFrontage</th>\n      <th>LotArea</th>\n      <th>Street</th>\n      <th>Alley</th>\n      <th>LotShape</th>\n      <th>LandContour</th>\n      <th>Utilities</th>\n      <th>LotConfig</th>\n      <th>LandSlope</th>\n      <th>Neighborhood</th>\n      <th>Condition1</th>\n      <th>Condition2</th>\n      <th>BldgType</th>\n      <th>HouseStyle</th>\n      <th>OverallQual</th>\n      <th>OverallCond</th>\n      <th>YearBuilt</th>\n      <th>YearRemodAdd</th>\n      <th>RoofStyle</th>\n      <th>RoofMatl</th>\n      <th>Exterior1st</th>\n      <th>Exterior2nd</th>\n      <th>MasVnrType</th>\n      <th>MasVnrArea</th>\n      <th>ExterQual</th>\n      <th>ExterCond</th>\n      <th>Foundation</th>\n      <th>BsmtQual</th>\n      <th>BsmtCond</th>\n      <th>BsmtExposure</th>\n      <th>BsmtFinType1</th>\n      <th>BsmtFinSF1</th>\n      <th>BsmtFinType2</th>\n      <th>BsmtFinSF2</th>\n      <th>BsmtUnfSF</th>\n      <th>TotalBsmtSF</th>\n      <th>Heating</th>\n      <th>...</th>\n      <th>CentralAir</th>\n      <th>Electrical</th>\n      <th>1stFlrSF</th>\n      <th>2ndFlrSF</th>\n      <th>LowQualFinSF</th>\n      <th>GrLivArea</th>\n      <th>BsmtFullBath</th>\n      <th>BsmtHalfBath</th>\n      <th>FullBath</th>\n      <th>HalfBath</th>\n      <th>BedroomAbvGr</th>\n      <th>KitchenAbvGr</th>\n      <th>KitchenQual</th>\n      <th>TotRmsAbvGrd</th>\n      <th>Functional</th>\n      <th>Fireplaces</th>\n      <th>FireplaceQu</th>\n      <th>GarageType</th>\n      <th>GarageYrBlt</th>\n      <th>GarageFinish</th>\n      <th>GarageCars</th>\n      <th>GarageArea</th>\n      <th>GarageQual</th>\n      <th>GarageCond</th>\n      <th>PavedDrive</th>\n      <th>WoodDeckSF</th>\n      <th>OpenPorchSF</th>\n      <th>EnclosedPorch</th>\n      <th>3SsnPorch</th>\n      <th>ScreenPorch</th>\n      <th>PoolArea</th>\n      <th>PoolQC</th>\n      <th>Fence</th>\n      <th>MiscFeature</th>\n      <th>MiscVal</th>\n      <th>MoSold</th>\n      <th>YrSold</th>\n      <th>SaleType</th>\n      <th>SaleCondition</th>\n      <th>SalePrice</th>\n    </tr>\n  </thead>\n  <tbody>\n    <tr>\n      <th>0</th>\n      <td>1</td>\n      <td>60</td>\n      <td>RL</td>\n      <td>65.0</td>\n      <td>8450</td>\n      <td>Pave</td>\n      <td>NaN</td>\n      <td>Reg</td>\n      <td>Lvl</td>\n      <td>AllPub</td>\n      <td>Inside</td>\n      <td>Gtl</td>\n      <td>CollgCr</td>\n      <td>Norm</td>\n      <td>Norm</td>\n      <td>1Fam</td>\n      <td>2Story</td>\n      <td>7</td>\n      <td>5</td>\n      <td>2003</td>\n      <td>2003</td>\n      <td>Gable</td>\n      <td>CompShg</td>\n      <td>VinylSd</td>\n      <td>VinylSd</td>\n      <td>BrkFace</td>\n      <td>196.0</td>\n      <td>Gd</td>\n      <td>TA</td>\n      <td>PConc</td>\n      <td>Gd</td>\n      <td>TA</td>\n      <td>No</td>\n      <td>GLQ</td>\n      <td>706.0</td>\n      <td>Unf</td>\n      <td>0.0</td>\n      <td>150.0</td>\n      <td>856.0</td>\n      <td>GasA</td>\n      <td>...</td>\n      <td>Y</td>\n      <td>SBrkr</td>\n      <td>856</td>\n      <td>854</td>\n      <td>0</td>\n      <td>1710</td>\n      <td>1.0</td>\n      <td>0.0</td>\n      <td>2</td>\n      <td>1</td>\n      <td>3</td>\n      <td>1</td>\n      <td>Gd</td>\n      <td>8</td>\n      <td>Typ</td>\n      <td>0</td>\n      <td>NaN</td>\n      <td>Attchd</td>\n      <td>2003.0</td>\n      <td>RFn</td>\n      <td>2.0</td>\n      <td>548.0</td>\n      <td>TA</td>\n      <td>TA</td>\n      <td>Y</td>\n      <td>0</td>\n      <td>61</td>\n      <td>0</td>\n      <td>0</td>\n      <td>0</td>\n      <td>0</td>\n      <td>NaN</td>\n      <td>NaN</td>\n      <td>NaN</td>\n      <td>0</td>\n      <td>2</td>\n      <td>2008</td>\n      <td>WD</td>\n      <td>Normal</td>\n      <td>208500</td>\n    </tr>\n    <tr>\n      <th>1</th>\n      <td>2</td>\n      <td>20</td>\n      <td>RL</td>\n      <td>80.0</td>\n      <td>9600</td>\n      <td>Pave</td>\n      <td>NaN</td>\n      <td>Reg</td>\n      <td>Lvl</td>\n      <td>AllPub</td>\n      <td>FR2</td>\n      <td>Gtl</td>\n      <td>Veenker</td>\n      <td>Feedr</td>\n      <td>Norm</td>\n      <td>1Fam</td>\n      <td>1Story</td>\n      <td>6</td>\n      <td>8</td>\n      <td>1976</td>\n      <td>1976</td>\n      <td>Gable</td>\n      <td>CompShg</td>\n      <td>MetalSd</td>\n      <td>MetalSd</td>\n      <td>None</td>\n      <td>0.0</td>\n      <td>TA</td>\n      <td>TA</td>\n      <td>CBlock</td>\n      <td>Gd</td>\n      <td>TA</td>\n      <td>Gd</td>\n      <td>ALQ</td>\n      <td>978.0</td>\n      <td>Unf</td>\n      <td>0.0</td>\n      <td>284.0</td>\n      <td>1262.0</td>\n      <td>GasA</td>\n      <td>...</td>\n      <td>Y</td>\n      <td>SBrkr</td>\n      <td>1262</td>\n      <td>0</td>\n      <td>0</td>\n      <td>1262</td>\n      <td>0.0</td>\n      <td>1.0</td>\n      <td>2</td>\n      <td>0</td>\n      <td>3</td>\n      <td>1</td>\n      <td>TA</td>\n      <td>6</td>\n      <td>Typ</td>\n      <td>1</td>\n      <td>TA</td>\n      <td>Attchd</td>\n      <td>1976.0</td>\n      <td>RFn</td>\n      <td>2.0</td>\n      <td>460.0</td>\n      <td>TA</td>\n      <td>TA</td>\n      <td>Y</td>\n      <td>298</td>\n      <td>0</td>\n      <td>0</td>\n      <td>0</td>\n      <td>0</td>\n      <td>0</td>\n      <td>NaN</td>\n      <td>NaN</td>\n      <td>NaN</td>\n      <td>0</td>\n      <td>5</td>\n      <td>2007</td>\n      <td>WD</td>\n      <td>Normal</td>\n      <td>181500</td>\n    </tr>\n    <tr>\n      <th>2</th>\n      <td>3</td>\n      <td>60</td>\n      <td>RL</td>\n      <td>68.0</td>\n      <td>11250</td>\n      <td>Pave</td>\n      <td>NaN</td>\n      <td>IR1</td>\n      <td>Lvl</td>\n      <td>AllPub</td>\n      <td>Inside</td>\n      <td>Gtl</td>\n      <td>CollgCr</td>\n      <td>Norm</td>\n      <td>Norm</td>\n      <td>1Fam</td>\n      <td>2Story</td>\n      <td>7</td>\n      <td>5</td>\n      <td>2001</td>\n      <td>2002</td>\n      <td>Gable</td>\n      <td>CompShg</td>\n      <td>VinylSd</td>\n      <td>VinylSd</td>\n      <td>BrkFace</td>\n      <td>162.0</td>\n      <td>Gd</td>\n      <td>TA</td>\n      <td>PConc</td>\n      <td>Gd</td>\n      <td>TA</td>\n      <td>Mn</td>\n      <td>GLQ</td>\n      <td>486.0</td>\n      <td>Unf</td>\n      <td>0.0</td>\n      <td>434.0</td>\n      <td>920.0</td>\n      <td>GasA</td>\n      <td>...</td>\n      <td>Y</td>\n      <td>SBrkr</td>\n      <td>920</td>\n      <td>866</td>\n      <td>0</td>\n      <td>1786</td>\n      <td>1.0</td>\n      <td>0.0</td>\n      <td>2</td>\n      <td>1</td>\n      <td>3</td>\n      <td>1</td>\n      <td>Gd</td>\n      <td>6</td>\n      <td>Typ</td>\n      <td>1</td>\n      <td>TA</td>\n      <td>Attchd</td>\n      <td>2001.0</td>\n      <td>RFn</td>\n      <td>2.0</td>\n      <td>608.0</td>\n      <td>TA</td>\n      <td>TA</td>\n      <td>Y</td>\n      <td>0</td>\n      <td>42</td>\n      <td>0</td>\n      <td>0</td>\n      <td>0</td>\n      <td>0</td>\n      <td>NaN</td>\n      <td>NaN</td>\n      <td>NaN</td>\n      <td>0</td>\n      <td>9</td>\n      <td>2008</td>\n      <td>WD</td>\n      <td>Normal</td>\n      <td>223500</td>\n    </tr>\n    <tr>\n      <th>3</th>\n      <td>4</td>\n      <td>70</td>\n      <td>RL</td>\n      <td>60.0</td>\n      <td>9550</td>\n      <td>Pave</td>\n      <td>NaN</td>\n      <td>IR1</td>\n      <td>Lvl</td>\n      <td>AllPub</td>\n      <td>Corner</td>\n      <td>Gtl</td>\n      <td>Crawfor</td>\n      <td>Norm</td>\n      <td>Norm</td>\n      <td>1Fam</td>\n      <td>2Story</td>\n      <td>7</td>\n      <td>5</td>\n      <td>1915</td>\n      <td>1970</td>\n      <td>Gable</td>\n      <td>CompShg</td>\n      <td>Wd Sdng</td>\n      <td>Wd Shng</td>\n      <td>None</td>\n      <td>0.0</td>\n      <td>TA</td>\n      <td>TA</td>\n      <td>BrkTil</td>\n      <td>TA</td>\n      <td>Gd</td>\n      <td>No</td>\n      <td>ALQ</td>\n      <td>216.0</td>\n      <td>Unf</td>\n      <td>0.0</td>\n      <td>540.0</td>\n      <td>756.0</td>\n      <td>GasA</td>\n      <td>...</td>\n      <td>Y</td>\n      <td>SBrkr</td>\n      <td>961</td>\n      <td>756</td>\n      <td>0</td>\n      <td>1717</td>\n      <td>1.0</td>\n      <td>0.0</td>\n      <td>1</td>\n      <td>0</td>\n      <td>3</td>\n      <td>1</td>\n      <td>Gd</td>\n      <td>7</td>\n      <td>Typ</td>\n      <td>1</td>\n      <td>Gd</td>\n      <td>Detchd</td>\n      <td>1998.0</td>\n      <td>Unf</td>\n      <td>3.0</td>\n      <td>642.0</td>\n      <td>TA</td>\n      <td>TA</td>\n      <td>Y</td>\n      <td>0</td>\n      <td>35</td>\n      <td>272</td>\n      <td>0</td>\n      <td>0</td>\n      <td>0</td>\n      <td>NaN</td>\n      <td>NaN</td>\n      <td>NaN</td>\n      <td>0</td>\n      <td>2</td>\n      <td>2006</td>\n      <td>WD</td>\n      <td>Abnorml</td>\n      <td>140000</td>\n    </tr>\n    <tr>\n      <th>4</th>\n      <td>5</td>\n      <td>60</td>\n      <td>RL</td>\n      <td>84.0</td>\n      <td>14260</td>\n      <td>Pave</td>\n      <td>NaN</td>\n      <td>IR1</td>\n      <td>Lvl</td>\n      <td>AllPub</td>\n      <td>FR2</td>\n      <td>Gtl</td>\n      <td>NoRidge</td>\n      <td>Norm</td>\n      <td>Norm</td>\n      <td>1Fam</td>\n      <td>2Story</td>\n      <td>8</td>\n      <td>5</td>\n      <td>2000</td>\n      <td>2000</td>\n      <td>Gable</td>\n      <td>CompShg</td>\n      <td>VinylSd</td>\n      <td>VinylSd</td>\n      <td>BrkFace</td>\n      <td>350.0</td>\n      <td>Gd</td>\n      <td>TA</td>\n      <td>PConc</td>\n      <td>Gd</td>\n      <td>TA</td>\n      <td>Av</td>\n      <td>GLQ</td>\n      <td>655.0</td>\n      <td>Unf</td>\n      <td>0.0</td>\n      <td>490.0</td>\n      <td>1145.0</td>\n      <td>GasA</td>\n      <td>...</td>\n      <td>Y</td>\n      <td>SBrkr</td>\n      <td>1145</td>\n      <td>1053</td>\n      <td>0</td>\n      <td>2198</td>\n      <td>1.0</td>\n      <td>0.0</td>\n      <td>2</td>\n      <td>1</td>\n      <td>4</td>\n      <td>1</td>\n      <td>Gd</td>\n      <td>9</td>\n      <td>Typ</td>\n      <td>1</td>\n      <td>TA</td>\n      <td>Attchd</td>\n      <td>2000.0</td>\n      <td>RFn</td>\n      <td>3.0</td>\n      <td>836.0</td>\n      <td>TA</td>\n      <td>TA</td>\n      <td>Y</td>\n      <td>192</td>\n      <td>84</td>\n      <td>0</td>\n      <td>0</td>\n      <td>0</td>\n      <td>0</td>\n      <td>NaN</td>\n      <td>NaN</td>\n      <td>NaN</td>\n      <td>0</td>\n      <td>12</td>\n      <td>2008</td>\n      <td>WD</td>\n      <td>Normal</td>\n      <td>250000</td>\n    </tr>\n  </tbody>\n</table>\n</div>"
          },
          "metadata": {}
        }
      ]
    },
    {
      "metadata": {
        "trusted": true,
        "_uuid": "c17981d35937f82123173ebd02604c0bb0ea2c06"
      },
      "cell_type": "code",
      "source": "def giveMeWrangledData(df, testFile=False, log=False):\n    \n    \n    df = df.drop(['Id', 'GarageYrBlt','BsmtFinSF1','BsmtFinSF2','BsmtUnfSF'],axis=1)\n    \n    df['LotFrontage'] =df.LotFrontage.fillna(df.LotFrontage.mode()[0])\n    df['MasVnrArea']=df.MasVnrArea.fillna(0.0)\n    df['TotalBsmtSF'] = df.TotalBsmtSF.fillna(0)\n    df['BsmtFullBath'] = df.BsmtFullBath.fillna(0)\n    df['BsmtHalfBath'] = df.BsmtHalfBath.fillna(0)\n    df['GarageCars'] = df.GarageCars.fillna(0)\n    df['GarageArea'] = df.GarageArea.fillna(0)\n    \n    #convert data type\n    #we are being little lineant to give int64 for YearBuilt, YrSold but those guys are going to be box-coxed \n    #so let them at least enjoy the bigger size for now\n    int64_variables = ['LotFrontage', 'LotArea', 'YearBuilt', 'YearRemodAdd', 'MasVnrArea', \\\n                     'TotalBsmtSF', '1stFlrSF', '2ndFlrSF', 'LowQualFinSF', 'GrLivArea', 'BsmtFullBath', \\\n                     'BsmtHalfBath', 'FullBath', 'HalfBath', 'BedroomAbvGr', 'KitchenAbvGr', 'TotRmsAbvGrd', 'Fireplaces',\\\n                     'GarageCars', 'GarageArea', 'WoodDeckSF', 'OpenPorchSF', 'EnclosedPorch', '3SsnPorch', 'ScreenPorch', \\\n                     'PoolArea', 'MiscVal', 'YrSold', 'SalePrice']\n    \n    #if testFile:\n    #    int64_variables.remove('SalePrice')\n\n        \n        \n        \n    \n    for c in int64_variables:\n        if log:\n            print(\"Changing the data type for :\", c)\n        #df[c] = df[c].astype(np.int64)\n        df[c] = df[c].astype(np.float64)\n        \n    int_to_categorical_variables = ['MSSubClass', 'OverallQual', 'OverallCond', 'FireplaceQu', 'MoSold']\n    for c in int_to_categorical_variables:\n        df[c] = df[c].astype(str)\n        \n    df = df.fillna('NotAvailable')\n    return df\ndf = giveMeWrangledData(df_concat)\ndf.head()",
      "execution_count": 63,
      "outputs": [
        {
          "output_type": "execute_result",
          "execution_count": 63,
          "data": {
            "text/plain": "  MSSubClass MSZoning  LotFrontage    ...     SaleType SaleCondition SalePrice\n0         60       RL         65.0    ...           WD        Normal  208500.0\n1         20       RL         80.0    ...           WD        Normal  181500.0\n2         60       RL         68.0    ...           WD        Normal  223500.0\n3         70       RL         60.0    ...           WD       Abnorml  140000.0\n4         60       RL         84.0    ...           WD        Normal  250000.0\n\n[5 rows x 76 columns]",
            "text/html": "<div>\n<style scoped>\n    .dataframe tbody tr th:only-of-type {\n        vertical-align: middle;\n    }\n\n    .dataframe tbody tr th {\n        vertical-align: top;\n    }\n\n    .dataframe thead th {\n        text-align: right;\n    }\n</style>\n<table border=\"1\" class=\"dataframe\">\n  <thead>\n    <tr style=\"text-align: right;\">\n      <th></th>\n      <th>MSSubClass</th>\n      <th>MSZoning</th>\n      <th>LotFrontage</th>\n      <th>LotArea</th>\n      <th>Street</th>\n      <th>Alley</th>\n      <th>LotShape</th>\n      <th>LandContour</th>\n      <th>Utilities</th>\n      <th>LotConfig</th>\n      <th>LandSlope</th>\n      <th>Neighborhood</th>\n      <th>Condition1</th>\n      <th>Condition2</th>\n      <th>BldgType</th>\n      <th>HouseStyle</th>\n      <th>OverallQual</th>\n      <th>OverallCond</th>\n      <th>YearBuilt</th>\n      <th>YearRemodAdd</th>\n      <th>RoofStyle</th>\n      <th>RoofMatl</th>\n      <th>Exterior1st</th>\n      <th>Exterior2nd</th>\n      <th>MasVnrType</th>\n      <th>MasVnrArea</th>\n      <th>ExterQual</th>\n      <th>ExterCond</th>\n      <th>Foundation</th>\n      <th>BsmtQual</th>\n      <th>BsmtCond</th>\n      <th>BsmtExposure</th>\n      <th>BsmtFinType1</th>\n      <th>BsmtFinType2</th>\n      <th>TotalBsmtSF</th>\n      <th>Heating</th>\n      <th>HeatingQC</th>\n      <th>CentralAir</th>\n      <th>Electrical</th>\n      <th>1stFlrSF</th>\n      <th>2ndFlrSF</th>\n      <th>LowQualFinSF</th>\n      <th>GrLivArea</th>\n      <th>BsmtFullBath</th>\n      <th>BsmtHalfBath</th>\n      <th>FullBath</th>\n      <th>HalfBath</th>\n      <th>BedroomAbvGr</th>\n      <th>KitchenAbvGr</th>\n      <th>KitchenQual</th>\n      <th>TotRmsAbvGrd</th>\n      <th>Functional</th>\n      <th>Fireplaces</th>\n      <th>FireplaceQu</th>\n      <th>GarageType</th>\n      <th>GarageFinish</th>\n      <th>GarageCars</th>\n      <th>GarageArea</th>\n      <th>GarageQual</th>\n      <th>GarageCond</th>\n      <th>PavedDrive</th>\n      <th>WoodDeckSF</th>\n      <th>OpenPorchSF</th>\n      <th>EnclosedPorch</th>\n      <th>3SsnPorch</th>\n      <th>ScreenPorch</th>\n      <th>PoolArea</th>\n      <th>PoolQC</th>\n      <th>Fence</th>\n      <th>MiscFeature</th>\n      <th>MiscVal</th>\n      <th>MoSold</th>\n      <th>YrSold</th>\n      <th>SaleType</th>\n      <th>SaleCondition</th>\n      <th>SalePrice</th>\n    </tr>\n  </thead>\n  <tbody>\n    <tr>\n      <th>0</th>\n      <td>60</td>\n      <td>RL</td>\n      <td>65.0</td>\n      <td>8450.0</td>\n      <td>Pave</td>\n      <td>NotAvailable</td>\n      <td>Reg</td>\n      <td>Lvl</td>\n      <td>AllPub</td>\n      <td>Inside</td>\n      <td>Gtl</td>\n      <td>CollgCr</td>\n      <td>Norm</td>\n      <td>Norm</td>\n      <td>1Fam</td>\n      <td>2Story</td>\n      <td>7</td>\n      <td>5</td>\n      <td>2003.0</td>\n      <td>2003.0</td>\n      <td>Gable</td>\n      <td>CompShg</td>\n      <td>VinylSd</td>\n      <td>VinylSd</td>\n      <td>BrkFace</td>\n      <td>196.0</td>\n      <td>Gd</td>\n      <td>TA</td>\n      <td>PConc</td>\n      <td>Gd</td>\n      <td>TA</td>\n      <td>No</td>\n      <td>GLQ</td>\n      <td>Unf</td>\n      <td>856.0</td>\n      <td>GasA</td>\n      <td>Ex</td>\n      <td>Y</td>\n      <td>SBrkr</td>\n      <td>856.0</td>\n      <td>854.0</td>\n      <td>0.0</td>\n      <td>1710.0</td>\n      <td>1.0</td>\n      <td>0.0</td>\n      <td>2.0</td>\n      <td>1.0</td>\n      <td>3.0</td>\n      <td>1.0</td>\n      <td>Gd</td>\n      <td>8.0</td>\n      <td>Typ</td>\n      <td>0.0</td>\n      <td>nan</td>\n      <td>Attchd</td>\n      <td>RFn</td>\n      <td>2.0</td>\n      <td>548.0</td>\n      <td>TA</td>\n      <td>TA</td>\n      <td>Y</td>\n      <td>0.0</td>\n      <td>61.0</td>\n      <td>0.0</td>\n      <td>0.0</td>\n      <td>0.0</td>\n      <td>0.0</td>\n      <td>NotAvailable</td>\n      <td>NotAvailable</td>\n      <td>NotAvailable</td>\n      <td>0.0</td>\n      <td>2</td>\n      <td>2008.0</td>\n      <td>WD</td>\n      <td>Normal</td>\n      <td>208500.0</td>\n    </tr>\n    <tr>\n      <th>1</th>\n      <td>20</td>\n      <td>RL</td>\n      <td>80.0</td>\n      <td>9600.0</td>\n      <td>Pave</td>\n      <td>NotAvailable</td>\n      <td>Reg</td>\n      <td>Lvl</td>\n      <td>AllPub</td>\n      <td>FR2</td>\n      <td>Gtl</td>\n      <td>Veenker</td>\n      <td>Feedr</td>\n      <td>Norm</td>\n      <td>1Fam</td>\n      <td>1Story</td>\n      <td>6</td>\n      <td>8</td>\n      <td>1976.0</td>\n      <td>1976.0</td>\n      <td>Gable</td>\n      <td>CompShg</td>\n      <td>MetalSd</td>\n      <td>MetalSd</td>\n      <td>None</td>\n      <td>0.0</td>\n      <td>TA</td>\n      <td>TA</td>\n      <td>CBlock</td>\n      <td>Gd</td>\n      <td>TA</td>\n      <td>Gd</td>\n      <td>ALQ</td>\n      <td>Unf</td>\n      <td>1262.0</td>\n      <td>GasA</td>\n      <td>Ex</td>\n      <td>Y</td>\n      <td>SBrkr</td>\n      <td>1262.0</td>\n      <td>0.0</td>\n      <td>0.0</td>\n      <td>1262.0</td>\n      <td>0.0</td>\n      <td>1.0</td>\n      <td>2.0</td>\n      <td>0.0</td>\n      <td>3.0</td>\n      <td>1.0</td>\n      <td>TA</td>\n      <td>6.0</td>\n      <td>Typ</td>\n      <td>1.0</td>\n      <td>TA</td>\n      <td>Attchd</td>\n      <td>RFn</td>\n      <td>2.0</td>\n      <td>460.0</td>\n      <td>TA</td>\n      <td>TA</td>\n      <td>Y</td>\n      <td>298.0</td>\n      <td>0.0</td>\n      <td>0.0</td>\n      <td>0.0</td>\n      <td>0.0</td>\n      <td>0.0</td>\n      <td>NotAvailable</td>\n      <td>NotAvailable</td>\n      <td>NotAvailable</td>\n      <td>0.0</td>\n      <td>5</td>\n      <td>2007.0</td>\n      <td>WD</td>\n      <td>Normal</td>\n      <td>181500.0</td>\n    </tr>\n    <tr>\n      <th>2</th>\n      <td>60</td>\n      <td>RL</td>\n      <td>68.0</td>\n      <td>11250.0</td>\n      <td>Pave</td>\n      <td>NotAvailable</td>\n      <td>IR1</td>\n      <td>Lvl</td>\n      <td>AllPub</td>\n      <td>Inside</td>\n      <td>Gtl</td>\n      <td>CollgCr</td>\n      <td>Norm</td>\n      <td>Norm</td>\n      <td>1Fam</td>\n      <td>2Story</td>\n      <td>7</td>\n      <td>5</td>\n      <td>2001.0</td>\n      <td>2002.0</td>\n      <td>Gable</td>\n      <td>CompShg</td>\n      <td>VinylSd</td>\n      <td>VinylSd</td>\n      <td>BrkFace</td>\n      <td>162.0</td>\n      <td>Gd</td>\n      <td>TA</td>\n      <td>PConc</td>\n      <td>Gd</td>\n      <td>TA</td>\n      <td>Mn</td>\n      <td>GLQ</td>\n      <td>Unf</td>\n      <td>920.0</td>\n      <td>GasA</td>\n      <td>Ex</td>\n      <td>Y</td>\n      <td>SBrkr</td>\n      <td>920.0</td>\n      <td>866.0</td>\n      <td>0.0</td>\n      <td>1786.0</td>\n      <td>1.0</td>\n      <td>0.0</td>\n      <td>2.0</td>\n      <td>1.0</td>\n      <td>3.0</td>\n      <td>1.0</td>\n      <td>Gd</td>\n      <td>6.0</td>\n      <td>Typ</td>\n      <td>1.0</td>\n      <td>TA</td>\n      <td>Attchd</td>\n      <td>RFn</td>\n      <td>2.0</td>\n      <td>608.0</td>\n      <td>TA</td>\n      <td>TA</td>\n      <td>Y</td>\n      <td>0.0</td>\n      <td>42.0</td>\n      <td>0.0</td>\n      <td>0.0</td>\n      <td>0.0</td>\n      <td>0.0</td>\n      <td>NotAvailable</td>\n      <td>NotAvailable</td>\n      <td>NotAvailable</td>\n      <td>0.0</td>\n      <td>9</td>\n      <td>2008.0</td>\n      <td>WD</td>\n      <td>Normal</td>\n      <td>223500.0</td>\n    </tr>\n    <tr>\n      <th>3</th>\n      <td>70</td>\n      <td>RL</td>\n      <td>60.0</td>\n      <td>9550.0</td>\n      <td>Pave</td>\n      <td>NotAvailable</td>\n      <td>IR1</td>\n      <td>Lvl</td>\n      <td>AllPub</td>\n      <td>Corner</td>\n      <td>Gtl</td>\n      <td>Crawfor</td>\n      <td>Norm</td>\n      <td>Norm</td>\n      <td>1Fam</td>\n      <td>2Story</td>\n      <td>7</td>\n      <td>5</td>\n      <td>1915.0</td>\n      <td>1970.0</td>\n      <td>Gable</td>\n      <td>CompShg</td>\n      <td>Wd Sdng</td>\n      <td>Wd Shng</td>\n      <td>None</td>\n      <td>0.0</td>\n      <td>TA</td>\n      <td>TA</td>\n      <td>BrkTil</td>\n      <td>TA</td>\n      <td>Gd</td>\n      <td>No</td>\n      <td>ALQ</td>\n      <td>Unf</td>\n      <td>756.0</td>\n      <td>GasA</td>\n      <td>Gd</td>\n      <td>Y</td>\n      <td>SBrkr</td>\n      <td>961.0</td>\n      <td>756.0</td>\n      <td>0.0</td>\n      <td>1717.0</td>\n      <td>1.0</td>\n      <td>0.0</td>\n      <td>1.0</td>\n      <td>0.0</td>\n      <td>3.0</td>\n      <td>1.0</td>\n      <td>Gd</td>\n      <td>7.0</td>\n      <td>Typ</td>\n      <td>1.0</td>\n      <td>Gd</td>\n      <td>Detchd</td>\n      <td>Unf</td>\n      <td>3.0</td>\n      <td>642.0</td>\n      <td>TA</td>\n      <td>TA</td>\n      <td>Y</td>\n      <td>0.0</td>\n      <td>35.0</td>\n      <td>272.0</td>\n      <td>0.0</td>\n      <td>0.0</td>\n      <td>0.0</td>\n      <td>NotAvailable</td>\n      <td>NotAvailable</td>\n      <td>NotAvailable</td>\n      <td>0.0</td>\n      <td>2</td>\n      <td>2006.0</td>\n      <td>WD</td>\n      <td>Abnorml</td>\n      <td>140000.0</td>\n    </tr>\n    <tr>\n      <th>4</th>\n      <td>60</td>\n      <td>RL</td>\n      <td>84.0</td>\n      <td>14260.0</td>\n      <td>Pave</td>\n      <td>NotAvailable</td>\n      <td>IR1</td>\n      <td>Lvl</td>\n      <td>AllPub</td>\n      <td>FR2</td>\n      <td>Gtl</td>\n      <td>NoRidge</td>\n      <td>Norm</td>\n      <td>Norm</td>\n      <td>1Fam</td>\n      <td>2Story</td>\n      <td>8</td>\n      <td>5</td>\n      <td>2000.0</td>\n      <td>2000.0</td>\n      <td>Gable</td>\n      <td>CompShg</td>\n      <td>VinylSd</td>\n      <td>VinylSd</td>\n      <td>BrkFace</td>\n      <td>350.0</td>\n      <td>Gd</td>\n      <td>TA</td>\n      <td>PConc</td>\n      <td>Gd</td>\n      <td>TA</td>\n      <td>Av</td>\n      <td>GLQ</td>\n      <td>Unf</td>\n      <td>1145.0</td>\n      <td>GasA</td>\n      <td>Ex</td>\n      <td>Y</td>\n      <td>SBrkr</td>\n      <td>1145.0</td>\n      <td>1053.0</td>\n      <td>0.0</td>\n      <td>2198.0</td>\n      <td>1.0</td>\n      <td>0.0</td>\n      <td>2.0</td>\n      <td>1.0</td>\n      <td>4.0</td>\n      <td>1.0</td>\n      <td>Gd</td>\n      <td>9.0</td>\n      <td>Typ</td>\n      <td>1.0</td>\n      <td>TA</td>\n      <td>Attchd</td>\n      <td>RFn</td>\n      <td>3.0</td>\n      <td>836.0</td>\n      <td>TA</td>\n      <td>TA</td>\n      <td>Y</td>\n      <td>192.0</td>\n      <td>84.0</td>\n      <td>0.0</td>\n      <td>0.0</td>\n      <td>0.0</td>\n      <td>0.0</td>\n      <td>NotAvailable</td>\n      <td>NotAvailable</td>\n      <td>NotAvailable</td>\n      <td>0.0</td>\n      <td>12</td>\n      <td>2008.0</td>\n      <td>WD</td>\n      <td>Normal</td>\n      <td>250000.0</td>\n    </tr>\n  </tbody>\n</table>\n</div>"
          },
          "metadata": {}
        }
      ]
    },
    {
      "metadata": {
        "trusted": true,
        "_uuid": "cfc70ea0613ac359fc7fcf69f4fe5138c2d8159b"
      },
      "cell_type": "code",
      "source": "df.info()",
      "execution_count": 64,
      "outputs": [
        {
          "output_type": "stream",
          "text": "<class 'pandas.core.frame.DataFrame'>\nInt64Index: 2919 entries, 0 to 1458\nData columns (total 76 columns):\nMSSubClass       2919 non-null object\nMSZoning         2919 non-null object\nLotFrontage      2919 non-null float64\nLotArea          2919 non-null float64\nStreet           2919 non-null object\nAlley            2919 non-null object\nLotShape         2919 non-null object\nLandContour      2919 non-null object\nUtilities        2919 non-null object\nLotConfig        2919 non-null object\nLandSlope        2919 non-null object\nNeighborhood     2919 non-null object\nCondition1       2919 non-null object\nCondition2       2919 non-null object\nBldgType         2919 non-null object\nHouseStyle       2919 non-null object\nOverallQual      2919 non-null object\nOverallCond      2919 non-null object\nYearBuilt        2919 non-null float64\nYearRemodAdd     2919 non-null float64\nRoofStyle        2919 non-null object\nRoofMatl         2919 non-null object\nExterior1st      2919 non-null object\nExterior2nd      2919 non-null object\nMasVnrType       2919 non-null object\nMasVnrArea       2919 non-null float64\nExterQual        2919 non-null object\nExterCond        2919 non-null object\nFoundation       2919 non-null object\nBsmtQual         2919 non-null object\nBsmtCond         2919 non-null object\nBsmtExposure     2919 non-null object\nBsmtFinType1     2919 non-null object\nBsmtFinType2     2919 non-null object\nTotalBsmtSF      2919 non-null float64\nHeating          2919 non-null object\nHeatingQC        2919 non-null object\nCentralAir       2919 non-null object\nElectrical       2919 non-null object\n1stFlrSF         2919 non-null float64\n2ndFlrSF         2919 non-null float64\nLowQualFinSF     2919 non-null float64\nGrLivArea        2919 non-null float64\nBsmtFullBath     2919 non-null float64\nBsmtHalfBath     2919 non-null float64\nFullBath         2919 non-null float64\nHalfBath         2919 non-null float64\nBedroomAbvGr     2919 non-null float64\nKitchenAbvGr     2919 non-null float64\nKitchenQual      2919 non-null object\nTotRmsAbvGrd     2919 non-null float64\nFunctional       2919 non-null object\nFireplaces       2919 non-null float64\nFireplaceQu      2919 non-null object\nGarageType       2919 non-null object\nGarageFinish     2919 non-null object\nGarageCars       2919 non-null float64\nGarageArea       2919 non-null float64\nGarageQual       2919 non-null object\nGarageCond       2919 non-null object\nPavedDrive       2919 non-null object\nWoodDeckSF       2919 non-null float64\nOpenPorchSF      2919 non-null float64\nEnclosedPorch    2919 non-null float64\n3SsnPorch        2919 non-null float64\nScreenPorch      2919 non-null float64\nPoolArea         2919 non-null float64\nPoolQC           2919 non-null object\nFence            2919 non-null object\nMiscFeature      2919 non-null object\nMiscVal          2919 non-null float64\nMoSold           2919 non-null object\nYrSold           2919 non-null float64\nSaleType         2919 non-null object\nSaleCondition    2919 non-null object\nSalePrice        2919 non-null float64\ndtypes: float64(29), object(47)\nmemory usage: 1.7+ MB\n",
          "name": "stdout"
        }
      ]
    },
    {
      "metadata": {
        "trusted": true,
        "_uuid": "b6ca7e49c5dc6c21600fd68ddd89f3a84e39515d"
      },
      "cell_type": "code",
      "source": "def preProcessData(df, log=False):\n    \n    \n\n    #get dummies\n    if log:\n        print(\"Shape of the data set before pre processing : \", df.shape )\n        print(\"Categorical columns : \", list(df.select_dtypes(exclude=np.number)))\n    df = pd.get_dummies(df, dtype=np.float64)\n    \n    \n    \n    if log:\n        print(\"\\n\\nShape of the data set after pre processing : \", df.shape )\n        print(\"Columns in the data set are : \",list(df))\n\n    return df\n\ndf_prep = preProcessData(df)\ndf_prep.info()",
      "execution_count": 65,
      "outputs": [
        {
          "output_type": "stream",
          "text": "<class 'pandas.core.frame.DataFrame'>\nInt64Index: 2919 entries, 0 to 1458\nColumns: 351 entries, LotFrontage to SaleCondition_Partial\ndtypes: float64(351)\nmemory usage: 7.8 MB\n",
          "name": "stdout"
        }
      ]
    },
    {
      "metadata": {
        "_uuid": "1a805a9ca49b054c0eb6e50905effac11fc6eff6"
      },
      "cell_type": "markdown",
      "source": "https://stats.stackexchange.com/questions/130262/why-not-log-transform-all-variables-that-are-not-of-main-interest"
    },
    {
      "metadata": {
        "trusted": true,
        "_uuid": "ffb972e06356fa72461f0c193b82b7d44a5d7c91"
      },
      "cell_type": "code",
      "source": "from IPython import display\ndef transformTarget(df_temp, revert=False ):\n    '''df = df_temp.copy()\n    #df['new_variable'] = df.BedroomAbvGr * .1 + df.FullBath *.25 + df.HalfBath * .5 + df.BsmtFullBath *.75 + df.BsmtHalfBath * 1\n    #df['new_variable'] = df.BedroomAbvGr * .1 + df.FullBath *.25 + df.HalfBath * .5 + df.BsmtFullBath *.75 + df.BsmtHalfBath * .1\n    df['new_variable'] = df.BedroomAbvGr.apply(lambda x: x if x > 0 else 1)\n    #print(\"new_variable calculated\")\n    #display.display(df[df.new_variable.isna()])\n    \n    if not revert:\n        df['sales_per_new'] = df['SalePrice']/ df.new_variable\n        #display.display(df[df.sales_per_new.isna()])\n        y = np.array(df['sales_per_new'].apply( lambda x: math.log(x)))\n        return y\n    \n    df['sales_per_new'] = df['SalePrice']* df.new_variable\n    #print(\"sales_per_new calculated\")\n    #display.display(df[df.sales_per_new.isna()])'''\n    \n    return np.log(df_temp['SalePrice'])\n    ",
      "execution_count": 70,
      "outputs": []
    },
    {
      "metadata": {
        "trusted": true,
        "_uuid": "4755fe3335b956ba6d54bb079b984368cc3a6f6c"
      },
      "cell_type": "code",
      "source": "def newBoxCoxTranformation(df_temp,target,testFile=False, log=False):\n    df = df_temp.copy()\n    #assuming that only numerical features are presented\n    if log:\n        print(\"Shape of the dataset initial : \", df.shape)\n    \n    if not testFile:\n        df =df[df.SalePrice >0]\n        if log:\n            print(\"Shape of the dataset before transformation : \", df.shape)\n        \n        y = transformTarget(df)\n        X= df.drop([target],axis = 1)\n        #X=df.drop(target, axis=1)\n        x_columns = list(X)\n        X = preprocessing.MinMaxScaler(feature_range=(1, 2)).fit_transform(X)\n        X_testx = preprocessing.MinMaxScaler(feature_range=(1, 2)).fit_transform(X,y)\n        X_testxx = preprocessing.MinMaxScaler(feature_range=(1, 2)).fit_transform(X,df.SalePrice)\n        print(np.unique(X == X_testx))\n        print(np.unique(X == X_testxx))\n        print(np.unique(X_testx == X_testxx))\n        X = pd.DataFrame(X, columns=x_columns)\n        \n        for c in list(X):\n            if len(X[c].unique()) in  [1,2]:\n                if log:\n                    print(\"Skipping Transformation for \", c, \"because unique values are :\",X[c].unique())\n            else:\n                if log:\n                    print(\"Boxcoxing : \", c)\n                X[c] = stats.boxcox(X[c])[0]\n        \n        X = preprocessing.MinMaxScaler(feature_range=(1, 2)).fit_transform(X)\n        #X = X.values\n        if log:\n            print(\"Shape of the dataset after transformation : \", X.shape, y.shape)\n        return X,y\n    else:\n        df = df[df.SalePrice == 0.0]\n        if log:\n            print(\"Shape of the dataset before transformation : \", df.shape)\n        X=df.drop(target,axis = 1)\n        x_columns = list(X)\n        X = preprocessing.MinMaxScaler(feature_range=(1, 2)).fit_transform(X)\n        \n        X = pd.DataFrame(X, columns=x_columns)\n        for c in list(X):\n            if len(X[c].unique()) in  [1,2]:\n                if log:\n                    print(\"Skipping Transformation for \", c, \"because unique values are :\",X[c].unique())\n            else:\n                if log:\n                    print(\"Boxcoxing : \", c)\n                X[c] = stats.boxcox(X[c])[0]\n        \n        \n        #X = preprocessing.power_transform( X, method='box-cox')\n        X = preprocessing.MinMaxScaler(feature_range=(1, 2)).fit_transform(X)\n        #X = X.values\n        if log:\n            print(\"Shape of the dataset after transformation : \", X.shape)\n        return X\n        \n    \n\nX = newBoxCoxTranformation(df_prep,'SalePrice',True,False)  \nX,y = newBoxCoxTranformation(df_prep,'SalePrice',False,False)",
      "execution_count": null,
      "outputs": []
    },
    {
      "metadata": {
        "trusted": true,
        "_uuid": "5fade6388778969408a988fae1972df3b453a876"
      },
      "cell_type": "code",
      "source": "X_train, X_test, y_train, y_test = train_test_split(X,y, test_size=0.5, random_state=random.randint(1,500))#, stratify=df.BldgType)",
      "execution_count": 72,
      "outputs": []
    },
    {
      "metadata": {
        "trusted": true,
        "_uuid": "c481d90f4fe0e0193c6640c0c08ded36ea776920"
      },
      "cell_type": "code",
      "source": "reg = XGBRegressor(max_depth=5,n_estimator=100, \n                   #colsample_bytree=.25,\n                   #colsample_bylevel=1,\n                   reg_alpha =.5,\n                   reg_lambda=0.5, \n                   learning_rate=0.1,                   \n                  )\nreg.fit(X_train,y_train)\nreg.score(X_test,y_test)",
      "execution_count": 73,
      "outputs": [
        {
          "output_type": "execute_result",
          "execution_count": 73,
          "data": {
            "text/plain": "0.875133298532814"
          },
          "metadata": {}
        }
      ]
    },
    {
      "metadata": {
        "trusted": true,
        "_uuid": "a8da4789c20d447c150607bebd18b21ed73e8bdc"
      },
      "cell_type": "code",
      "source": "np.sqrt(mean_squared_log_error(y_test, reg.predict(X_test)))",
      "execution_count": 74,
      "outputs": [
        {
          "output_type": "execute_result",
          "execution_count": 74,
          "data": {
            "text/plain": "0.01097417477892352"
          },
          "metadata": {}
        }
      ]
    },
    {
      "metadata": {
        "trusted": true,
        "_uuid": "184a80c1ae678e85eda56d4faa5047ffbaae5321"
      },
      "cell_type": "code",
      "source": "np.sqrt(mean_squared_log_error(np.exp(y_test), np.exp(reg.predict(X_test))))",
      "execution_count": 75,
      "outputs": [
        {
          "output_type": "execute_result",
          "execution_count": 75,
          "data": {
            "text/plain": "0.14181662582705512"
          },
          "metadata": {}
        }
      ]
    },
    {
      "metadata": {
        "trusted": true,
        "_uuid": "de6dfc7cc02217e7ffdbf9d73da406fe993798aa"
      },
      "cell_type": "code",
      "source": "reg.fit(X,y)",
      "execution_count": 76,
      "outputs": [
        {
          "output_type": "execute_result",
          "execution_count": 76,
          "data": {
            "text/plain": "XGBRegressor(base_score=0.5, booster='gbtree', colsample_bylevel=1,\n       colsample_bytree=1, gamma=0, learning_rate=0.1, max_delta_step=0,\n       max_depth=5, min_child_weight=1, missing=None, n_estimator=100,\n       n_estimators=100, n_jobs=1, nthread=None, objective='reg:linear',\n       random_state=0, reg_alpha=0.5, reg_lambda=0.5, scale_pos_weight=1,\n       seed=None, silent=True, subsample=1)"
          },
          "metadata": {}
        }
      ]
    },
    {
      "metadata": {
        "trusted": true,
        "_uuid": "ba35c7645edf1637935e3e900f8570fa6e850049"
      },
      "cell_type": "code",
      "source": "reg",
      "execution_count": 77,
      "outputs": [
        {
          "output_type": "execute_result",
          "execution_count": 77,
          "data": {
            "text/plain": "XGBRegressor(base_score=0.5, booster='gbtree', colsample_bylevel=1,\n       colsample_bytree=1, gamma=0, learning_rate=0.1, max_delta_step=0,\n       max_depth=5, min_child_weight=1, missing=None, n_estimator=100,\n       n_estimators=100, n_jobs=1, nthread=None, objective='reg:linear',\n       random_state=0, reg_alpha=0.5, reg_lambda=0.5, scale_pos_weight=1,\n       seed=None, silent=True, subsample=1)"
          },
          "metadata": {}
        }
      ]
    },
    {
      "metadata": {
        "_uuid": "7edf959b8aae25f97d9e71f36c400f7a8465f1cf"
      },
      "cell_type": "markdown",
      "source": "##### We need to have different pre-processing logic to test data. We will come back to it little later."
    },
    {
      "metadata": {
        "trusted": true,
        "_uuid": "a5262ac7909e28889a0aaba1564ee310caa43488"
      },
      "cell_type": "code",
      "source": "def checkTheTestFile(reg):\n    df_test = pd.read_csv(test_File)\n    df_test['SalePrice'] = 0.0\n    \n    \n    \n    df_train =  pd.read_csv(train_File)\n    df_concat = pd.concat([df_train,df_test])\n\n    #print(df_test[df_test.TotalBsmtSF.isna()])\n    #return\n    df = giveMeWrangledData(df_concat,True)\n    \n    #print(df.info())\n    df = preProcessData(df)\n    df_test_dummy = df.copy()\n    df_test_dummy = df_test_dummy[df_test_dummy.SalePrice == 0]\n    #print(df.info())\n    X = newBoxCoxTranformation(df,'SalePrice',True)\n    #print(np.sqrt(mean_squared_log_error(y, reg.predict(X))))\n    \n    df_test_dummy['SalePrice'] = np.exp(reg.predict(X))\n    #display.display(df_test_dummy[df_test_dummy['SalePrice'].isna()])\n    df_test['SalePrice'] = transformTarget(df_test_dummy,True)\n    #display.display(df_test[df_test['SalePrice'].isna()])\n    \n    return df_test, X, reg.predict(X)\ndf_test, X_dummy, y_dummy= checkTheTestFile(reg)",
      "execution_count": 78,
      "outputs": []
    },
    {
      "metadata": {
        "trusted": true,
        "_uuid": "97bcc0b7e677d6d0bb1216006058a45837eacfa6"
      },
      "cell_type": "code",
      "source": "df_test.SalePrice.describe()",
      "execution_count": 79,
      "outputs": [
        {
          "output_type": "execute_result",
          "execution_count": 79,
          "data": {
            "text/plain": "count    1459.000000\nmean       11.993422\nstd         0.390503\nmin        10.668795\n25%        11.739459\n50%        11.948544\n75%        12.238442\nmax        13.113459\nName: SalePrice, dtype: float64"
          },
          "metadata": {}
        }
      ]
    },
    {
      "metadata": {
        "trusted": true,
        "_uuid": "1f6e94c180a6911a28cda0d3cd6d19a8f1be9691"
      },
      "cell_type": "code",
      "source": "df_test[df_test.SalePrice.isna()]",
      "execution_count": 80,
      "outputs": [
        {
          "output_type": "execute_result",
          "execution_count": 80,
          "data": {
            "text/plain": "Empty DataFrame\nColumns: [Id, MSSubClass, MSZoning, LotFrontage, LotArea, Street, Alley, LotShape, LandContour, Utilities, LotConfig, LandSlope, Neighborhood, Condition1, Condition2, BldgType, HouseStyle, OverallQual, OverallCond, YearBuilt, YearRemodAdd, RoofStyle, RoofMatl, Exterior1st, Exterior2nd, MasVnrType, MasVnrArea, ExterQual, ExterCond, Foundation, BsmtQual, BsmtCond, BsmtExposure, BsmtFinType1, BsmtFinSF1, BsmtFinType2, BsmtFinSF2, BsmtUnfSF, TotalBsmtSF, Heating, HeatingQC, CentralAir, Electrical, 1stFlrSF, 2ndFlrSF, LowQualFinSF, GrLivArea, BsmtFullBath, BsmtHalfBath, FullBath, HalfBath, BedroomAbvGr, KitchenAbvGr, KitchenQual, TotRmsAbvGrd, Functional, Fireplaces, FireplaceQu, GarageType, GarageYrBlt, GarageFinish, GarageCars, GarageArea, GarageQual, GarageCond, PavedDrive, WoodDeckSF, OpenPorchSF, EnclosedPorch, 3SsnPorch, ScreenPorch, PoolArea, PoolQC, Fence, MiscFeature, MiscVal, MoSold, YrSold, SaleType, SaleCondition, SalePrice]\nIndex: []\n\n[0 rows x 81 columns]",
            "text/html": "<div>\n<style scoped>\n    .dataframe tbody tr th:only-of-type {\n        vertical-align: middle;\n    }\n\n    .dataframe tbody tr th {\n        vertical-align: top;\n    }\n\n    .dataframe thead th {\n        text-align: right;\n    }\n</style>\n<table border=\"1\" class=\"dataframe\">\n  <thead>\n    <tr style=\"text-align: right;\">\n      <th></th>\n      <th>Id</th>\n      <th>MSSubClass</th>\n      <th>MSZoning</th>\n      <th>LotFrontage</th>\n      <th>LotArea</th>\n      <th>Street</th>\n      <th>Alley</th>\n      <th>LotShape</th>\n      <th>LandContour</th>\n      <th>Utilities</th>\n      <th>LotConfig</th>\n      <th>LandSlope</th>\n      <th>Neighborhood</th>\n      <th>Condition1</th>\n      <th>Condition2</th>\n      <th>BldgType</th>\n      <th>HouseStyle</th>\n      <th>OverallQual</th>\n      <th>OverallCond</th>\n      <th>YearBuilt</th>\n      <th>YearRemodAdd</th>\n      <th>RoofStyle</th>\n      <th>RoofMatl</th>\n      <th>Exterior1st</th>\n      <th>Exterior2nd</th>\n      <th>MasVnrType</th>\n      <th>MasVnrArea</th>\n      <th>ExterQual</th>\n      <th>ExterCond</th>\n      <th>Foundation</th>\n      <th>BsmtQual</th>\n      <th>BsmtCond</th>\n      <th>BsmtExposure</th>\n      <th>BsmtFinType1</th>\n      <th>BsmtFinSF1</th>\n      <th>BsmtFinType2</th>\n      <th>BsmtFinSF2</th>\n      <th>BsmtUnfSF</th>\n      <th>TotalBsmtSF</th>\n      <th>Heating</th>\n      <th>...</th>\n      <th>CentralAir</th>\n      <th>Electrical</th>\n      <th>1stFlrSF</th>\n      <th>2ndFlrSF</th>\n      <th>LowQualFinSF</th>\n      <th>GrLivArea</th>\n      <th>BsmtFullBath</th>\n      <th>BsmtHalfBath</th>\n      <th>FullBath</th>\n      <th>HalfBath</th>\n      <th>BedroomAbvGr</th>\n      <th>KitchenAbvGr</th>\n      <th>KitchenQual</th>\n      <th>TotRmsAbvGrd</th>\n      <th>Functional</th>\n      <th>Fireplaces</th>\n      <th>FireplaceQu</th>\n      <th>GarageType</th>\n      <th>GarageYrBlt</th>\n      <th>GarageFinish</th>\n      <th>GarageCars</th>\n      <th>GarageArea</th>\n      <th>GarageQual</th>\n      <th>GarageCond</th>\n      <th>PavedDrive</th>\n      <th>WoodDeckSF</th>\n      <th>OpenPorchSF</th>\n      <th>EnclosedPorch</th>\n      <th>3SsnPorch</th>\n      <th>ScreenPorch</th>\n      <th>PoolArea</th>\n      <th>PoolQC</th>\n      <th>Fence</th>\n      <th>MiscFeature</th>\n      <th>MiscVal</th>\n      <th>MoSold</th>\n      <th>YrSold</th>\n      <th>SaleType</th>\n      <th>SaleCondition</th>\n      <th>SalePrice</th>\n    </tr>\n  </thead>\n  <tbody>\n  </tbody>\n</table>\n</div>"
          },
          "metadata": {}
        }
      ]
    },
    {
      "metadata": {
        "trusted": true,
        "_uuid": "3e685e60b2685c047be65fc8cd4533e1a977a672"
      },
      "cell_type": "code",
      "source": "df_test[df_test.SalePrice == 0]",
      "execution_count": 81,
      "outputs": [
        {
          "output_type": "execute_result",
          "execution_count": 81,
          "data": {
            "text/plain": "Empty DataFrame\nColumns: [Id, MSSubClass, MSZoning, LotFrontage, LotArea, Street, Alley, LotShape, LandContour, Utilities, LotConfig, LandSlope, Neighborhood, Condition1, Condition2, BldgType, HouseStyle, OverallQual, OverallCond, YearBuilt, YearRemodAdd, RoofStyle, RoofMatl, Exterior1st, Exterior2nd, MasVnrType, MasVnrArea, ExterQual, ExterCond, Foundation, BsmtQual, BsmtCond, BsmtExposure, BsmtFinType1, BsmtFinSF1, BsmtFinType2, BsmtFinSF2, BsmtUnfSF, TotalBsmtSF, Heating, HeatingQC, CentralAir, Electrical, 1stFlrSF, 2ndFlrSF, LowQualFinSF, GrLivArea, BsmtFullBath, BsmtHalfBath, FullBath, HalfBath, BedroomAbvGr, KitchenAbvGr, KitchenQual, TotRmsAbvGrd, Functional, Fireplaces, FireplaceQu, GarageType, GarageYrBlt, GarageFinish, GarageCars, GarageArea, GarageQual, GarageCond, PavedDrive, WoodDeckSF, OpenPorchSF, EnclosedPorch, 3SsnPorch, ScreenPorch, PoolArea, PoolQC, Fence, MiscFeature, MiscVal, MoSold, YrSold, SaleType, SaleCondition, SalePrice]\nIndex: []\n\n[0 rows x 81 columns]",
            "text/html": "<div>\n<style scoped>\n    .dataframe tbody tr th:only-of-type {\n        vertical-align: middle;\n    }\n\n    .dataframe tbody tr th {\n        vertical-align: top;\n    }\n\n    .dataframe thead th {\n        text-align: right;\n    }\n</style>\n<table border=\"1\" class=\"dataframe\">\n  <thead>\n    <tr style=\"text-align: right;\">\n      <th></th>\n      <th>Id</th>\n      <th>MSSubClass</th>\n      <th>MSZoning</th>\n      <th>LotFrontage</th>\n      <th>LotArea</th>\n      <th>Street</th>\n      <th>Alley</th>\n      <th>LotShape</th>\n      <th>LandContour</th>\n      <th>Utilities</th>\n      <th>LotConfig</th>\n      <th>LandSlope</th>\n      <th>Neighborhood</th>\n      <th>Condition1</th>\n      <th>Condition2</th>\n      <th>BldgType</th>\n      <th>HouseStyle</th>\n      <th>OverallQual</th>\n      <th>OverallCond</th>\n      <th>YearBuilt</th>\n      <th>YearRemodAdd</th>\n      <th>RoofStyle</th>\n      <th>RoofMatl</th>\n      <th>Exterior1st</th>\n      <th>Exterior2nd</th>\n      <th>MasVnrType</th>\n      <th>MasVnrArea</th>\n      <th>ExterQual</th>\n      <th>ExterCond</th>\n      <th>Foundation</th>\n      <th>BsmtQual</th>\n      <th>BsmtCond</th>\n      <th>BsmtExposure</th>\n      <th>BsmtFinType1</th>\n      <th>BsmtFinSF1</th>\n      <th>BsmtFinType2</th>\n      <th>BsmtFinSF2</th>\n      <th>BsmtUnfSF</th>\n      <th>TotalBsmtSF</th>\n      <th>Heating</th>\n      <th>...</th>\n      <th>CentralAir</th>\n      <th>Electrical</th>\n      <th>1stFlrSF</th>\n      <th>2ndFlrSF</th>\n      <th>LowQualFinSF</th>\n      <th>GrLivArea</th>\n      <th>BsmtFullBath</th>\n      <th>BsmtHalfBath</th>\n      <th>FullBath</th>\n      <th>HalfBath</th>\n      <th>BedroomAbvGr</th>\n      <th>KitchenAbvGr</th>\n      <th>KitchenQual</th>\n      <th>TotRmsAbvGrd</th>\n      <th>Functional</th>\n      <th>Fireplaces</th>\n      <th>FireplaceQu</th>\n      <th>GarageType</th>\n      <th>GarageYrBlt</th>\n      <th>GarageFinish</th>\n      <th>GarageCars</th>\n      <th>GarageArea</th>\n      <th>GarageQual</th>\n      <th>GarageCond</th>\n      <th>PavedDrive</th>\n      <th>WoodDeckSF</th>\n      <th>OpenPorchSF</th>\n      <th>EnclosedPorch</th>\n      <th>3SsnPorch</th>\n      <th>ScreenPorch</th>\n      <th>PoolArea</th>\n      <th>PoolQC</th>\n      <th>Fence</th>\n      <th>MiscFeature</th>\n      <th>MiscVal</th>\n      <th>MoSold</th>\n      <th>YrSold</th>\n      <th>SaleType</th>\n      <th>SaleCondition</th>\n      <th>SalePrice</th>\n    </tr>\n  </thead>\n  <tbody>\n  </tbody>\n</table>\n</div>"
          },
          "metadata": {}
        }
      ]
    },
    {
      "metadata": {
        "trusted": true,
        "_uuid": "b4b1a60a7d572f5520b9d5a15d6cad6705c2fb3b"
      },
      "cell_type": "code",
      "source": "df_test[['Id','SalePrice']]",
      "execution_count": 82,
      "outputs": [
        {
          "output_type": "execute_result",
          "execution_count": 82,
          "data": {
            "text/plain": "        Id  SalePrice\n0     1461  11.718786\n1     1462  11.926608\n2     1463  12.164692\n3     1464  12.217786\n4     1465  12.082026\n5     1466  12.098408\n6     1467  12.033278\n7     1468  12.015747\n8     1469  12.180098\n9     1470  11.720106\n10    1471  12.208347\n11    1472  11.348343\n12    1473  11.470062\n13    1474  11.950297\n14    1475  11.681388\n15    1476  12.852469\n16    1477  12.373312\n17    1478  12.571188\n18    1479  12.705953\n19    1480  13.093925\n20    1481  12.757442\n21    1482  12.181170\n22    1483  12.112896\n23    1484  12.019472\n24    1485  12.021957\n25    1486  12.137824\n26    1487  12.779840\n27    1488  12.386382\n28    1489  12.192685\n29    1490  12.349236\n...    ...        ...\n1429  2890  11.321277\n1430  2891  11.796951\n1431  2892  10.756544\n1432  2893  11.179261\n1433  2894  10.701101\n1434  2895  12.550666\n1435  2896  12.475316\n1436  2897  12.239802\n1437  2898  11.870951\n1438  2899  12.242655\n1439  2900  11.958251\n1440  2901  12.300775\n1441  2902  12.171093\n1442  2903  12.742908\n1443  2904  12.702000\n1444  2905  11.607100\n1445  2906  12.074214\n1446  2907  11.596951\n1447  2908  11.762283\n1448  2909  11.879971\n1449  2910  11.234084\n1450  2911  11.453688\n1451  2912  11.856124\n1452  2913  11.374778\n1453  2914  11.319692\n1454  2915  11.353445\n1455  2916  11.380430\n1456  2917  11.961708\n1457  2918  11.727816\n1458  2919  12.302521\n\n[1459 rows x 2 columns]",
            "text/html": "<div>\n<style scoped>\n    .dataframe tbody tr th:only-of-type {\n        vertical-align: middle;\n    }\n\n    .dataframe tbody tr th {\n        vertical-align: top;\n    }\n\n    .dataframe thead th {\n        text-align: right;\n    }\n</style>\n<table border=\"1\" class=\"dataframe\">\n  <thead>\n    <tr style=\"text-align: right;\">\n      <th></th>\n      <th>Id</th>\n      <th>SalePrice</th>\n    </tr>\n  </thead>\n  <tbody>\n    <tr>\n      <th>0</th>\n      <td>1461</td>\n      <td>11.718786</td>\n    </tr>\n    <tr>\n      <th>1</th>\n      <td>1462</td>\n      <td>11.926608</td>\n    </tr>\n    <tr>\n      <th>2</th>\n      <td>1463</td>\n      <td>12.164692</td>\n    </tr>\n    <tr>\n      <th>3</th>\n      <td>1464</td>\n      <td>12.217786</td>\n    </tr>\n    <tr>\n      <th>4</th>\n      <td>1465</td>\n      <td>12.082026</td>\n    </tr>\n    <tr>\n      <th>5</th>\n      <td>1466</td>\n      <td>12.098408</td>\n    </tr>\n    <tr>\n      <th>6</th>\n      <td>1467</td>\n      <td>12.033278</td>\n    </tr>\n    <tr>\n      <th>7</th>\n      <td>1468</td>\n      <td>12.015747</td>\n    </tr>\n    <tr>\n      <th>8</th>\n      <td>1469</td>\n      <td>12.180098</td>\n    </tr>\n    <tr>\n      <th>9</th>\n      <td>1470</td>\n      <td>11.720106</td>\n    </tr>\n    <tr>\n      <th>10</th>\n      <td>1471</td>\n      <td>12.208347</td>\n    </tr>\n    <tr>\n      <th>11</th>\n      <td>1472</td>\n      <td>11.348343</td>\n    </tr>\n    <tr>\n      <th>12</th>\n      <td>1473</td>\n      <td>11.470062</td>\n    </tr>\n    <tr>\n      <th>13</th>\n      <td>1474</td>\n      <td>11.950297</td>\n    </tr>\n    <tr>\n      <th>14</th>\n      <td>1475</td>\n      <td>11.681388</td>\n    </tr>\n    <tr>\n      <th>15</th>\n      <td>1476</td>\n      <td>12.852469</td>\n    </tr>\n    <tr>\n      <th>16</th>\n      <td>1477</td>\n      <td>12.373312</td>\n    </tr>\n    <tr>\n      <th>17</th>\n      <td>1478</td>\n      <td>12.571188</td>\n    </tr>\n    <tr>\n      <th>18</th>\n      <td>1479</td>\n      <td>12.705953</td>\n    </tr>\n    <tr>\n      <th>19</th>\n      <td>1480</td>\n      <td>13.093925</td>\n    </tr>\n    <tr>\n      <th>20</th>\n      <td>1481</td>\n      <td>12.757442</td>\n    </tr>\n    <tr>\n      <th>21</th>\n      <td>1482</td>\n      <td>12.181170</td>\n    </tr>\n    <tr>\n      <th>22</th>\n      <td>1483</td>\n      <td>12.112896</td>\n    </tr>\n    <tr>\n      <th>23</th>\n      <td>1484</td>\n      <td>12.019472</td>\n    </tr>\n    <tr>\n      <th>24</th>\n      <td>1485</td>\n      <td>12.021957</td>\n    </tr>\n    <tr>\n      <th>25</th>\n      <td>1486</td>\n      <td>12.137824</td>\n    </tr>\n    <tr>\n      <th>26</th>\n      <td>1487</td>\n      <td>12.779840</td>\n    </tr>\n    <tr>\n      <th>27</th>\n      <td>1488</td>\n      <td>12.386382</td>\n    </tr>\n    <tr>\n      <th>28</th>\n      <td>1489</td>\n      <td>12.192685</td>\n    </tr>\n    <tr>\n      <th>29</th>\n      <td>1490</td>\n      <td>12.349236</td>\n    </tr>\n    <tr>\n      <th>...</th>\n      <td>...</td>\n      <td>...</td>\n    </tr>\n    <tr>\n      <th>1429</th>\n      <td>2890</td>\n      <td>11.321277</td>\n    </tr>\n    <tr>\n      <th>1430</th>\n      <td>2891</td>\n      <td>11.796951</td>\n    </tr>\n    <tr>\n      <th>1431</th>\n      <td>2892</td>\n      <td>10.756544</td>\n    </tr>\n    <tr>\n      <th>1432</th>\n      <td>2893</td>\n      <td>11.179261</td>\n    </tr>\n    <tr>\n      <th>1433</th>\n      <td>2894</td>\n      <td>10.701101</td>\n    </tr>\n    <tr>\n      <th>1434</th>\n      <td>2895</td>\n      <td>12.550666</td>\n    </tr>\n    <tr>\n      <th>1435</th>\n      <td>2896</td>\n      <td>12.475316</td>\n    </tr>\n    <tr>\n      <th>1436</th>\n      <td>2897</td>\n      <td>12.239802</td>\n    </tr>\n    <tr>\n      <th>1437</th>\n      <td>2898</td>\n      <td>11.870951</td>\n    </tr>\n    <tr>\n      <th>1438</th>\n      <td>2899</td>\n      <td>12.242655</td>\n    </tr>\n    <tr>\n      <th>1439</th>\n      <td>2900</td>\n      <td>11.958251</td>\n    </tr>\n    <tr>\n      <th>1440</th>\n      <td>2901</td>\n      <td>12.300775</td>\n    </tr>\n    <tr>\n      <th>1441</th>\n      <td>2902</td>\n      <td>12.171093</td>\n    </tr>\n    <tr>\n      <th>1442</th>\n      <td>2903</td>\n      <td>12.742908</td>\n    </tr>\n    <tr>\n      <th>1443</th>\n      <td>2904</td>\n      <td>12.702000</td>\n    </tr>\n    <tr>\n      <th>1444</th>\n      <td>2905</td>\n      <td>11.607100</td>\n    </tr>\n    <tr>\n      <th>1445</th>\n      <td>2906</td>\n      <td>12.074214</td>\n    </tr>\n    <tr>\n      <th>1446</th>\n      <td>2907</td>\n      <td>11.596951</td>\n    </tr>\n    <tr>\n      <th>1447</th>\n      <td>2908</td>\n      <td>11.762283</td>\n    </tr>\n    <tr>\n      <th>1448</th>\n      <td>2909</td>\n      <td>11.879971</td>\n    </tr>\n    <tr>\n      <th>1449</th>\n      <td>2910</td>\n      <td>11.234084</td>\n    </tr>\n    <tr>\n      <th>1450</th>\n      <td>2911</td>\n      <td>11.453688</td>\n    </tr>\n    <tr>\n      <th>1451</th>\n      <td>2912</td>\n      <td>11.856124</td>\n    </tr>\n    <tr>\n      <th>1452</th>\n      <td>2913</td>\n      <td>11.374778</td>\n    </tr>\n    <tr>\n      <th>1453</th>\n      <td>2914</td>\n      <td>11.319692</td>\n    </tr>\n    <tr>\n      <th>1454</th>\n      <td>2915</td>\n      <td>11.353445</td>\n    </tr>\n    <tr>\n      <th>1455</th>\n      <td>2916</td>\n      <td>11.380430</td>\n    </tr>\n    <tr>\n      <th>1456</th>\n      <td>2917</td>\n      <td>11.961708</td>\n    </tr>\n    <tr>\n      <th>1457</th>\n      <td>2918</td>\n      <td>11.727816</td>\n    </tr>\n    <tr>\n      <th>1458</th>\n      <td>2919</td>\n      <td>12.302521</td>\n    </tr>\n  </tbody>\n</table>\n<p>1459 rows × 2 columns</p>\n</div>"
          },
          "metadata": {}
        }
      ]
    },
    {
      "metadata": {
        "trusted": true,
        "_uuid": "add99d35892adf15e435ee2289eeae6309ecbb39"
      },
      "cell_type": "code",
      "source": "df_test[['Id','SalePrice']].to_csv('submission.csv',index=False)",
      "execution_count": 83,
      "outputs": []
    },
    {
      "metadata": {
        "_uuid": "9fc8f97f810bde8b8156ec7d805ff4bc164ceb1d"
      },
      "cell_type": "markdown",
      "source": "##### I got Kaggle Rank of 2539/4463 with RMSLE =0.14357\n##### As on 1/17/2019 : 9:06PM IST\n* 0.13501 ==> 2040 \n* 0.13252 ==> 1865\n* 0.13002 ==> 1704\n* 0.12658 ==> 1500\n* 0.12351 ==> 1250\n* 0.12081 ==> 1000\n* 0.11572 ==> 500\n* 0.11475 ==> 250\n* 0.11310 ==> 100\n* 0.10985 ==> 50\n* 0.10973 ==> 25\n* 0.10845 ==> 10\n* 0.08021 ==> 5\n* 0.00000 ==> 1"
    },
    {
      "metadata": {
        "_uuid": "239afef2151c918dba6e55e8953533963f4b794c"
      },
      "cell_type": "markdown",
      "source": "##### Now that I know around what score gets what rank; can we have a function which would what would be testing score ?"
    },
    {
      "metadata": {
        "_uuid": "f1cf3ab0ab8f51dbea7eb474a40fa6e5166f7101"
      },
      "cell_type": "markdown",
      "source": "##### Logic is to predict first the testing samples. Later use that for training and predict the initial training data set. We would then have actual and predicted SalePrices with which we can calculated the RMSLE."
    },
    {
      "metadata": {
        "_uuid": "04a364da82d203e9ab6e14363bdcc3ef5db2d66d"
      },
      "cell_type": "markdown",
      "source": "##### Would this logic work ? let us try for our case now and compare that with Kaggle result....Finger crossed :)"
    },
    {
      "metadata": {
        "trusted": true,
        "_uuid": "dd7f6c4a4c973389d46564509706a61e435dccc8"
      },
      "cell_type": "code",
      "source": "def forCrossValidationStratifiedShuffleSplit(df):\n    sss = StratifiedShuffleSplit(n_splits=n_splits, test_size=test_size, random_state=random_state)\n    #print(\"Number of Splits configured :\", sss.get_n_splits(df, df.BldgType))\n    \n    for train_index, test_index in sss.split(df, df.BldgType):\n        yield train_index, test_index\n        \n    for train_index, test_index in sss.split(df, df.OverallQual):\n        yield train_index, test_index",
      "execution_count": 84,
      "outputs": []
    },
    {
      "metadata": {
        "trusted": true,
        "_uuid": "ed74572f3252cae125da18849bbc4dcc56c58f09"
      },
      "cell_type": "code",
      "source": "def crossValidationScoring(reg,X,y):\n    \n    return np.sqrt(mean_squared_log_error(np.exp(y), \n                                          np.exp(reg.predict(X))\n                                          ))\nmean_temp_rmsle = np.mean(cross_val_score(reg,X,y,cv= 5,scoring='neg_mean_squared_log_error'))\nprint(\"RMSE with without target variable transformation : \", np.sqrt(mean_temp_rmsle * -1))\n\nmean_temp_rmsle = np.mean(cross_val_score(reg, X, y,\n                                          cv= forCrossValidationStratifiedShuffleSplit(df_train),\n                                          scoring=crossValidationScoring))\nprint(\"RMSE with post target variable transformation : \", mean_temp_rmsle)",
      "execution_count": 85,
      "outputs": [
        {
          "output_type": "stream",
          "text": "RMSE with without target variable transformation :  0.010224298656041452\nRMSE with post target variable transformation :  0.1435299284956907\n",
          "name": "stdout"
        }
      ]
    },
    {
      "metadata": {
        "trusted": true,
        "_uuid": "35b455fcb77c6581050348fb8eab83e9a4573606"
      },
      "cell_type": "code",
      "source": "def doGridSearch():\n    \n    start_time = datetime.datetime.now()\n    \n    df_train = pd.read_csv(train_File)\n    df_test = pd.read_csv(test_File)\n    df_test['SalePrice'] = 0\n    df_concat = pd.concat([df_train,df_test])\n    \n    df = giveMeWrangledData(df_concat)\n    df_prep = preProcessData(df)\n    \n    X,y = newBoxCoxTranformation(df_prep,'SalePrice',False,False)\n    \n    score_list = []\n    for i in range(max_depth_min,max_depth_max):\n        for j in range(n_estimator_min,n_estimator_max,100):\n            loop_start = datetime.datetime.now()\n            for bytree in [0.25, 0.5, 0.75,1]:\n                for bylevel in [0.25, 0.5, 0.75,1]:\n\n                    #reg = XGBRegressor(max_depth=i, n_estimators=j)\n                    reg=XGBRegressor(max_depth=i, \n                         n_estimator=j,\n                         colsample_bylevel=bylevel,\n                         colsample_bytree=bytree,\n                         learning_rate=.1,\n                         reg_alpha =.5,\n                         reg_lambda=.5,\n                         n_jobs=n_jobs\n                        )\n\n                    #cv = ShuffleSplit(n_splits=20, test_size=random.randint(7,9)/10, random_state=random.randint(1,1000))\n                    #cv = ShuffleSplit(n_splits=20, test_size=.5, random_state=1986)\n                    #print(datetime.datetime())\n                    cross_cv = cross_val_score(reg, X, y,\\\n                                               cv=forCrossValidationStratifiedShuffleSplit(df_train), \\\n                                               #cv=cv, \\\n                                               scoring=crossValidationScoring,n_jobs=n_jobs)\n                    #print(\" Validat Median Score : \", np.sqrt(np.median(cross_cv) * -1), \\\n                    #      \"Average Score : \", np.sqrt(np.average(cross_cv) * -1) )\n\n                    reg.fit(X,y)\n                    training_score = np.sqrt(mean_squared_log_error(np.exp(y), np.exp(reg.predict(X))))\n                    #print(\"Training Score :\", training_score)\n\n                    df_test_new, X_test, y_test = checkTheTestFile(reg)\n                    reg.fit(X_test,y_test)\n                    testing_score = np.sqrt(mean_squared_log_error(np.exp(y), np.exp(reg.predict(X))))\n                    #print(\"Testing Score :\", testing_score)\n                    print(\"Scores\",(training_score, np.average(cross_cv), testing_score,i,j,bytree, bylevel))\n                    score_list.append((training_score, np.average(cross_cv), testing_score,i,j,bytree, bylevel))\n\n        #print(\"Time for max_depth -\",i,\"n_estimator -\",j,\" is : \", datetime.datetime.now() - loop_start)\n    \n    print(\"Total time for GridSearch : \", datetime.datetime.now() - start_time)\n    return score_list\n\nscore_list = doGridSearch()\n#sorted(score_list,key= lambda x:x[0])",
      "execution_count": 86,
      "outputs": [
        {
          "output_type": "stream",
          "text": "Scores (0.11174865797605738, 0.14837018620403747, 0.15251715022728574, 3, 100, 0.25, 0.25)\nScores (0.10924605449357788, 0.1439643202042484, 0.15348594909989335, 3, 100, 0.25, 0.5)\nScores (0.1056298491408862, 0.14357161275128977, 0.1524730176535538, 3, 100, 0.25, 0.75)\nScores (0.10336799238692085, 0.1422378364070876, 0.1442814855843591, 3, 100, 0.25, 1)\nScores (0.1066053773146748, 0.14335644316730453, 0.14900361779272597, 3, 100, 0.5, 0.25)\nScores (0.10114557277570277, 0.14280791450533872, 0.14179841370857493, 3, 100, 0.5, 0.5)\nScores (0.09962399163235591, 0.14250586592645254, 0.14035860042884446, 3, 100, 0.5, 0.75)\nScores (0.09885432946329578, 0.14286708112863394, 0.13970358077007713, 3, 100, 0.5, 1)\nScores (0.10385049164090643, 0.1432507690467884, 0.14285430674379826, 3, 100, 0.75, 0.25)\nScores (0.09892623704308989, 0.14303820017015476, 0.14041287139127615, 3, 100, 0.75, 0.5)\nScores (0.09744890979307028, 0.14297720251340276, 0.13801650098848853, 3, 100, 0.75, 0.75)\nScores (0.09769093336932484, 0.14373233702125748, 0.13974008118179698, 3, 100, 0.75, 1)\nScores (0.10295788605417244, 0.14197457853923653, 0.1450511501397071, 3, 100, 1, 0.25)\nScores (0.09702949206248866, 0.14296680183135924, 0.1382907188687952, 3, 100, 1, 0.5)\nScores (0.09631305643066534, 0.1443835701084905, 0.1388546703450677, 3, 100, 1, 0.75)\nScores (0.09584315307045442, 0.14399567668152893, 0.13578904123850263, 3, 100, 1, 1)\nScores (0.10237086648460637, 0.14429864472913229, 0.14708725942743242, 4, 100, 0.25, 0.25)\nScores (0.09578453267396149, 0.14240747131187906, 0.14523328705732802, 4, 100, 0.25, 0.5)\nScores (0.0931692342136454, 0.1410325012757143, 0.14208231886379075, 4, 100, 0.25, 0.75)\nScores (0.09170325882622007, 0.1403549199500144, 0.13982472966927084, 4, 100, 0.25, 1)\nScores (0.09617604852143018, 0.14175582057858346, 0.143151933051692, 4, 100, 0.5, 0.25)\nScores (0.08976089621941612, 0.14162630990214672, 0.13962024814093743, 4, 100, 0.5, 0.5)\nScores (0.0871182553068308, 0.14107863428803166, 0.1372914740858926, 4, 100, 0.5, 0.75)\nScores (0.08696174962806108, 0.1411827328808975, 0.13466453875613948, 4, 100, 0.5, 1)\nScores (0.09107796750711672, 0.14137565390858178, 0.13910841142637018, 4, 100, 0.75, 0.25)\nScores (0.08702803737970755, 0.14159329794609932, 0.13563742040311683, 4, 100, 0.75, 0.5)\nScores (0.08464684640114398, 0.141960068396001, 0.13563290283324808, 4, 100, 0.75, 0.75)\nScores (0.08548142600788654, 0.14207586036537925, 0.13383621311950936, 4, 100, 0.75, 1)\nScores (0.08880040050379462, 0.14034572195528122, 0.13922604713206888, 4, 100, 1, 0.25)\nScores (0.0853289283903567, 0.14192014530361177, 0.13395119445788767, 4, 100, 1, 0.5)\nScores (0.08395856984220709, 0.14267827465735666, 0.1346627911228754, 4, 100, 1, 0.75)\nScores (0.08390501501738244, 0.14341889169959898, 0.1339882521497798, 4, 100, 1, 1)\nScores (0.09506877060302762, 0.1424371354568435, 0.14582556141384254, 5, 100, 0.25, 0.25)\nScores (0.08670644998969437, 0.14105684844707192, 0.14601215316520713, 5, 100, 0.25, 0.5)\nScores (0.08408225080650644, 0.1401642652712773, 0.14203780679649292, 5, 100, 0.25, 0.75)\nScores (0.08310034387631493, 0.13990424666817408, 0.13816595717245378, 5, 100, 0.25, 1)\nScores (0.08617437344008691, 0.14071421459454553, 0.140387838513295, 5, 100, 0.5, 0.25)\nScores (0.07957464620101762, 0.14140509517644734, 0.1368424470455608, 5, 100, 0.5, 0.5)\nScores (0.0782848996992011, 0.14119488098011043, 0.13377767607679525, 5, 100, 0.5, 0.75)\nScores (0.07825608722597932, 0.14063359473694495, 0.13225566115881496, 5, 100, 0.5, 1)\nScores (0.08336685976210043, 0.14115137773907543, 0.1355159356554985, 5, 100, 0.75, 0.25)\nScores (0.07679949215410783, 0.14111764405327593, 0.13558863930648968, 5, 100, 0.75, 0.5)\nScores (0.07586480018345612, 0.14193140931483683, 0.1316873841120587, 5, 100, 0.75, 0.75)\nScores (0.07568738023013885, 0.14271246912986793, 0.13489348345780908, 5, 100, 0.75, 1)\nScores (0.08002539244138308, 0.13986356223381857, 0.13613005897065947, 5, 100, 1, 0.25)\nScores (0.07623202231738918, 0.14121107705137276, 0.13046740873091936, 5, 100, 1, 0.5)\nScores (0.07356512044753478, 0.1424345697409589, 0.13258343995769584, 5, 100, 1, 0.75)\nScores (0.07317802310877226, 0.1435299284956907, 0.1315911610080949, 5, 100, 1, 1)\nScores (0.08891906380556587, 0.14195668960118152, 0.14821643364547735, 6, 100, 0.25, 0.25)\nScores (0.07830169375954997, 0.1417250961486698, 0.14075851751170318, 6, 100, 0.25, 0.5)\nScores (0.07568944293209509, 0.14134302280307118, 0.13954805142584922, 6, 100, 0.25, 0.75)\nScores (0.07481355052885179, 0.13977707785567922, 0.13618530541239848, 6, 100, 0.25, 1)\nScores (0.07950768684386492, 0.1401841670267776, 0.14012803057356477, 6, 100, 0.5, 0.25)\nScores (0.07178131007938784, 0.14120163985905573, 0.13448948196423366, 6, 100, 0.5, 0.5)\nScores (0.06904553705764646, 0.14183771221934174, 0.13512589548918702, 6, 100, 0.5, 0.75)\nScores (0.06862401008313718, 0.1411821802429587, 0.13210984214110522, 6, 100, 0.5, 1)\nScores (0.0736289969656924, 0.1405361398939605, 0.13548078881879352, 6, 100, 0.75, 0.25)\nScores (0.06897007157694711, 0.14230605793533183, 0.13502800277331686, 6, 100, 0.75, 0.5)\nScores (0.06747247398697293, 0.14215062501676895, 0.1313832183111665, 6, 100, 0.75, 0.75)\nScores (0.06557750247298533, 0.14274437013006644, 0.13262189496047702, 6, 100, 0.75, 1)\nScores (0.07099092663284447, 0.14037250643939994, 0.13477702373869005, 6, 100, 1, 0.25)\nScores (0.06762369840892393, 0.1419155704167869, 0.13265454572246435, 6, 100, 1, 0.5)\nScores (0.06410313413226217, 0.14280792952793575, 0.13417907736583579, 6, 100, 1, 0.75)\nScores (0.0642886474591505, 0.14433328732377407, 0.13024366114730782, 6, 100, 1, 1)\nScores (0.08223894447535496, 0.14242808703841198, 0.1449848867090224, 7, 100, 0.25, 0.25)\nScores (0.07185750157260325, 0.14157698429534246, 0.13995470560580583, 7, 100, 0.25, 0.5)\nScores (0.06847558435862064, 0.14165840916687325, 0.13924371554593087, 7, 100, 0.25, 0.75)\nScores (0.06760937908510076, 0.13988080660081081, 0.13675442222631023, 7, 100, 0.25, 1)\nScores (0.07184032725265677, 0.14048939568763946, 0.13735297998607926, 7, 100, 0.5, 0.25)\nScores (0.06538553691568123, 0.14149121293243963, 0.13286274517549138, 7, 100, 0.5, 0.5)\nScores (0.06258368292588853, 0.14168466465587654, 0.1325293607779118, 7, 100, 0.5, 0.75)\nScores (0.06143414083058778, 0.14133087248021778, 0.1304362994122604, 7, 100, 0.5, 1)\nScores (0.06642190087559754, 0.14069851192527608, 0.1371236242327069, 7, 100, 0.75, 0.25)\nScores (0.061268151748002785, 0.14253663328495958, 0.13232926116724658, 7, 100, 0.75, 0.5)\nScores (0.05782142531450305, 0.1425308069012786, 0.13185808279814754, 7, 100, 0.75, 0.75)\nScores (0.05785971100695493, 0.14309884673156711, 0.13093667874154233, 7, 100, 0.75, 1)\nScores (0.0626876466213682, 0.14047549306034077, 0.13424539959401605, 7, 100, 1, 0.25)\nScores (0.058811412092346624, 0.14264705506380626, 0.1291907210445892, 7, 100, 1, 0.5)\nScores (0.05656176773047595, 0.1429499413225798, 0.130051476579584, 7, 100, 1, 0.75)\nScores (0.05703784621679038, 0.1451135192269049, 0.12986633630260716, 7, 100, 1, 1)\nScores (0.07542240655560684, 0.14224292673899602, 0.14159938532967167, 8, 100, 0.25, 0.25)\nScores (0.06584166645408772, 0.14123604418861002, 0.13954054878395028, 8, 100, 0.25, 0.5)\nScores (0.0629979801358372, 0.14098737763639305, 0.14021579778361562, 8, 100, 0.25, 0.75)\nScores (0.06310604969892016, 0.1401824170453104, 0.13625903148034696, 8, 100, 0.25, 1)\nScores (0.06620002076678051, 0.14050065125395356, 0.13716434733828178, 8, 100, 0.5, 0.25)\nScores (0.059272691271177826, 0.14167320190228333, 0.13392685970926435, 8, 100, 0.5, 0.5)\nScores (0.057185809946759, 0.14157941086837825, 0.13138065597633308, 8, 100, 0.5, 0.75)\nScores (0.05559656052016692, 0.14147955728366896, 0.1321259497960907, 8, 100, 0.5, 1)\nScores (0.059937203322185245, 0.14086947748069803, 0.13339064623395838, 8, 100, 0.75, 0.25)\nScores (0.05512420203298789, 0.1423070342339073, 0.13090840942440105, 8, 100, 0.75, 0.5)\nScores (0.05287049149561939, 0.14344782006070353, 0.12988789369878975, 8, 100, 0.75, 0.75)\nScores (0.05191058153158043, 0.143814998325381, 0.13054341572166497, 8, 100, 0.75, 1)\nScores (0.05597824293028164, 0.14104382976919702, 0.1319086031305802, 8, 100, 1, 0.25)\n",
          "name": "stdout"
        },
        {
          "output_type": "stream",
          "text": "Scores (0.05241178972332073, 0.14257967099115793, 0.13082707093056023, 8, 100, 1, 0.5)\nScores (0.050828291101782754, 0.1443585834115176, 0.13096718982205047, 8, 100, 1, 0.75)\nScores (0.049227667901110814, 0.14569211650974304, 0.1301535693220231, 8, 100, 1, 1)\nScores (0.07103010966828295, 0.14223036465339173, 0.1409817548170712, 9, 100, 0.25, 0.25)\nScores (0.06243014306112167, 0.14191173608579194, 0.13992714000718787, 9, 100, 0.25, 0.5)\nScores (0.06031199884294023, 0.1415598212951616, 0.14053102187062175, 9, 100, 0.25, 0.75)\nScores (0.05948369483249965, 0.14038411569796053, 0.1356545041561413, 9, 100, 0.25, 1)\nScores (0.06162273514276969, 0.14075818687804492, 0.13609969473277977, 9, 100, 0.5, 0.25)\nScores (0.05334024613418082, 0.14249393333019483, 0.13419767637202068, 9, 100, 0.5, 0.5)\nScores (0.05261998982937355, 0.14199701018229877, 0.13348286928362943, 9, 100, 0.5, 0.75)\nScores (0.05136376854658579, 0.1421093547950955, 0.13129109184227872, 9, 100, 0.5, 1)\nScores (0.05626416320944306, 0.14067283448501672, 0.1347087966930549, 9, 100, 0.75, 0.25)\nScores (0.05101069908413223, 0.14265898903303809, 0.13322069016888705, 9, 100, 0.75, 0.5)\nScores (0.04896075837797317, 0.14343125268478185, 0.13069149967317495, 9, 100, 0.75, 0.75)\nScores (0.0474194517303898, 0.14403051317794782, 0.13235893650166008, 9, 100, 0.75, 1)\nScores (0.05229410302169286, 0.14137830653933237, 0.13447457616638497, 9, 100, 1, 0.25)\nScores (0.047767256140568225, 0.14327785958837425, 0.13150707192589922, 9, 100, 1, 0.5)\nScores (0.04650024848354874, 0.14465464555162025, 0.13174150174707222, 9, 100, 1, 0.75)\nScores (0.045199601134686684, 0.14650455781989735, 0.1309091891801746, 9, 100, 1, 1)\nScores (0.06901070984419995, 0.1419947441978081, 0.1398967414992586, 10, 100, 0.25, 0.25)\nScores (0.05980497352372157, 0.14129640654355105, 0.14104423137788166, 10, 100, 0.25, 0.5)\nScores (0.05767972216915071, 0.14137091049149444, 0.137772974080185, 10, 100, 0.25, 0.75)\nScores (0.05683542458600521, 0.14049032201705114, 0.13509231958802717, 10, 100, 0.25, 1)\nScores (0.0579074030452435, 0.14085800802932139, 0.1372626096004692, 10, 100, 0.5, 0.25)\nScores (0.0516130646747853, 0.14126842355864472, 0.13327191324405938, 10, 100, 0.5, 0.5)\nScores (0.0494264114066191, 0.14207565789096674, 0.13185908930684717, 10, 100, 0.5, 0.75)\nScores (0.04832088243930832, 0.1421466985644646, 0.1309840596173679, 10, 100, 0.5, 1)\nScores (0.05223236577271618, 0.14117818237254529, 0.1342785931773485, 10, 100, 0.75, 0.25)\nScores (0.04688710787710926, 0.14302118612086304, 0.13611141607890348, 10, 100, 0.75, 0.5)\nScores (0.045376815000637546, 0.14392652016277807, 0.130859694621239, 10, 100, 0.75, 0.75)\nScores (0.04390209675804156, 0.14468346136172236, 0.13134076933595765, 10, 100, 0.75, 1)\nScores (0.0480326133885072, 0.14225738156874973, 0.13392561127337815, 10, 100, 1, 0.25)\nScores (0.045170401742057054, 0.14366595109276217, 0.12980839922871312, 10, 100, 1, 0.5)\nScores (0.04268409446203841, 0.14539418072429516, 0.13072573741454283, 10, 100, 1, 0.75)\nScores (0.04221111302159819, 0.14704293918540487, 0.13367317160878905, 10, 100, 1, 1)\nTotal time for GridSearch :  0:13:02.797009\n",
          "name": "stdout"
        }
      ]
    },
    {
      "metadata": {
        "trusted": true,
        "scrolled": true,
        "_uuid": "a048507811ab76194c514b637c8b0b2308a97e5f"
      },
      "cell_type": "markdown",
      "source": "def doGridSearch():\n    \n    start_time = datetime.datetime.now()\n    \n    df_train = pd.read_csv(train_File)\n    df_test = pd.read_csv(test_File)\n    df_test['SalePrice'] = 0\n    df_concat = pd.concat([df_train,df_test])\n    \n    df = giveMeWrangledData(df_concat)\n    df_prep = preProcessData(df)\n    \n    X,y = newBoxCoxTranformation(df_prep,'SalePrice',False,False)\n    \n    score_list = []\n    '''for i in range(max_depth_min,max_depth_max):\n        for j in range(n_estimator_min,n_estimator_max,100):\n            loop_start = datetime.datetime.now()\n            for bytree in [0.25, 0.5, 0.75,1]:\n                for bylevel in [0.25, 0.5, 0.75,1]:'''\n    for reg_alpha in [.1, .2, .3, .4, .5, .6, .7, .8, .9, 1]:\n        #loop_start = datetime.datetime.now()\n        for reg_lambda in [.1, .2, .3, .4, .5, .6, .7, .8, .9, 1]:\n\n        #for lrate in [.01, .025, 0.05, .075, .1, .25, .5]:\n            #j=100\n\n\n            #reg = XGBRegressor(max_depth=i, n_estimators=j)\n            '''reg=XGBRegressor(max_depth=i, \n                 n_estimator=j,\n                 colsample_bylevel=bylevel,\n                 colsample_bytree=bytree,\n                 learning_rate=.1,\n                 reg_alpha =1,\n                 reg_lambda=1 ,\n                 n_jobs=n_jobs\n                )'''\n\n            i=6\n            j=100\n            bylevel= 1\n            bytree = .25\n            reg=XGBRegressor(max_depth=6, \n                 n_estimator=100,\n                 colsample_bylevel=bylevel,\n                 colsample_bytree=bytree,\n                 learning_rate=.1,\n                 reg_alpha =reg_alpha,\n                 reg_lambda=reg_lambda ,\n                 n_jobs=n_jobs\n                )\n\n            #cv = ShuffleSplit(n_splits=20, test_size=random.randint(7,9)/10, random_state=random.randint(1,1000))\n            #cv = ShuffleSplit(n_splits=20, test_size=.5, random_state=1986)\n            #print(datetime.datetime())\n            cross_cv = cross_val_score(reg, X, y,\\\n                                       cv=forCrossValidationStratifiedShuffleSplit(df_train), \\\n                                       #cv=cv, \\\n                                       scoring=crossValidationScoring,n_jobs=n_jobs)\n            #print(\" Validat Median Score : \", np.sqrt(np.median(cross_cv) * -1), \\\n            #      \"Average Score : \", np.sqrt(np.average(cross_cv) * -1) )\n\n            reg.fit(X,y)\n            training_score = np.sqrt(mean_squared_log_error(np.exp(y), np.exp(reg.predict(X))))\n            #print(\"Training Score :\", training_score)\n\n            df_test_new, X_test, y_test = checkTheTestFile(reg)\n            reg.fit(X_test,y_test)\n            testing_score = np.sqrt(mean_squared_log_error(np.exp(y), np.exp(reg.predict(X))))\n            #print(\"Testing Score :\", testing_score)\n            print(\"Scores\",(training_score, np.average(cross_cv), testing_score,i,j,bytree, bylevel, reg_alpha, reg_lambda))\n            score_list.append((training_score, np.average(cross_cv), testing_score,i,j,bytree, bylevel,reg_alpha, reg_lambda))\n\n        #print(\"Time for max_depth -\",i,\"n_estimator -\",j,\" is : \", datetime.datetime.now() - loop_start)\n    \n    print(\"Total time for GridSearch : \", datetime.datetime.now() - start_time)\n    return score_list\n\nscore_list = doGridSearch()\n#sorted(score_list,key= lambda x:x[0])"
    },
    {
      "metadata": {
        "trusted": true,
        "_uuid": "b985a529e359db621577c792daa6e417b611d1aa"
      },
      "cell_type": "code",
      "source": "temp_df = pd.DataFrame(score_list,columns=[\"training_score\",\n                                           \"validation_score\",\n                                           \"testing_score\", \n                                           \"max_depth\",\n                                           \"n_estimator\",\n                                           \"bytree\",\n                                           \"bylevel\",\n                                           \"reg_alpha\",\n                                           \"reg_lambda\"\n                                          ])\n\ntemp_df.to_csv(\"GridSearchResults-\"+str(datetime.datetime.now().date()))\ntemp_df",
      "execution_count": null,
      "outputs": []
    },
    {
      "metadata": {
        "trusted": true,
        "_uuid": "0b0f6d66aecf5602b56c980160d0ccb5b3023929"
      },
      "cell_type": "code",
      "source": "temp_df[temp_df.testing_score == temp_df.testing_score.min()]",
      "execution_count": null,
      "outputs": []
    },
    {
      "metadata": {
        "trusted": true,
        "_uuid": "452401a7e157947052e0f283ba81bd3d0fa289af",
        "scrolled": true
      },
      "cell_type": "code",
      "source": "temp_df[temp_df.validation_score == temp_df.validation_score.min()]",
      "execution_count": null,
      "outputs": []
    },
    {
      "metadata": {
        "trusted": true,
        "scrolled": false,
        "_uuid": "4e4ebf0d6215466b1111e8006308637f726c79d6"
      },
      "cell_type": "code",
      "source": "def plottheTemp(df,title):\n    #for bytree in [.25,.5,.75,1]:\n    #for n in temp_df.n_estimator.unique():\n        fig, ax = plt.subplots()\n        plt.title(title)\n        ax = df.plot.line('max_depth','training_score',ax =ax,xticks= list(range(3,11)))\n        ax = df.plot.line('max_depth','validation_score',ax =ax,xticks= list(range(3,11)))\n        ax = df.plot.line('max_depth','testing_score',ax =ax,xticks= list(range(3,11)))\n        #x_point = temp_df[temp_df.validation_score == temp_df.validation_score.min()]['max_depth'].tolist()[0]\n        #ax= ax.vlines(x_point,0,.2)\n        #x_point1 = df[df.testing_score == temp_df.testing_score.min()]['max_depth'].tolist()[0]\n        #ax= ax.vlines(x_point1,0,.2)\n        \n        plt.show()\n#,'validation_score')\n\nfor bytree in temp_df.bytree.unique():\n    plottheTemp(temp_df[temp_df.bytree == bytree], \"bytree - \"+str(bytree))\n    \nfor bylevel in temp_df.bylevel.unique():\n    plottheTemp(temp_df[temp_df.bylevel == bylevel], \"bylevel - \"+str(bylevel))",
      "execution_count": null,
      "outputs": []
    },
    {
      "metadata": {
        "trusted": true,
        "_uuid": "28a19e9ea5f2cf089bcf2471d23151cf49feb240"
      },
      "cell_type": "code",
      "source": "temp_df[[\"reg_alpha\",\"validation_score\"]].groupby(by=\"reg_alpha\").agg('mean').reset_index()",
      "execution_count": null,
      "outputs": []
    },
    {
      "metadata": {
        "trusted": true,
        "_uuid": "000adeebc5beef1cdef75cf77759259d33141f47"
      },
      "cell_type": "code",
      "source": "temp_df[[\"reg_lambda\",\"validation_score\"]].groupby(by=\"reg_lambda\").agg('median').reset_index()",
      "execution_count": null,
      "outputs": []
    },
    {
      "metadata": {
        "_uuid": "1687d221c88c9bd7e54ae0c15a8c22eff5b646cd"
      },
      "cell_type": "markdown",
      "source": "##### Kaggle score remained unchanged, this proves that our logic of test score calculation fails and there must be some value prediction which is huge which brings the average error value up\n"
    },
    {
      "metadata": {
        "_uuid": "86ec97e2b5317e69a5742374760e089a89ffa358"
      },
      "cell_type": "markdown",
      "source": "##### Next Steps:\n* re run the grid search and note training score, validation score and testing score. This should not only double check on test score calculation but also gives us the right hyper parameter from the training and validation perspective.\n* address the runtime error during scaling or power transform. If boxcox fails attempt a log transformation at least.\n* stratify fold testing to check if the training score & validation in the previous exercise still holds goods.\n* hyper parameter research for XGBoost\n* target variable transformation\n* best of best stack approach\n* team work stack approach\n* XGBoost as the final assesser in best of best stack approach\n* XGBoost as the final assesser in the team work starck approach\n* 3 layers in stack approach: best of best candidates in the order of their accuracy feeding on input in each case.\n* re-assess the dataset"
    },
    {
      "metadata": {
        "_uuid": "fd61af6bd1d247a69e846af22625a265b4f6b2f2"
      },
      "cell_type": "markdown",
      "source": "##### The grid search in the kaggle resulted in the different hyper parameter for lowest validation score. Not sure why is that ? validation is through the shuffle split. isnt 3 cross validation set sufficient ?\n\n##### Or it is a game of kfold shuffle split and stratify ?"
    },
    {
      "metadata": {
        "_uuid": "55a0a09f1fd87fe69a94859187b6ccc2f9387c8a"
      },
      "cell_type": "markdown",
      "source": "##### It only makes sense to move on for stacked approach and other hyper parameter tuning if we sort out the cross validation consistency issue. Otherwise, we cannot have the confidence of impact of changes in stacked approaches."
    },
    {
      "metadata": {
        "_uuid": "5cd73aadf72033198ff29708d8389915afa21bd8"
      },
      "cell_type": "markdown",
      "source": "##### The full grid search for split count = 10 is as below. It is evident that \n* testing training score is of no use. We can ignore it in the future grid searches. it would save couple minutes from one grid search.\n\n##### Following are the observation yet to be confirmed:\n* Does the testing score confidence is high; post custom stratified split ? We will have predict with the best testing score and see the rank in Kaggle. 6,800 = > 0.15404  & 3,800 ==> 0.16021\n* Does we have relation between validation score and testing score ?\n* Can we first focus on training score to be 0 with other hyper parameters ? would that be overfitting ? Should we need still learning curve of validation vs testing score.?\n* Can we ignore n_estimator and see if the validation score converges with testing score only with max_depth and other hyper parameters?"
    },
    {
      "metadata": {
        "_uuid": "5b47e9763bd59669f61c104944f46de2161ce0d4"
      },
      "cell_type": "markdown",
      "source": "##### Let us talk about the hyper parameter till we get the gridsearch result"
    },
    {
      "metadata": {
        "_uuid": "8db131a039893493f30424aa9a2532389594614b"
      },
      "cell_type": "markdown",
      "source": "* https://xgboost.readthedocs.io/en/latest/parameter.html\n* https://www.kaggle.com/dansbecker/xgboost\n* https://www.datacamp.com/community/tutorials/xgboost-in-python\n\n* 1 being the max value, let us have half as the value for {'colsample_bytree':0.5, 'colsample_bylevel':0.5}\n* learning_rate = 0.05 because we have already using 0.1 so far. It is suggested in the kaggle blog.\n* n_jobs= 2 /4 based on the cpu. I guess Kaggle provides 4 cpu machine. I saw the max cpu spike as 400%\n* Surprisingly and unnoticed so far that it does the cross validation by itself. so we can leverage the n_estimator to be 1000 and use early_stopping_rounds for our quick turnaround. So our 2 for loops reduced to one :)\n"
    },
    {
      "metadata": {
        "trusted": true,
        "_uuid": "e4c3e26e2e455e9f089320c3af74fb7543ade251"
      },
      "cell_type": "code",
      "source": "reg",
      "execution_count": null,
      "outputs": []
    },
    {
      "metadata": {
        "trusted": true,
        "_uuid": "2fac7047a1da3551cf8ccc791a2915d37408df48"
      },
      "cell_type": "code",
      "source": "reg = XGBRegressor(max_depth=4, n_estimators=1000, learning_rate = 0.05, n_jobs = 2, colsample_bylevel = 0.5, colsample_bytree = 0.5)\nX_train, X_test, y_train, y_test = train_test_split(X,y, test_size=0.5, random_state=random.randint(1,500))\nreg.fit(X_train,y_train, early_stopping_rounds=250, eval_metric='rmse',eval_set=[(X_test,y_test)], verbose=100,)\n\n'''my_model = XGBRegressor(n_estimators=1000)\nmy_model.fit(train_X, train_y, early_stopping_rounds=5, \n             eval_set=[(test_X, test_y)], verbose=False)'''\nprint()",
      "execution_count": null,
      "outputs": []
    },
    {
      "metadata": {
        "_uuid": "38f4d0e988044c5d6df7100d966c8101289ec893"
      },
      "cell_type": "markdown",
      "source": "* 15 ==> validation_0-rmse:0.145474\n* 25 ==> [ 527 ]\tvalidation_0-rmse:0.14391\n* 100 ==> [567]\tvalidation_0-rmse:0.143869\n* 250 ==> [567]\tvalidation_0-rmse:0.143869\n\n\n* for max_depth = 4\n  * [273]\tvalidation_0-rmse:0.148329\n  * [729]\tvalidation_0-rmse:0.12575\n"
    },
    {
      "metadata": {
        "trusted": true,
        "_uuid": "96eba0a45dfa1e1709bcf1d15e5b0001cdb7945b"
      },
      "cell_type": "code",
      "source": "reg2 = XGBRegressor()\nreg2",
      "execution_count": null,
      "outputs": []
    },
    {
      "metadata": {
        "_uuid": "fe03586407468ebf629ffc1e0897a8d852aae688"
      },
      "cell_type": "markdown",
      "source": "##### n_estimator we will choose it at the end again through Stratified"
    },
    {
      "metadata": {
        "_uuid": "cdb259d1e30e2fd868aab2baef2cb985f7fe62d9"
      },
      "cell_type": "markdown",
      "source": "##### With hyper parameter set to above the grid search is as below:"
    },
    {
      "metadata": {
        "trusted": true,
        "_uuid": "c34b14e4a2b64d21b3ca57cd1be6d69e5258fbd7"
      },
      "cell_type": "code",
      "source": "    ",
      "execution_count": null,
      "outputs": []
    }
  ],
  "metadata": {
    "kernelspec": {
      "display_name": "Python 3",
      "language": "python",
      "name": "python3"
    },
    "language_info": {
      "name": "python",
      "version": "3.6.6",
      "mimetype": "text/x-python",
      "codemirror_mode": {
        "name": "ipython",
        "version": 3
      },
      "pygments_lexer": "ipython3",
      "nbconvert_exporter": "python",
      "file_extension": ".py"
    }
  },
  "nbformat": 4,
  "nbformat_minor": 1
}