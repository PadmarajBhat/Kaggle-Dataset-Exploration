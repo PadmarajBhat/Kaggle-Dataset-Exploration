{
  "cells": [
    {
      "metadata": {
        "trusted": true,
        "_uuid": "f2af6c1bf47b5300fddfd754fe24eff638d46d9e"
      },
      "cell_type": "code",
      "source": "import numpy as np\nimport pandas as pd\nimport matplotlib.pyplot as plt\nfrom collections import Counter\nimport datetime\n\nimport matplotlib.pyplot as plt\n\nfrom scipy import stats\nimport math\nimport random\n\nfrom sklearn import preprocessing\nfrom sklearn.model_selection import ShuffleSplit, train_test_split, cross_val_score, StratifiedShuffleSplit\nfrom sklearn.metrics import  mean_squared_log_error\n\nfrom xgboost import XGBRegressor",
      "execution_count": 1,
      "outputs": []
    },
    {
      "metadata": {
        "trusted": true,
        "_uuid": "f4909622d44d7e20201b25b6407af57e7a035498"
      },
      "cell_type": "code",
      "source": "#Global Variables for grid search\nn_splits = 10\nn_jobs = 2\n\nmax_depth_min = 3\nmax_depth_max = 11\nn_estimator_min = 100\nn_estimator_max = 1100\n\ntest_size =0.5\nrandom_state = 1986",
      "execution_count": 2,
      "outputs": []
    },
    {
      "metadata": {
        "trusted": true,
        "_uuid": "8c5318c5aa322350262771276ec2e9011d6ace91"
      },
      "cell_type": "code",
      "source": "train_File = '../input/train.csv'\ntest_File = '../input/test.csv'\n\ndf_train = pd.read_csv(train_File)\ndf_test = pd.read_csv(test_File)\ndf_test['SalePrice'] = 0\ndf_concat = pd.concat([df_train,df_test])",
      "execution_count": 3,
      "outputs": []
    },
    {
      "metadata": {
        "trusted": true,
        "_uuid": "7273d0af0a883ac7cafdc44cf7b67cbb1019b039"
      },
      "cell_type": "code",
      "source": "df_concat.head()",
      "execution_count": 4,
      "outputs": [
        {
          "output_type": "execute_result",
          "execution_count": 4,
          "data": {
            "text/plain": "   Id  MSSubClass MSZoning    ...     SaleType  SaleCondition SalePrice\n0   1          60       RL    ...           WD         Normal    208500\n1   2          20       RL    ...           WD         Normal    181500\n2   3          60       RL    ...           WD         Normal    223500\n3   4          70       RL    ...           WD        Abnorml    140000\n4   5          60       RL    ...           WD         Normal    250000\n\n[5 rows x 81 columns]",
            "text/html": "<div>\n<style scoped>\n    .dataframe tbody tr th:only-of-type {\n        vertical-align: middle;\n    }\n\n    .dataframe tbody tr th {\n        vertical-align: top;\n    }\n\n    .dataframe thead th {\n        text-align: right;\n    }\n</style>\n<table border=\"1\" class=\"dataframe\">\n  <thead>\n    <tr style=\"text-align: right;\">\n      <th></th>\n      <th>Id</th>\n      <th>MSSubClass</th>\n      <th>MSZoning</th>\n      <th>LotFrontage</th>\n      <th>LotArea</th>\n      <th>Street</th>\n      <th>Alley</th>\n      <th>LotShape</th>\n      <th>LandContour</th>\n      <th>Utilities</th>\n      <th>LotConfig</th>\n      <th>LandSlope</th>\n      <th>Neighborhood</th>\n      <th>Condition1</th>\n      <th>Condition2</th>\n      <th>BldgType</th>\n      <th>HouseStyle</th>\n      <th>OverallQual</th>\n      <th>OverallCond</th>\n      <th>YearBuilt</th>\n      <th>YearRemodAdd</th>\n      <th>RoofStyle</th>\n      <th>RoofMatl</th>\n      <th>Exterior1st</th>\n      <th>Exterior2nd</th>\n      <th>MasVnrType</th>\n      <th>MasVnrArea</th>\n      <th>ExterQual</th>\n      <th>ExterCond</th>\n      <th>Foundation</th>\n      <th>BsmtQual</th>\n      <th>BsmtCond</th>\n      <th>BsmtExposure</th>\n      <th>BsmtFinType1</th>\n      <th>BsmtFinSF1</th>\n      <th>BsmtFinType2</th>\n      <th>BsmtFinSF2</th>\n      <th>BsmtUnfSF</th>\n      <th>TotalBsmtSF</th>\n      <th>Heating</th>\n      <th>...</th>\n      <th>CentralAir</th>\n      <th>Electrical</th>\n      <th>1stFlrSF</th>\n      <th>2ndFlrSF</th>\n      <th>LowQualFinSF</th>\n      <th>GrLivArea</th>\n      <th>BsmtFullBath</th>\n      <th>BsmtHalfBath</th>\n      <th>FullBath</th>\n      <th>HalfBath</th>\n      <th>BedroomAbvGr</th>\n      <th>KitchenAbvGr</th>\n      <th>KitchenQual</th>\n      <th>TotRmsAbvGrd</th>\n      <th>Functional</th>\n      <th>Fireplaces</th>\n      <th>FireplaceQu</th>\n      <th>GarageType</th>\n      <th>GarageYrBlt</th>\n      <th>GarageFinish</th>\n      <th>GarageCars</th>\n      <th>GarageArea</th>\n      <th>GarageQual</th>\n      <th>GarageCond</th>\n      <th>PavedDrive</th>\n      <th>WoodDeckSF</th>\n      <th>OpenPorchSF</th>\n      <th>EnclosedPorch</th>\n      <th>3SsnPorch</th>\n      <th>ScreenPorch</th>\n      <th>PoolArea</th>\n      <th>PoolQC</th>\n      <th>Fence</th>\n      <th>MiscFeature</th>\n      <th>MiscVal</th>\n      <th>MoSold</th>\n      <th>YrSold</th>\n      <th>SaleType</th>\n      <th>SaleCondition</th>\n      <th>SalePrice</th>\n    </tr>\n  </thead>\n  <tbody>\n    <tr>\n      <th>0</th>\n      <td>1</td>\n      <td>60</td>\n      <td>RL</td>\n      <td>65.0</td>\n      <td>8450</td>\n      <td>Pave</td>\n      <td>NaN</td>\n      <td>Reg</td>\n      <td>Lvl</td>\n      <td>AllPub</td>\n      <td>Inside</td>\n      <td>Gtl</td>\n      <td>CollgCr</td>\n      <td>Norm</td>\n      <td>Norm</td>\n      <td>1Fam</td>\n      <td>2Story</td>\n      <td>7</td>\n      <td>5</td>\n      <td>2003</td>\n      <td>2003</td>\n      <td>Gable</td>\n      <td>CompShg</td>\n      <td>VinylSd</td>\n      <td>VinylSd</td>\n      <td>BrkFace</td>\n      <td>196.0</td>\n      <td>Gd</td>\n      <td>TA</td>\n      <td>PConc</td>\n      <td>Gd</td>\n      <td>TA</td>\n      <td>No</td>\n      <td>GLQ</td>\n      <td>706.0</td>\n      <td>Unf</td>\n      <td>0.0</td>\n      <td>150.0</td>\n      <td>856.0</td>\n      <td>GasA</td>\n      <td>...</td>\n      <td>Y</td>\n      <td>SBrkr</td>\n      <td>856</td>\n      <td>854</td>\n      <td>0</td>\n      <td>1710</td>\n      <td>1.0</td>\n      <td>0.0</td>\n      <td>2</td>\n      <td>1</td>\n      <td>3</td>\n      <td>1</td>\n      <td>Gd</td>\n      <td>8</td>\n      <td>Typ</td>\n      <td>0</td>\n      <td>NaN</td>\n      <td>Attchd</td>\n      <td>2003.0</td>\n      <td>RFn</td>\n      <td>2.0</td>\n      <td>548.0</td>\n      <td>TA</td>\n      <td>TA</td>\n      <td>Y</td>\n      <td>0</td>\n      <td>61</td>\n      <td>0</td>\n      <td>0</td>\n      <td>0</td>\n      <td>0</td>\n      <td>NaN</td>\n      <td>NaN</td>\n      <td>NaN</td>\n      <td>0</td>\n      <td>2</td>\n      <td>2008</td>\n      <td>WD</td>\n      <td>Normal</td>\n      <td>208500</td>\n    </tr>\n    <tr>\n      <th>1</th>\n      <td>2</td>\n      <td>20</td>\n      <td>RL</td>\n      <td>80.0</td>\n      <td>9600</td>\n      <td>Pave</td>\n      <td>NaN</td>\n      <td>Reg</td>\n      <td>Lvl</td>\n      <td>AllPub</td>\n      <td>FR2</td>\n      <td>Gtl</td>\n      <td>Veenker</td>\n      <td>Feedr</td>\n      <td>Norm</td>\n      <td>1Fam</td>\n      <td>1Story</td>\n      <td>6</td>\n      <td>8</td>\n      <td>1976</td>\n      <td>1976</td>\n      <td>Gable</td>\n      <td>CompShg</td>\n      <td>MetalSd</td>\n      <td>MetalSd</td>\n      <td>None</td>\n      <td>0.0</td>\n      <td>TA</td>\n      <td>TA</td>\n      <td>CBlock</td>\n      <td>Gd</td>\n      <td>TA</td>\n      <td>Gd</td>\n      <td>ALQ</td>\n      <td>978.0</td>\n      <td>Unf</td>\n      <td>0.0</td>\n      <td>284.0</td>\n      <td>1262.0</td>\n      <td>GasA</td>\n      <td>...</td>\n      <td>Y</td>\n      <td>SBrkr</td>\n      <td>1262</td>\n      <td>0</td>\n      <td>0</td>\n      <td>1262</td>\n      <td>0.0</td>\n      <td>1.0</td>\n      <td>2</td>\n      <td>0</td>\n      <td>3</td>\n      <td>1</td>\n      <td>TA</td>\n      <td>6</td>\n      <td>Typ</td>\n      <td>1</td>\n      <td>TA</td>\n      <td>Attchd</td>\n      <td>1976.0</td>\n      <td>RFn</td>\n      <td>2.0</td>\n      <td>460.0</td>\n      <td>TA</td>\n      <td>TA</td>\n      <td>Y</td>\n      <td>298</td>\n      <td>0</td>\n      <td>0</td>\n      <td>0</td>\n      <td>0</td>\n      <td>0</td>\n      <td>NaN</td>\n      <td>NaN</td>\n      <td>NaN</td>\n      <td>0</td>\n      <td>5</td>\n      <td>2007</td>\n      <td>WD</td>\n      <td>Normal</td>\n      <td>181500</td>\n    </tr>\n    <tr>\n      <th>2</th>\n      <td>3</td>\n      <td>60</td>\n      <td>RL</td>\n      <td>68.0</td>\n      <td>11250</td>\n      <td>Pave</td>\n      <td>NaN</td>\n      <td>IR1</td>\n      <td>Lvl</td>\n      <td>AllPub</td>\n      <td>Inside</td>\n      <td>Gtl</td>\n      <td>CollgCr</td>\n      <td>Norm</td>\n      <td>Norm</td>\n      <td>1Fam</td>\n      <td>2Story</td>\n      <td>7</td>\n      <td>5</td>\n      <td>2001</td>\n      <td>2002</td>\n      <td>Gable</td>\n      <td>CompShg</td>\n      <td>VinylSd</td>\n      <td>VinylSd</td>\n      <td>BrkFace</td>\n      <td>162.0</td>\n      <td>Gd</td>\n      <td>TA</td>\n      <td>PConc</td>\n      <td>Gd</td>\n      <td>TA</td>\n      <td>Mn</td>\n      <td>GLQ</td>\n      <td>486.0</td>\n      <td>Unf</td>\n      <td>0.0</td>\n      <td>434.0</td>\n      <td>920.0</td>\n      <td>GasA</td>\n      <td>...</td>\n      <td>Y</td>\n      <td>SBrkr</td>\n      <td>920</td>\n      <td>866</td>\n      <td>0</td>\n      <td>1786</td>\n      <td>1.0</td>\n      <td>0.0</td>\n      <td>2</td>\n      <td>1</td>\n      <td>3</td>\n      <td>1</td>\n      <td>Gd</td>\n      <td>6</td>\n      <td>Typ</td>\n      <td>1</td>\n      <td>TA</td>\n      <td>Attchd</td>\n      <td>2001.0</td>\n      <td>RFn</td>\n      <td>2.0</td>\n      <td>608.0</td>\n      <td>TA</td>\n      <td>TA</td>\n      <td>Y</td>\n      <td>0</td>\n      <td>42</td>\n      <td>0</td>\n      <td>0</td>\n      <td>0</td>\n      <td>0</td>\n      <td>NaN</td>\n      <td>NaN</td>\n      <td>NaN</td>\n      <td>0</td>\n      <td>9</td>\n      <td>2008</td>\n      <td>WD</td>\n      <td>Normal</td>\n      <td>223500</td>\n    </tr>\n    <tr>\n      <th>3</th>\n      <td>4</td>\n      <td>70</td>\n      <td>RL</td>\n      <td>60.0</td>\n      <td>9550</td>\n      <td>Pave</td>\n      <td>NaN</td>\n      <td>IR1</td>\n      <td>Lvl</td>\n      <td>AllPub</td>\n      <td>Corner</td>\n      <td>Gtl</td>\n      <td>Crawfor</td>\n      <td>Norm</td>\n      <td>Norm</td>\n      <td>1Fam</td>\n      <td>2Story</td>\n      <td>7</td>\n      <td>5</td>\n      <td>1915</td>\n      <td>1970</td>\n      <td>Gable</td>\n      <td>CompShg</td>\n      <td>Wd Sdng</td>\n      <td>Wd Shng</td>\n      <td>None</td>\n      <td>0.0</td>\n      <td>TA</td>\n      <td>TA</td>\n      <td>BrkTil</td>\n      <td>TA</td>\n      <td>Gd</td>\n      <td>No</td>\n      <td>ALQ</td>\n      <td>216.0</td>\n      <td>Unf</td>\n      <td>0.0</td>\n      <td>540.0</td>\n      <td>756.0</td>\n      <td>GasA</td>\n      <td>...</td>\n      <td>Y</td>\n      <td>SBrkr</td>\n      <td>961</td>\n      <td>756</td>\n      <td>0</td>\n      <td>1717</td>\n      <td>1.0</td>\n      <td>0.0</td>\n      <td>1</td>\n      <td>0</td>\n      <td>3</td>\n      <td>1</td>\n      <td>Gd</td>\n      <td>7</td>\n      <td>Typ</td>\n      <td>1</td>\n      <td>Gd</td>\n      <td>Detchd</td>\n      <td>1998.0</td>\n      <td>Unf</td>\n      <td>3.0</td>\n      <td>642.0</td>\n      <td>TA</td>\n      <td>TA</td>\n      <td>Y</td>\n      <td>0</td>\n      <td>35</td>\n      <td>272</td>\n      <td>0</td>\n      <td>0</td>\n      <td>0</td>\n      <td>NaN</td>\n      <td>NaN</td>\n      <td>NaN</td>\n      <td>0</td>\n      <td>2</td>\n      <td>2006</td>\n      <td>WD</td>\n      <td>Abnorml</td>\n      <td>140000</td>\n    </tr>\n    <tr>\n      <th>4</th>\n      <td>5</td>\n      <td>60</td>\n      <td>RL</td>\n      <td>84.0</td>\n      <td>14260</td>\n      <td>Pave</td>\n      <td>NaN</td>\n      <td>IR1</td>\n      <td>Lvl</td>\n      <td>AllPub</td>\n      <td>FR2</td>\n      <td>Gtl</td>\n      <td>NoRidge</td>\n      <td>Norm</td>\n      <td>Norm</td>\n      <td>1Fam</td>\n      <td>2Story</td>\n      <td>8</td>\n      <td>5</td>\n      <td>2000</td>\n      <td>2000</td>\n      <td>Gable</td>\n      <td>CompShg</td>\n      <td>VinylSd</td>\n      <td>VinylSd</td>\n      <td>BrkFace</td>\n      <td>350.0</td>\n      <td>Gd</td>\n      <td>TA</td>\n      <td>PConc</td>\n      <td>Gd</td>\n      <td>TA</td>\n      <td>Av</td>\n      <td>GLQ</td>\n      <td>655.0</td>\n      <td>Unf</td>\n      <td>0.0</td>\n      <td>490.0</td>\n      <td>1145.0</td>\n      <td>GasA</td>\n      <td>...</td>\n      <td>Y</td>\n      <td>SBrkr</td>\n      <td>1145</td>\n      <td>1053</td>\n      <td>0</td>\n      <td>2198</td>\n      <td>1.0</td>\n      <td>0.0</td>\n      <td>2</td>\n      <td>1</td>\n      <td>4</td>\n      <td>1</td>\n      <td>Gd</td>\n      <td>9</td>\n      <td>Typ</td>\n      <td>1</td>\n      <td>TA</td>\n      <td>Attchd</td>\n      <td>2000.0</td>\n      <td>RFn</td>\n      <td>3.0</td>\n      <td>836.0</td>\n      <td>TA</td>\n      <td>TA</td>\n      <td>Y</td>\n      <td>192</td>\n      <td>84</td>\n      <td>0</td>\n      <td>0</td>\n      <td>0</td>\n      <td>0</td>\n      <td>NaN</td>\n      <td>NaN</td>\n      <td>NaN</td>\n      <td>0</td>\n      <td>12</td>\n      <td>2008</td>\n      <td>WD</td>\n      <td>Normal</td>\n      <td>250000</td>\n    </tr>\n  </tbody>\n</table>\n</div>"
          },
          "metadata": {}
        }
      ]
    },
    {
      "metadata": {
        "trusted": true,
        "_uuid": "c17981d35937f82123173ebd02604c0bb0ea2c06"
      },
      "cell_type": "code",
      "source": "def giveMeWrangledData(df, testFile=False, log=False):\n    \n    \n    df = df.drop(['Id', 'GarageYrBlt','BsmtFinSF1','BsmtFinSF2','BsmtUnfSF'],axis=1)\n    \n    df['LotFrontage'] =df.LotFrontage.fillna(df.LotFrontage.mode()[0])\n    df['MasVnrArea']=df.MasVnrArea.fillna(0.0)\n    df['TotalBsmtSF'] = df.TotalBsmtSF.fillna(0)\n    df['BsmtFullBath'] = df.BsmtFullBath.fillna(0)\n    df['BsmtHalfBath'] = df.BsmtHalfBath.fillna(0)\n    df['GarageCars'] = df.GarageCars.fillna(0)\n    df['GarageArea'] = df.GarageArea.fillna(0)\n    \n    #convert data type\n    #we are being little lineant to give int64 for YearBuilt, YrSold but those guys are going to be box-coxed \n    #so let them at least enjoy the bigger size for now\n    int64_variables = ['LotFrontage', 'LotArea', 'YearBuilt', 'YearRemodAdd', 'MasVnrArea', \\\n                     'TotalBsmtSF', '1stFlrSF', '2ndFlrSF', 'LowQualFinSF', 'GrLivArea', 'BsmtFullBath', \\\n                     'BsmtHalfBath', 'FullBath', 'HalfBath', 'BedroomAbvGr', 'KitchenAbvGr', 'TotRmsAbvGrd', 'Fireplaces',\\\n                     'GarageCars', 'GarageArea', 'WoodDeckSF', 'OpenPorchSF', 'EnclosedPorch', '3SsnPorch', 'ScreenPorch', \\\n                     'PoolArea', 'MiscVal', 'YrSold', 'SalePrice']\n    \n    #if testFile:\n    #    int64_variables.remove('SalePrice')\n\n        \n        \n        \n    \n    for c in int64_variables:\n        if log:\n            print(\"Changing the data type for :\", c)\n        #df[c] = df[c].astype(np.int64)\n        df[c] = df[c].astype(np.float64)\n        \n    int_to_categorical_variables = ['MSSubClass', 'OverallQual', 'OverallCond', 'FireplaceQu', 'MoSold']\n    for c in int_to_categorical_variables:\n        df[c] = df[c].astype(str)\n        \n    df = df.fillna('NotAvailable')\n    return df\ndf = giveMeWrangledData(df_concat)\ndf.head()",
      "execution_count": 5,
      "outputs": [
        {
          "output_type": "execute_result",
          "execution_count": 5,
          "data": {
            "text/plain": "  MSSubClass MSZoning  LotFrontage    ...     SaleType SaleCondition SalePrice\n0         60       RL         65.0    ...           WD        Normal  208500.0\n1         20       RL         80.0    ...           WD        Normal  181500.0\n2         60       RL         68.0    ...           WD        Normal  223500.0\n3         70       RL         60.0    ...           WD       Abnorml  140000.0\n4         60       RL         84.0    ...           WD        Normal  250000.0\n\n[5 rows x 76 columns]",
            "text/html": "<div>\n<style scoped>\n    .dataframe tbody tr th:only-of-type {\n        vertical-align: middle;\n    }\n\n    .dataframe tbody tr th {\n        vertical-align: top;\n    }\n\n    .dataframe thead th {\n        text-align: right;\n    }\n</style>\n<table border=\"1\" class=\"dataframe\">\n  <thead>\n    <tr style=\"text-align: right;\">\n      <th></th>\n      <th>MSSubClass</th>\n      <th>MSZoning</th>\n      <th>LotFrontage</th>\n      <th>LotArea</th>\n      <th>Street</th>\n      <th>Alley</th>\n      <th>LotShape</th>\n      <th>LandContour</th>\n      <th>Utilities</th>\n      <th>LotConfig</th>\n      <th>LandSlope</th>\n      <th>Neighborhood</th>\n      <th>Condition1</th>\n      <th>Condition2</th>\n      <th>BldgType</th>\n      <th>HouseStyle</th>\n      <th>OverallQual</th>\n      <th>OverallCond</th>\n      <th>YearBuilt</th>\n      <th>YearRemodAdd</th>\n      <th>RoofStyle</th>\n      <th>RoofMatl</th>\n      <th>Exterior1st</th>\n      <th>Exterior2nd</th>\n      <th>MasVnrType</th>\n      <th>MasVnrArea</th>\n      <th>ExterQual</th>\n      <th>ExterCond</th>\n      <th>Foundation</th>\n      <th>BsmtQual</th>\n      <th>BsmtCond</th>\n      <th>BsmtExposure</th>\n      <th>BsmtFinType1</th>\n      <th>BsmtFinType2</th>\n      <th>TotalBsmtSF</th>\n      <th>Heating</th>\n      <th>HeatingQC</th>\n      <th>CentralAir</th>\n      <th>Electrical</th>\n      <th>1stFlrSF</th>\n      <th>2ndFlrSF</th>\n      <th>LowQualFinSF</th>\n      <th>GrLivArea</th>\n      <th>BsmtFullBath</th>\n      <th>BsmtHalfBath</th>\n      <th>FullBath</th>\n      <th>HalfBath</th>\n      <th>BedroomAbvGr</th>\n      <th>KitchenAbvGr</th>\n      <th>KitchenQual</th>\n      <th>TotRmsAbvGrd</th>\n      <th>Functional</th>\n      <th>Fireplaces</th>\n      <th>FireplaceQu</th>\n      <th>GarageType</th>\n      <th>GarageFinish</th>\n      <th>GarageCars</th>\n      <th>GarageArea</th>\n      <th>GarageQual</th>\n      <th>GarageCond</th>\n      <th>PavedDrive</th>\n      <th>WoodDeckSF</th>\n      <th>OpenPorchSF</th>\n      <th>EnclosedPorch</th>\n      <th>3SsnPorch</th>\n      <th>ScreenPorch</th>\n      <th>PoolArea</th>\n      <th>PoolQC</th>\n      <th>Fence</th>\n      <th>MiscFeature</th>\n      <th>MiscVal</th>\n      <th>MoSold</th>\n      <th>YrSold</th>\n      <th>SaleType</th>\n      <th>SaleCondition</th>\n      <th>SalePrice</th>\n    </tr>\n  </thead>\n  <tbody>\n    <tr>\n      <th>0</th>\n      <td>60</td>\n      <td>RL</td>\n      <td>65.0</td>\n      <td>8450.0</td>\n      <td>Pave</td>\n      <td>NotAvailable</td>\n      <td>Reg</td>\n      <td>Lvl</td>\n      <td>AllPub</td>\n      <td>Inside</td>\n      <td>Gtl</td>\n      <td>CollgCr</td>\n      <td>Norm</td>\n      <td>Norm</td>\n      <td>1Fam</td>\n      <td>2Story</td>\n      <td>7</td>\n      <td>5</td>\n      <td>2003.0</td>\n      <td>2003.0</td>\n      <td>Gable</td>\n      <td>CompShg</td>\n      <td>VinylSd</td>\n      <td>VinylSd</td>\n      <td>BrkFace</td>\n      <td>196.0</td>\n      <td>Gd</td>\n      <td>TA</td>\n      <td>PConc</td>\n      <td>Gd</td>\n      <td>TA</td>\n      <td>No</td>\n      <td>GLQ</td>\n      <td>Unf</td>\n      <td>856.0</td>\n      <td>GasA</td>\n      <td>Ex</td>\n      <td>Y</td>\n      <td>SBrkr</td>\n      <td>856.0</td>\n      <td>854.0</td>\n      <td>0.0</td>\n      <td>1710.0</td>\n      <td>1.0</td>\n      <td>0.0</td>\n      <td>2.0</td>\n      <td>1.0</td>\n      <td>3.0</td>\n      <td>1.0</td>\n      <td>Gd</td>\n      <td>8.0</td>\n      <td>Typ</td>\n      <td>0.0</td>\n      <td>nan</td>\n      <td>Attchd</td>\n      <td>RFn</td>\n      <td>2.0</td>\n      <td>548.0</td>\n      <td>TA</td>\n      <td>TA</td>\n      <td>Y</td>\n      <td>0.0</td>\n      <td>61.0</td>\n      <td>0.0</td>\n      <td>0.0</td>\n      <td>0.0</td>\n      <td>0.0</td>\n      <td>NotAvailable</td>\n      <td>NotAvailable</td>\n      <td>NotAvailable</td>\n      <td>0.0</td>\n      <td>2</td>\n      <td>2008.0</td>\n      <td>WD</td>\n      <td>Normal</td>\n      <td>208500.0</td>\n    </tr>\n    <tr>\n      <th>1</th>\n      <td>20</td>\n      <td>RL</td>\n      <td>80.0</td>\n      <td>9600.0</td>\n      <td>Pave</td>\n      <td>NotAvailable</td>\n      <td>Reg</td>\n      <td>Lvl</td>\n      <td>AllPub</td>\n      <td>FR2</td>\n      <td>Gtl</td>\n      <td>Veenker</td>\n      <td>Feedr</td>\n      <td>Norm</td>\n      <td>1Fam</td>\n      <td>1Story</td>\n      <td>6</td>\n      <td>8</td>\n      <td>1976.0</td>\n      <td>1976.0</td>\n      <td>Gable</td>\n      <td>CompShg</td>\n      <td>MetalSd</td>\n      <td>MetalSd</td>\n      <td>None</td>\n      <td>0.0</td>\n      <td>TA</td>\n      <td>TA</td>\n      <td>CBlock</td>\n      <td>Gd</td>\n      <td>TA</td>\n      <td>Gd</td>\n      <td>ALQ</td>\n      <td>Unf</td>\n      <td>1262.0</td>\n      <td>GasA</td>\n      <td>Ex</td>\n      <td>Y</td>\n      <td>SBrkr</td>\n      <td>1262.0</td>\n      <td>0.0</td>\n      <td>0.0</td>\n      <td>1262.0</td>\n      <td>0.0</td>\n      <td>1.0</td>\n      <td>2.0</td>\n      <td>0.0</td>\n      <td>3.0</td>\n      <td>1.0</td>\n      <td>TA</td>\n      <td>6.0</td>\n      <td>Typ</td>\n      <td>1.0</td>\n      <td>TA</td>\n      <td>Attchd</td>\n      <td>RFn</td>\n      <td>2.0</td>\n      <td>460.0</td>\n      <td>TA</td>\n      <td>TA</td>\n      <td>Y</td>\n      <td>298.0</td>\n      <td>0.0</td>\n      <td>0.0</td>\n      <td>0.0</td>\n      <td>0.0</td>\n      <td>0.0</td>\n      <td>NotAvailable</td>\n      <td>NotAvailable</td>\n      <td>NotAvailable</td>\n      <td>0.0</td>\n      <td>5</td>\n      <td>2007.0</td>\n      <td>WD</td>\n      <td>Normal</td>\n      <td>181500.0</td>\n    </tr>\n    <tr>\n      <th>2</th>\n      <td>60</td>\n      <td>RL</td>\n      <td>68.0</td>\n      <td>11250.0</td>\n      <td>Pave</td>\n      <td>NotAvailable</td>\n      <td>IR1</td>\n      <td>Lvl</td>\n      <td>AllPub</td>\n      <td>Inside</td>\n      <td>Gtl</td>\n      <td>CollgCr</td>\n      <td>Norm</td>\n      <td>Norm</td>\n      <td>1Fam</td>\n      <td>2Story</td>\n      <td>7</td>\n      <td>5</td>\n      <td>2001.0</td>\n      <td>2002.0</td>\n      <td>Gable</td>\n      <td>CompShg</td>\n      <td>VinylSd</td>\n      <td>VinylSd</td>\n      <td>BrkFace</td>\n      <td>162.0</td>\n      <td>Gd</td>\n      <td>TA</td>\n      <td>PConc</td>\n      <td>Gd</td>\n      <td>TA</td>\n      <td>Mn</td>\n      <td>GLQ</td>\n      <td>Unf</td>\n      <td>920.0</td>\n      <td>GasA</td>\n      <td>Ex</td>\n      <td>Y</td>\n      <td>SBrkr</td>\n      <td>920.0</td>\n      <td>866.0</td>\n      <td>0.0</td>\n      <td>1786.0</td>\n      <td>1.0</td>\n      <td>0.0</td>\n      <td>2.0</td>\n      <td>1.0</td>\n      <td>3.0</td>\n      <td>1.0</td>\n      <td>Gd</td>\n      <td>6.0</td>\n      <td>Typ</td>\n      <td>1.0</td>\n      <td>TA</td>\n      <td>Attchd</td>\n      <td>RFn</td>\n      <td>2.0</td>\n      <td>608.0</td>\n      <td>TA</td>\n      <td>TA</td>\n      <td>Y</td>\n      <td>0.0</td>\n      <td>42.0</td>\n      <td>0.0</td>\n      <td>0.0</td>\n      <td>0.0</td>\n      <td>0.0</td>\n      <td>NotAvailable</td>\n      <td>NotAvailable</td>\n      <td>NotAvailable</td>\n      <td>0.0</td>\n      <td>9</td>\n      <td>2008.0</td>\n      <td>WD</td>\n      <td>Normal</td>\n      <td>223500.0</td>\n    </tr>\n    <tr>\n      <th>3</th>\n      <td>70</td>\n      <td>RL</td>\n      <td>60.0</td>\n      <td>9550.0</td>\n      <td>Pave</td>\n      <td>NotAvailable</td>\n      <td>IR1</td>\n      <td>Lvl</td>\n      <td>AllPub</td>\n      <td>Corner</td>\n      <td>Gtl</td>\n      <td>Crawfor</td>\n      <td>Norm</td>\n      <td>Norm</td>\n      <td>1Fam</td>\n      <td>2Story</td>\n      <td>7</td>\n      <td>5</td>\n      <td>1915.0</td>\n      <td>1970.0</td>\n      <td>Gable</td>\n      <td>CompShg</td>\n      <td>Wd Sdng</td>\n      <td>Wd Shng</td>\n      <td>None</td>\n      <td>0.0</td>\n      <td>TA</td>\n      <td>TA</td>\n      <td>BrkTil</td>\n      <td>TA</td>\n      <td>Gd</td>\n      <td>No</td>\n      <td>ALQ</td>\n      <td>Unf</td>\n      <td>756.0</td>\n      <td>GasA</td>\n      <td>Gd</td>\n      <td>Y</td>\n      <td>SBrkr</td>\n      <td>961.0</td>\n      <td>756.0</td>\n      <td>0.0</td>\n      <td>1717.0</td>\n      <td>1.0</td>\n      <td>0.0</td>\n      <td>1.0</td>\n      <td>0.0</td>\n      <td>3.0</td>\n      <td>1.0</td>\n      <td>Gd</td>\n      <td>7.0</td>\n      <td>Typ</td>\n      <td>1.0</td>\n      <td>Gd</td>\n      <td>Detchd</td>\n      <td>Unf</td>\n      <td>3.0</td>\n      <td>642.0</td>\n      <td>TA</td>\n      <td>TA</td>\n      <td>Y</td>\n      <td>0.0</td>\n      <td>35.0</td>\n      <td>272.0</td>\n      <td>0.0</td>\n      <td>0.0</td>\n      <td>0.0</td>\n      <td>NotAvailable</td>\n      <td>NotAvailable</td>\n      <td>NotAvailable</td>\n      <td>0.0</td>\n      <td>2</td>\n      <td>2006.0</td>\n      <td>WD</td>\n      <td>Abnorml</td>\n      <td>140000.0</td>\n    </tr>\n    <tr>\n      <th>4</th>\n      <td>60</td>\n      <td>RL</td>\n      <td>84.0</td>\n      <td>14260.0</td>\n      <td>Pave</td>\n      <td>NotAvailable</td>\n      <td>IR1</td>\n      <td>Lvl</td>\n      <td>AllPub</td>\n      <td>FR2</td>\n      <td>Gtl</td>\n      <td>NoRidge</td>\n      <td>Norm</td>\n      <td>Norm</td>\n      <td>1Fam</td>\n      <td>2Story</td>\n      <td>8</td>\n      <td>5</td>\n      <td>2000.0</td>\n      <td>2000.0</td>\n      <td>Gable</td>\n      <td>CompShg</td>\n      <td>VinylSd</td>\n      <td>VinylSd</td>\n      <td>BrkFace</td>\n      <td>350.0</td>\n      <td>Gd</td>\n      <td>TA</td>\n      <td>PConc</td>\n      <td>Gd</td>\n      <td>TA</td>\n      <td>Av</td>\n      <td>GLQ</td>\n      <td>Unf</td>\n      <td>1145.0</td>\n      <td>GasA</td>\n      <td>Ex</td>\n      <td>Y</td>\n      <td>SBrkr</td>\n      <td>1145.0</td>\n      <td>1053.0</td>\n      <td>0.0</td>\n      <td>2198.0</td>\n      <td>1.0</td>\n      <td>0.0</td>\n      <td>2.0</td>\n      <td>1.0</td>\n      <td>4.0</td>\n      <td>1.0</td>\n      <td>Gd</td>\n      <td>9.0</td>\n      <td>Typ</td>\n      <td>1.0</td>\n      <td>TA</td>\n      <td>Attchd</td>\n      <td>RFn</td>\n      <td>3.0</td>\n      <td>836.0</td>\n      <td>TA</td>\n      <td>TA</td>\n      <td>Y</td>\n      <td>192.0</td>\n      <td>84.0</td>\n      <td>0.0</td>\n      <td>0.0</td>\n      <td>0.0</td>\n      <td>0.0</td>\n      <td>NotAvailable</td>\n      <td>NotAvailable</td>\n      <td>NotAvailable</td>\n      <td>0.0</td>\n      <td>12</td>\n      <td>2008.0</td>\n      <td>WD</td>\n      <td>Normal</td>\n      <td>250000.0</td>\n    </tr>\n  </tbody>\n</table>\n</div>"
          },
          "metadata": {}
        }
      ]
    },
    {
      "metadata": {
        "trusted": true,
        "_uuid": "cfc70ea0613ac359fc7fcf69f4fe5138c2d8159b"
      },
      "cell_type": "code",
      "source": "df.info()",
      "execution_count": 6,
      "outputs": [
        {
          "output_type": "stream",
          "text": "<class 'pandas.core.frame.DataFrame'>\nInt64Index: 2919 entries, 0 to 1458\nData columns (total 76 columns):\nMSSubClass       2919 non-null object\nMSZoning         2919 non-null object\nLotFrontage      2919 non-null float64\nLotArea          2919 non-null float64\nStreet           2919 non-null object\nAlley            2919 non-null object\nLotShape         2919 non-null object\nLandContour      2919 non-null object\nUtilities        2919 non-null object\nLotConfig        2919 non-null object\nLandSlope        2919 non-null object\nNeighborhood     2919 non-null object\nCondition1       2919 non-null object\nCondition2       2919 non-null object\nBldgType         2919 non-null object\nHouseStyle       2919 non-null object\nOverallQual      2919 non-null object\nOverallCond      2919 non-null object\nYearBuilt        2919 non-null float64\nYearRemodAdd     2919 non-null float64\nRoofStyle        2919 non-null object\nRoofMatl         2919 non-null object\nExterior1st      2919 non-null object\nExterior2nd      2919 non-null object\nMasVnrType       2919 non-null object\nMasVnrArea       2919 non-null float64\nExterQual        2919 non-null object\nExterCond        2919 non-null object\nFoundation       2919 non-null object\nBsmtQual         2919 non-null object\nBsmtCond         2919 non-null object\nBsmtExposure     2919 non-null object\nBsmtFinType1     2919 non-null object\nBsmtFinType2     2919 non-null object\nTotalBsmtSF      2919 non-null float64\nHeating          2919 non-null object\nHeatingQC        2919 non-null object\nCentralAir       2919 non-null object\nElectrical       2919 non-null object\n1stFlrSF         2919 non-null float64\n2ndFlrSF         2919 non-null float64\nLowQualFinSF     2919 non-null float64\nGrLivArea        2919 non-null float64\nBsmtFullBath     2919 non-null float64\nBsmtHalfBath     2919 non-null float64\nFullBath         2919 non-null float64\nHalfBath         2919 non-null float64\nBedroomAbvGr     2919 non-null float64\nKitchenAbvGr     2919 non-null float64\nKitchenQual      2919 non-null object\nTotRmsAbvGrd     2919 non-null float64\nFunctional       2919 non-null object\nFireplaces       2919 non-null float64\nFireplaceQu      2919 non-null object\nGarageType       2919 non-null object\nGarageFinish     2919 non-null object\nGarageCars       2919 non-null float64\nGarageArea       2919 non-null float64\nGarageQual       2919 non-null object\nGarageCond       2919 non-null object\nPavedDrive       2919 non-null object\nWoodDeckSF       2919 non-null float64\nOpenPorchSF      2919 non-null float64\nEnclosedPorch    2919 non-null float64\n3SsnPorch        2919 non-null float64\nScreenPorch      2919 non-null float64\nPoolArea         2919 non-null float64\nPoolQC           2919 non-null object\nFence            2919 non-null object\nMiscFeature      2919 non-null object\nMiscVal          2919 non-null float64\nMoSold           2919 non-null object\nYrSold           2919 non-null float64\nSaleType         2919 non-null object\nSaleCondition    2919 non-null object\nSalePrice        2919 non-null float64\ndtypes: float64(29), object(47)\nmemory usage: 1.7+ MB\n",
          "name": "stdout"
        }
      ]
    },
    {
      "metadata": {
        "trusted": true,
        "_uuid": "b6ca7e49c5dc6c21600fd68ddd89f3a84e39515d"
      },
      "cell_type": "code",
      "source": "def preProcessData(df, log=False):\n    \n    \n\n    #get dummies\n    if log:\n        print(\"Shape of the data set before pre processing : \", df.shape )\n        print(\"Categorical columns : \", list(df.select_dtypes(exclude=np.number)))\n    df = pd.get_dummies(df, dtype=np.float64)\n    \n    \n    \n    if log:\n        print(\"\\n\\nShape of the data set after pre processing : \", df.shape )\n        print(\"Columns in the data set are : \",list(df))\n\n    return df\n\ndf_prep = preProcessData(df)\ndf_prep.info()",
      "execution_count": 31,
      "outputs": [
        {
          "output_type": "stream",
          "text": "<class 'pandas.core.frame.DataFrame'>\nInt64Index: 2919 entries, 0 to 1458\nColumns: 351 entries, LotFrontage to SaleCondition_Partial\ndtypes: float64(351)\nmemory usage: 7.8 MB\n",
          "name": "stdout"
        }
      ]
    },
    {
      "metadata": {
        "_uuid": "1a805a9ca49b054c0eb6e50905effac11fc6eff6"
      },
      "cell_type": "markdown",
      "source": "https://stats.stackexchange.com/questions/130262/why-not-log-transform-all-variables-that-are-not-of-main-interest"
    },
    {
      "metadata": {
        "trusted": true,
        "_uuid": "4755fe3335b956ba6d54bb079b984368cc3a6f6c"
      },
      "cell_type": "code",
      "source": "def newBoxCoxTranformation(df,target,testFile=False, log=False):\n    \n    #assuming that only numerical features are presented\n    if log:\n        print(\"Shape of the dataset initial : \", df.shape)\n    \n    if not testFile:\n        df =df[df.SalePrice >0]\n        if log:\n            print(\"Shape of the dataset before transformation : \", df.shape)\n        y = np.array(df[target].apply( lambda x: math.log(x)))\n        X= df.drop(target,axis = 1)\n        x_columns = list(X)\n        X = preprocessing.MinMaxScaler(feature_range=(1, 2)).fit_transform(X)\n        X = pd.DataFrame(X, columns=x_columns)\n        \n        for c in list(X):\n            if len(X[c].unique()) in  [1,2]:\n                if log:\n                    print(\"Skipping Transformation for \", c, \"because unique values are :\",X[c].unique())\n            else:\n                if log:\n                    print(\"Boxcoxing : \", c)\n                X[c] = stats.boxcox(X[c])[0]\n\n        X = X.values\n        if log:\n            print(\"Shape of the dataset after transformation : \", X.shape, y.shape)\n        return X,y\n    else:\n        df = df[df.SalePrice == 0.0]\n        if log:\n            print(\"Shape of the dataset before transformation : \", df.shape)\n        X=df.drop(target,axis = 1)\n        x_columns = list(X)\n        X = preprocessing.MinMaxScaler(feature_range=(1, 2)).fit_transform(X)\n        \n        X = pd.DataFrame(X, columns=x_columns)\n        for c in list(X):\n            if len(X[c].unique()) in  [1,2]:\n                if log:\n                    print(\"Skipping Transformation for \", c, \"because unique values are :\",X[c].unique())\n            else:\n                if log:\n                    print(\"Boxcoxing : \", c)\n                X[c] = stats.boxcox(X[c])[0]\n        \n        \n        #X = preprocessing.power_transform( X, method='box-cox')\n        X = X.values\n        if log:\n            print(\"Shape of the dataset after transformation : \", X.shape)\n        return X\n        \n    \n\nX = newBoxCoxTranformation(df_prep,'SalePrice',True,False)  \nX,y = newBoxCoxTranformation(df_prep,'SalePrice',False,False)",
      "execution_count": 30,
      "outputs": []
    },
    {
      "metadata": {
        "trusted": true,
        "_uuid": "5fade6388778969408a988fae1972df3b453a876"
      },
      "cell_type": "code",
      "source": "X_train, X_test, y_train, y_test = train_test_split(X,y, test_size=0.5, random_state=random.randint(1,500))#, stratify=df.BldgType)",
      "execution_count": 9,
      "outputs": []
    },
    {
      "metadata": {
        "trusted": true,
        "_uuid": "c481d90f4fe0e0193c6640c0c08ded36ea776920"
      },
      "cell_type": "code",
      "source": "reg = XGBRegressor(max_depth=4,n_estimator=200, \n                   colsample_bylevel=.5,\n                   colsample_bytree=0.25,\n                   learning_rate=0.1,)\nreg.fit(X_train,y_train)\nreg.score(X_test,y_test)",
      "execution_count": 10,
      "outputs": [
        {
          "output_type": "execute_result",
          "execution_count": 10,
          "data": {
            "text/plain": "0.8836940306721286"
          },
          "metadata": {}
        }
      ]
    },
    {
      "metadata": {
        "trusted": true,
        "_uuid": "a8da4789c20d447c150607bebd18b21ed73e8bdc"
      },
      "cell_type": "code",
      "source": "np.sqrt(mean_squared_log_error(y_test, reg.predict(X_test)))",
      "execution_count": 11,
      "outputs": [
        {
          "output_type": "execute_result",
          "execution_count": 11,
          "data": {
            "text/plain": "0.01047279429433006"
          },
          "metadata": {}
        }
      ]
    },
    {
      "metadata": {
        "trusted": true,
        "_uuid": "184a80c1ae678e85eda56d4faa5047ffbaae5321"
      },
      "cell_type": "code",
      "source": "np.sqrt(mean_squared_log_error(np.exp(y_test), np.exp(reg.predict(X_test))))",
      "execution_count": 12,
      "outputs": [
        {
          "output_type": "execute_result",
          "execution_count": 12,
          "data": {
            "text/plain": "0.13581822908123203"
          },
          "metadata": {}
        }
      ]
    },
    {
      "metadata": {
        "trusted": true,
        "_uuid": "de6dfc7cc02217e7ffdbf9d73da406fe993798aa"
      },
      "cell_type": "code",
      "source": "reg.fit(X,y)",
      "execution_count": 13,
      "outputs": [
        {
          "output_type": "execute_result",
          "execution_count": 13,
          "data": {
            "text/plain": "XGBRegressor(base_score=0.5, booster='gbtree', colsample_bylevel=0.5,\n       colsample_bytree=0.25, gamma=0, learning_rate=0.1, max_delta_step=0,\n       max_depth=4, min_child_weight=1, missing=None, n_estimator=200,\n       n_estimators=100, n_jobs=1, nthread=None, objective='reg:linear',\n       random_state=0, reg_alpha=0, reg_lambda=1, scale_pos_weight=1,\n       seed=None, silent=True, subsample=1)"
          },
          "metadata": {}
        }
      ]
    },
    {
      "metadata": {
        "trusted": true,
        "_uuid": "ba35c7645edf1637935e3e900f8570fa6e850049"
      },
      "cell_type": "code",
      "source": "reg",
      "execution_count": 14,
      "outputs": [
        {
          "output_type": "execute_result",
          "execution_count": 14,
          "data": {
            "text/plain": "XGBRegressor(base_score=0.5, booster='gbtree', colsample_bylevel=0.5,\n       colsample_bytree=0.25, gamma=0, learning_rate=0.1, max_delta_step=0,\n       max_depth=4, min_child_weight=1, missing=None, n_estimator=200,\n       n_estimators=100, n_jobs=1, nthread=None, objective='reg:linear',\n       random_state=0, reg_alpha=0, reg_lambda=1, scale_pos_weight=1,\n       seed=None, silent=True, subsample=1)"
          },
          "metadata": {}
        }
      ]
    },
    {
      "metadata": {
        "_uuid": "7edf959b8aae25f97d9e71f36c400f7a8465f1cf"
      },
      "cell_type": "markdown",
      "source": "##### We need to have different pre-processing logic to test data. We will come back to it little later."
    },
    {
      "metadata": {
        "trusted": true,
        "_uuid": "a5262ac7909e28889a0aaba1564ee310caa43488"
      },
      "cell_type": "code",
      "source": "def checkTheTestFile(reg):\n    df_test = pd.read_csv(test_File)\n    df_test['SalePrice'] = 0.0\n    \n    df_train =  pd.read_csv(train_File)\n    df_concat = pd.concat([df_train,df_test])\n\n    #print(df_test[df_test.TotalBsmtSF.isna()])\n    #return\n    df = giveMeWrangledData(df_concat,True)\n    \n    #print(df.info())\n    df = preProcessData(df)\n    #print(df.info())\n    X = newBoxCoxTranformation(df,'SalePrice',True)\n    #print(np.sqrt(mean_squared_log_error(y, reg.predict(X))))\n    \n    df_test['SalePrice'] = np.exp(reg.predict(X))\n    \n    \n    return df_test, X, reg.predict(X)\ndf_test, X_dummy, y_dummy= checkTheTestFile(reg)",
      "execution_count": 15,
      "outputs": [
        {
          "output_type": "stream",
          "text": "Shape of the data set before pre processing :  (2919, 76)\n\n\nShape of the data set after pre processing :  (2919, 351)\nShape of the dataset initial :  (2919, 351)\nShape of the dataset before transformation :  (1459, 351)\nShape of the dataset after transformation :  (1459, 350)\n",
          "name": "stdout"
        }
      ]
    },
    {
      "metadata": {
        "trusted": true,
        "_uuid": "b4b1a60a7d572f5520b9d5a15d6cad6705c2fb3b"
      },
      "cell_type": "code",
      "source": "df_test[['Id','SalePrice']]",
      "execution_count": 16,
      "outputs": [
        {
          "output_type": "execute_result",
          "execution_count": 16,
          "data": {
            "text/plain": "        Id      SalePrice\n0     1461  112766.843750\n1     1462  136274.406250\n2     1463  156281.546875\n3     1464  165555.890625\n4     1465  179407.656250\n5     1466  149712.984375\n6     1467  137309.437500\n7     1468  145436.531250\n8     1469  174483.218750\n9     1470  127763.781250\n10    1471  187222.640625\n11    1472   91754.281250\n12    1473   96802.929688\n13    1474  129282.273438\n14    1475  105335.937500\n15    1476  287520.625000\n16    1477  177060.140625\n17    1478  253792.687500\n18    1479  268149.531250\n19    1480  324684.406250\n20    1481  265133.187500\n21    1482  180925.515625\n22    1483  140483.890625\n23    1484  155648.218750\n24    1485  153949.781250\n25    1486  175398.328125\n26    1487  291145.718750\n27    1488  207499.000000\n28    1489  145286.125000\n29    1490  215718.109375\n...    ...            ...\n1429  2890   96302.476562\n1430  2891  127001.851562\n1431  2892   46433.929688\n1432  2893   85199.656250\n1433  2894   55311.351562\n1434  2895  230339.828125\n1435  2896  265049.750000\n1436  2897  188221.234375\n1437  2898  144625.609375\n1438  2899  186579.890625\n1439  2900  136812.593750\n1440  2901  186308.203125\n1441  2902  192658.859375\n1442  2903  255395.890625\n1443  2904  263942.406250\n1444  2905  111320.500000\n1445  2906  190093.718750\n1446  2907  114591.390625\n1447  2908  145765.343750\n1448  2909  152137.484375\n1449  2910   69188.593750\n1450  2911   81470.773438\n1451  2912  132819.359375\n1452  2913   88478.796875\n1453  2914   85338.632812\n1454  2915   89770.109375\n1455  2916   88478.796875\n1456  2917  136090.890625\n1457  2918  119613.320312\n1458  2919  189964.500000\n\n[1459 rows x 2 columns]",
            "text/html": "<div>\n<style scoped>\n    .dataframe tbody tr th:only-of-type {\n        vertical-align: middle;\n    }\n\n    .dataframe tbody tr th {\n        vertical-align: top;\n    }\n\n    .dataframe thead th {\n        text-align: right;\n    }\n</style>\n<table border=\"1\" class=\"dataframe\">\n  <thead>\n    <tr style=\"text-align: right;\">\n      <th></th>\n      <th>Id</th>\n      <th>SalePrice</th>\n    </tr>\n  </thead>\n  <tbody>\n    <tr>\n      <th>0</th>\n      <td>1461</td>\n      <td>112766.843750</td>\n    </tr>\n    <tr>\n      <th>1</th>\n      <td>1462</td>\n      <td>136274.406250</td>\n    </tr>\n    <tr>\n      <th>2</th>\n      <td>1463</td>\n      <td>156281.546875</td>\n    </tr>\n    <tr>\n      <th>3</th>\n      <td>1464</td>\n      <td>165555.890625</td>\n    </tr>\n    <tr>\n      <th>4</th>\n      <td>1465</td>\n      <td>179407.656250</td>\n    </tr>\n    <tr>\n      <th>5</th>\n      <td>1466</td>\n      <td>149712.984375</td>\n    </tr>\n    <tr>\n      <th>6</th>\n      <td>1467</td>\n      <td>137309.437500</td>\n    </tr>\n    <tr>\n      <th>7</th>\n      <td>1468</td>\n      <td>145436.531250</td>\n    </tr>\n    <tr>\n      <th>8</th>\n      <td>1469</td>\n      <td>174483.218750</td>\n    </tr>\n    <tr>\n      <th>9</th>\n      <td>1470</td>\n      <td>127763.781250</td>\n    </tr>\n    <tr>\n      <th>10</th>\n      <td>1471</td>\n      <td>187222.640625</td>\n    </tr>\n    <tr>\n      <th>11</th>\n      <td>1472</td>\n      <td>91754.281250</td>\n    </tr>\n    <tr>\n      <th>12</th>\n      <td>1473</td>\n      <td>96802.929688</td>\n    </tr>\n    <tr>\n      <th>13</th>\n      <td>1474</td>\n      <td>129282.273438</td>\n    </tr>\n    <tr>\n      <th>14</th>\n      <td>1475</td>\n      <td>105335.937500</td>\n    </tr>\n    <tr>\n      <th>15</th>\n      <td>1476</td>\n      <td>287520.625000</td>\n    </tr>\n    <tr>\n      <th>16</th>\n      <td>1477</td>\n      <td>177060.140625</td>\n    </tr>\n    <tr>\n      <th>17</th>\n      <td>1478</td>\n      <td>253792.687500</td>\n    </tr>\n    <tr>\n      <th>18</th>\n      <td>1479</td>\n      <td>268149.531250</td>\n    </tr>\n    <tr>\n      <th>19</th>\n      <td>1480</td>\n      <td>324684.406250</td>\n    </tr>\n    <tr>\n      <th>20</th>\n      <td>1481</td>\n      <td>265133.187500</td>\n    </tr>\n    <tr>\n      <th>21</th>\n      <td>1482</td>\n      <td>180925.515625</td>\n    </tr>\n    <tr>\n      <th>22</th>\n      <td>1483</td>\n      <td>140483.890625</td>\n    </tr>\n    <tr>\n      <th>23</th>\n      <td>1484</td>\n      <td>155648.218750</td>\n    </tr>\n    <tr>\n      <th>24</th>\n      <td>1485</td>\n      <td>153949.781250</td>\n    </tr>\n    <tr>\n      <th>25</th>\n      <td>1486</td>\n      <td>175398.328125</td>\n    </tr>\n    <tr>\n      <th>26</th>\n      <td>1487</td>\n      <td>291145.718750</td>\n    </tr>\n    <tr>\n      <th>27</th>\n      <td>1488</td>\n      <td>207499.000000</td>\n    </tr>\n    <tr>\n      <th>28</th>\n      <td>1489</td>\n      <td>145286.125000</td>\n    </tr>\n    <tr>\n      <th>29</th>\n      <td>1490</td>\n      <td>215718.109375</td>\n    </tr>\n    <tr>\n      <th>...</th>\n      <td>...</td>\n      <td>...</td>\n    </tr>\n    <tr>\n      <th>1429</th>\n      <td>2890</td>\n      <td>96302.476562</td>\n    </tr>\n    <tr>\n      <th>1430</th>\n      <td>2891</td>\n      <td>127001.851562</td>\n    </tr>\n    <tr>\n      <th>1431</th>\n      <td>2892</td>\n      <td>46433.929688</td>\n    </tr>\n    <tr>\n      <th>1432</th>\n      <td>2893</td>\n      <td>85199.656250</td>\n    </tr>\n    <tr>\n      <th>1433</th>\n      <td>2894</td>\n      <td>55311.351562</td>\n    </tr>\n    <tr>\n      <th>1434</th>\n      <td>2895</td>\n      <td>230339.828125</td>\n    </tr>\n    <tr>\n      <th>1435</th>\n      <td>2896</td>\n      <td>265049.750000</td>\n    </tr>\n    <tr>\n      <th>1436</th>\n      <td>2897</td>\n      <td>188221.234375</td>\n    </tr>\n    <tr>\n      <th>1437</th>\n      <td>2898</td>\n      <td>144625.609375</td>\n    </tr>\n    <tr>\n      <th>1438</th>\n      <td>2899</td>\n      <td>186579.890625</td>\n    </tr>\n    <tr>\n      <th>1439</th>\n      <td>2900</td>\n      <td>136812.593750</td>\n    </tr>\n    <tr>\n      <th>1440</th>\n      <td>2901</td>\n      <td>186308.203125</td>\n    </tr>\n    <tr>\n      <th>1441</th>\n      <td>2902</td>\n      <td>192658.859375</td>\n    </tr>\n    <tr>\n      <th>1442</th>\n      <td>2903</td>\n      <td>255395.890625</td>\n    </tr>\n    <tr>\n      <th>1443</th>\n      <td>2904</td>\n      <td>263942.406250</td>\n    </tr>\n    <tr>\n      <th>1444</th>\n      <td>2905</td>\n      <td>111320.500000</td>\n    </tr>\n    <tr>\n      <th>1445</th>\n      <td>2906</td>\n      <td>190093.718750</td>\n    </tr>\n    <tr>\n      <th>1446</th>\n      <td>2907</td>\n      <td>114591.390625</td>\n    </tr>\n    <tr>\n      <th>1447</th>\n      <td>2908</td>\n      <td>145765.343750</td>\n    </tr>\n    <tr>\n      <th>1448</th>\n      <td>2909</td>\n      <td>152137.484375</td>\n    </tr>\n    <tr>\n      <th>1449</th>\n      <td>2910</td>\n      <td>69188.593750</td>\n    </tr>\n    <tr>\n      <th>1450</th>\n      <td>2911</td>\n      <td>81470.773438</td>\n    </tr>\n    <tr>\n      <th>1451</th>\n      <td>2912</td>\n      <td>132819.359375</td>\n    </tr>\n    <tr>\n      <th>1452</th>\n      <td>2913</td>\n      <td>88478.796875</td>\n    </tr>\n    <tr>\n      <th>1453</th>\n      <td>2914</td>\n      <td>85338.632812</td>\n    </tr>\n    <tr>\n      <th>1454</th>\n      <td>2915</td>\n      <td>89770.109375</td>\n    </tr>\n    <tr>\n      <th>1455</th>\n      <td>2916</td>\n      <td>88478.796875</td>\n    </tr>\n    <tr>\n      <th>1456</th>\n      <td>2917</td>\n      <td>136090.890625</td>\n    </tr>\n    <tr>\n      <th>1457</th>\n      <td>2918</td>\n      <td>119613.320312</td>\n    </tr>\n    <tr>\n      <th>1458</th>\n      <td>2919</td>\n      <td>189964.500000</td>\n    </tr>\n  </tbody>\n</table>\n<p>1459 rows × 2 columns</p>\n</div>"
          },
          "metadata": {}
        }
      ]
    },
    {
      "metadata": {
        "trusted": true,
        "_uuid": "add99d35892adf15e435ee2289eeae6309ecbb39"
      },
      "cell_type": "code",
      "source": "df_test[['Id','SalePrice']].to_csv('submission.csv',index=False)",
      "execution_count": 17,
      "outputs": []
    },
    {
      "metadata": {
        "_uuid": "9fc8f97f810bde8b8156ec7d805ff4bc164ceb1d"
      },
      "cell_type": "markdown",
      "source": "##### I got Kaggle Rank of 2539/4463 with RMSLE =0.14357\n##### As on 1/17/2019 : 9:06PM IST\n* 0.13501 ==> 2040 \n* 0.13252 ==> 1865\n* 0.13002 ==> 1704\n* 0.12658 ==> 1500\n* 0.12351 ==> 1250\n* 0.12081 ==> 1000\n* 0.11572 ==> 500\n* 0.11475 ==> 250\n* 0.11310 ==> 100\n* 0.10985 ==> 50\n* 0.10973 ==> 25\n* 0.10845 ==> 10\n* 0.08021 ==> 5\n* 0.00000 ==> 1"
    },
    {
      "metadata": {
        "_uuid": "239afef2151c918dba6e55e8953533963f4b794c"
      },
      "cell_type": "markdown",
      "source": "##### Now that I know around what score gets what rank; can we have a function which would what would be testing score ?"
    },
    {
      "metadata": {
        "_uuid": "f1cf3ab0ab8f51dbea7eb474a40fa6e5166f7101"
      },
      "cell_type": "markdown",
      "source": "##### Logic is to predict first the testing samples. Later use that for training and predict the initial training data set. We would then have actual and predicted SalePrices with which we can calculated the RMSLE."
    },
    {
      "metadata": {
        "_uuid": "04a364da82d203e9ab6e14363bdcc3ef5db2d66d"
      },
      "cell_type": "markdown",
      "source": "##### Would this logic work ? let us try for our case now and compare that with Kaggle result....Finger crossed :)"
    },
    {
      "metadata": {
        "trusted": true,
        "_uuid": "cdd0f3c66accd378d69675482f74af1b821a536b"
      },
      "cell_type": "code",
      "source": "def crossValidationScoring(reg,X,y):\n    return np.sqrt(mean_squared_log_error(np.exp(y), \n                                          np.exp(reg.predict(X))\n                                          ))\nmean_temp_rmsle = np.mean(cross_val_score(reg,X,y,cv= 5,scoring='neg_mean_squared_log_error'))\nprint(\"RMSE with without target variable transformation : \", np.sqrt(mean_temp_rmsle * -1))\nmean_temp_rmsle = np.mean(cross_val_score(reg,X,y,cv= 5,scoring=crossValidationScoring))\nprint(\"RMSE with post target variable transformation : \", mean_temp_rmsle)",
      "execution_count": 28,
      "outputs": [
        {
          "output_type": "stream",
          "text": "RMSE with without target variable transformation :  0.010339346410598079\nRMSE with post target variable transformation :  0.1325882518434401\n",
          "name": "stdout"
        }
      ]
    },
    {
      "metadata": {
        "trusted": true,
        "_uuid": "dd7f6c4a4c973389d46564509706a61e435dccc8"
      },
      "cell_type": "code",
      "source": "def forCrossValidationStratifiedShuffleSplit(df):\n    sss = StratifiedShuffleSplit(n_splits=n_splits, test_size=test_size, random_state=random_state)\n    #print(\"Number of Splits configured :\", sss.get_n_splits(df, df.BldgType))\n    \n    for train_index, test_index in sss.split(df, df.BldgType):\n        yield train_index, test_index\n        \n    for train_index, test_index in sss.split(df, df.OverallQual):\n        yield train_index, test_index",
      "execution_count": 35,
      "outputs": []
    },
    {
      "metadata": {
        "trusted": true,
        "scrolled": true,
        "_uuid": "a048507811ab76194c514b637c8b0b2308a97e5f"
      },
      "cell_type": "code",
      "source": "def doGridSearch():\n    \n    start_time = datetime.datetime.now()\n    \n    df_train = pd.read_csv(train_File)\n    df_test = pd.read_csv(test_File)\n    df_test['SalePrice'] = 0\n    df_concat = pd.concat([df_train,df_test])\n    \n    df = giveMeWrangledData(df_concat)\n    df_prep = preProcessData(df)\n    \n    X,y = newBoxCoxTranformation(df_prep,'SalePrice',False,False)\n    \n    score_list = []\n    for i in range(max_depth_min,max_depth_max):\n        for j in range(n_estimator_min,n_estimator_max,100):\n            loop_start = datetime.datetime.now()\n            for bytree in [0.25, 0.5, 0.75,1]:\n                for bylevel in [0.25, 0.5, 0.75,1]:\n                #for lrate in [.01, .025, 0.05, .075, .1, .25, .5]:\n                    #j=100\n                    \n\n                    #reg = XGBRegressor(max_depth=i, n_estimators=j)\n                    reg=XGBRegressor(max_depth=i, \n                         n_estimator=j,\n                         colsample_bylevel=bylevel,\n                         colsample_bytree=bytree,\n                         learning_rate=.1,\n                         n_jobs=n_jobs\n                        )\n\n                    #cv = ShuffleSplit(n_splits=20, test_size=random.randint(7,9)/10, random_state=random.randint(1,1000))\n                    #cv = ShuffleSplit(n_splits=20, test_size=.5, random_state=1986)\n                    #print(datetime.datetime())\n                    cross_cv = cross_val_score(reg, X, y,\\\n                                               cv=forCrossValidationStratifiedShuffleSplit(df_train), \\\n                                               #cv=cv, \\\n                                               scoring=crossValidationScoring,n_jobs=n_jobs)\n                    #print(\" Validat Median Score : \", np.sqrt(np.median(cross_cv) * -1), \\\n                    #      \"Average Score : \", np.sqrt(np.average(cross_cv) * -1) )\n\n                    reg.fit(X,y)\n                    training_score = np.sqrt(mean_squared_log_error(np.exp(y), np.exp(reg.predict(X))))\n                    #print(\"Training Score :\", training_score)\n\n                    df_test_new, X_test, y_test = checkTheTestFile(reg)\n                    '''reg1=XGBRegressor(max_depth=i, \n                         n_estimator=j,\n                         #colsample_bylevel=0.5,\n                         #colsample_bytree=0.5,\n                         #learning_rate=0.1,\n                         #n_jobs=n_jobs\n                        )'''\n                    reg.fit(X_test,y_test)\n                    testing_score = np.sqrt(mean_squared_log_error(np.exp(y), np.exp(reg.predict(X))))\n                    #print(\"Testing Score :\", testing_score)\n                    print(\"Scores\",(training_score, np.average(cross_cv), testing_score,i,j,bytree, bylevel))\n                    score_list.append((training_score, np.average(cross_cv), testing_score,i,j,bytree, bylevel))\n\n            print(\"Time for max_depth -\",i,\"n_estimator -\",j,\" is : \", datetime.datetime.now() - loop_start)\n    \n    print(\"Total time for GridSearch : \", datetime.datetime.now() - start_time)\n    return score_list\n\nscore_list = doGridSearch()\n#sorted(score_list,key= lambda x:x[0])",
      "execution_count": null,
      "outputs": []
    },
    {
      "metadata": {
        "trusted": true,
        "_uuid": "b985a529e359db621577c792daa6e417b611d1aa"
      },
      "cell_type": "code",
      "source": "temp_df = pd.DataFrame(score_list,columns=[\"training_score\",\n                                           \"validation_score\",\n                                           \"testing_score\", \n                                           \"max_depth\",\n                                           \"n_estimator\",\n                                           \"bytree\",\n                                           \"bylevel\",\n                                          ])\n\ntemp_df.to_csv(\"GridSearchResults-\"+str(datetime.datetime.now().date()))\ntemp_df",
      "execution_count": 21,
      "outputs": [
        {
          "output_type": "execute_result",
          "execution_count": 21,
          "data": {
            "text/plain": "      training_score  validation_score   ...     bytree  bylevel\n0           0.008280          0.011175   ...       0.25     0.25\n1           0.007892          0.010923   ...       0.25     0.50\n2           0.007586          0.010922   ...       0.25     0.75\n3           0.007634          0.010858   ...       0.25     1.00\n4           0.007913          0.010921   ...       0.50     0.25\n5           0.007540          0.010944   ...       0.50     0.50\n6           0.007373          0.010934   ...       0.50     0.75\n7           0.007289          0.010966   ...       0.50     1.00\n8           0.007539          0.010884   ...       0.75     0.25\n9           0.007317          0.010930   ...       0.75     0.50\n10          0.007192          0.010924   ...       0.75     0.75\n11          0.007150          0.010971   ...       0.75     1.00\n12          0.007482          0.010927   ...       1.00     0.25\n13          0.007207          0.010922   ...       1.00     0.50\n14          0.007143          0.011010   ...       1.00     0.75\n15          0.007038          0.011065   ...       1.00     1.00\n16          0.008280          0.011175   ...       0.25     0.25\n17          0.007892          0.010923   ...       0.25     0.50\n18          0.007586          0.010922   ...       0.25     0.75\n19          0.007634          0.010858   ...       0.25     1.00\n20          0.007913          0.010921   ...       0.50     0.25\n21          0.007540          0.010944   ...       0.50     0.50\n22          0.007373          0.010934   ...       0.50     0.75\n23          0.007289          0.010966   ...       0.50     1.00\n24          0.007539          0.010884   ...       0.75     0.25\n25          0.007317          0.010930   ...       0.75     0.50\n26          0.007192          0.010924   ...       0.75     0.75\n27          0.007150          0.010971   ...       0.75     1.00\n28          0.007482          0.010927   ...       1.00     0.25\n29          0.007207          0.010922   ...       1.00     0.50\n...              ...               ...   ...        ...      ...\n1250        0.001994          0.011043   ...       0.25     0.75\n1251        0.001775          0.010985   ...       0.25     1.00\n1252        0.002035          0.010836   ...       0.50     0.25\n1253        0.001815          0.010914   ...       0.50     0.50\n1254        0.001784          0.010968   ...       0.50     0.75\n1255        0.001601          0.011032   ...       0.50     1.00\n1256        0.002152          0.010939   ...       0.75     0.25\n1257        0.001731          0.011021   ...       0.75     0.50\n1258        0.001855          0.011100   ...       0.75     0.75\n1259        0.001715          0.011116   ...       0.75     1.00\n1260        0.001795          0.011021   ...       1.00     0.25\n1261        0.001675          0.011089   ...       1.00     0.50\n1262        0.001658          0.011104   ...       1.00     0.75\n1263        0.001726          0.011296   ...       1.00     1.00\n1264        0.002621          0.011028   ...       0.25     0.25\n1265        0.001991          0.010954   ...       0.25     0.50\n1266        0.001994          0.011043   ...       0.25     0.75\n1267        0.001775          0.010985   ...       0.25     1.00\n1268        0.002035          0.010836   ...       0.50     0.25\n1269        0.001815          0.010914   ...       0.50     0.50\n1270        0.001784          0.010968   ...       0.50     0.75\n1271        0.001601          0.011032   ...       0.50     1.00\n1272        0.002152          0.010939   ...       0.75     0.25\n1273        0.001731          0.011021   ...       0.75     0.50\n1274        0.001855          0.011100   ...       0.75     0.75\n1275        0.001715          0.011116   ...       0.75     1.00\n1276        0.001795          0.011021   ...       1.00     0.25\n1277        0.001675          0.011089   ...       1.00     0.50\n1278        0.001658          0.011104   ...       1.00     0.75\n1279        0.001726          0.011296   ...       1.00     1.00\n\n[1280 rows x 7 columns]",
            "text/html": "<div>\n<style scoped>\n    .dataframe tbody tr th:only-of-type {\n        vertical-align: middle;\n    }\n\n    .dataframe tbody tr th {\n        vertical-align: top;\n    }\n\n    .dataframe thead th {\n        text-align: right;\n    }\n</style>\n<table border=\"1\" class=\"dataframe\">\n  <thead>\n    <tr style=\"text-align: right;\">\n      <th></th>\n      <th>training_score</th>\n      <th>validation_score</th>\n      <th>testing_score</th>\n      <th>max_depth</th>\n      <th>n_estimator</th>\n      <th>bytree</th>\n      <th>bylevel</th>\n    </tr>\n  </thead>\n  <tbody>\n    <tr>\n      <th>0</th>\n      <td>0.008280</td>\n      <td>0.011175</td>\n      <td>0.013077</td>\n      <td>3</td>\n      <td>100</td>\n      <td>0.25</td>\n      <td>0.25</td>\n    </tr>\n    <tr>\n      <th>1</th>\n      <td>0.007892</td>\n      <td>0.010923</td>\n      <td>0.012263</td>\n      <td>3</td>\n      <td>100</td>\n      <td>0.25</td>\n      <td>0.50</td>\n    </tr>\n    <tr>\n      <th>2</th>\n      <td>0.007586</td>\n      <td>0.010922</td>\n      <td>0.012400</td>\n      <td>3</td>\n      <td>100</td>\n      <td>0.25</td>\n      <td>0.75</td>\n    </tr>\n    <tr>\n      <th>3</th>\n      <td>0.007634</td>\n      <td>0.010858</td>\n      <td>0.012724</td>\n      <td>3</td>\n      <td>100</td>\n      <td>0.25</td>\n      <td>1.00</td>\n    </tr>\n    <tr>\n      <th>4</th>\n      <td>0.007913</td>\n      <td>0.010921</td>\n      <td>0.013414</td>\n      <td>3</td>\n      <td>100</td>\n      <td>0.50</td>\n      <td>0.25</td>\n    </tr>\n    <tr>\n      <th>5</th>\n      <td>0.007540</td>\n      <td>0.010944</td>\n      <td>0.012348</td>\n      <td>3</td>\n      <td>100</td>\n      <td>0.50</td>\n      <td>0.50</td>\n    </tr>\n    <tr>\n      <th>6</th>\n      <td>0.007373</td>\n      <td>0.010934</td>\n      <td>0.012971</td>\n      <td>3</td>\n      <td>100</td>\n      <td>0.50</td>\n      <td>0.75</td>\n    </tr>\n    <tr>\n      <th>7</th>\n      <td>0.007289</td>\n      <td>0.010966</td>\n      <td>0.012710</td>\n      <td>3</td>\n      <td>100</td>\n      <td>0.50</td>\n      <td>1.00</td>\n    </tr>\n    <tr>\n      <th>8</th>\n      <td>0.007539</td>\n      <td>0.010884</td>\n      <td>0.012878</td>\n      <td>3</td>\n      <td>100</td>\n      <td>0.75</td>\n      <td>0.25</td>\n    </tr>\n    <tr>\n      <th>9</th>\n      <td>0.007317</td>\n      <td>0.010930</td>\n      <td>0.013194</td>\n      <td>3</td>\n      <td>100</td>\n      <td>0.75</td>\n      <td>0.50</td>\n    </tr>\n    <tr>\n      <th>10</th>\n      <td>0.007192</td>\n      <td>0.010924</td>\n      <td>0.012411</td>\n      <td>3</td>\n      <td>100</td>\n      <td>0.75</td>\n      <td>0.75</td>\n    </tr>\n    <tr>\n      <th>11</th>\n      <td>0.007150</td>\n      <td>0.010971</td>\n      <td>0.012521</td>\n      <td>3</td>\n      <td>100</td>\n      <td>0.75</td>\n      <td>1.00</td>\n    </tr>\n    <tr>\n      <th>12</th>\n      <td>0.007482</td>\n      <td>0.010927</td>\n      <td>0.013282</td>\n      <td>3</td>\n      <td>100</td>\n      <td>1.00</td>\n      <td>0.25</td>\n    </tr>\n    <tr>\n      <th>13</th>\n      <td>0.007207</td>\n      <td>0.010922</td>\n      <td>0.012560</td>\n      <td>3</td>\n      <td>100</td>\n      <td>1.00</td>\n      <td>0.50</td>\n    </tr>\n    <tr>\n      <th>14</th>\n      <td>0.007143</td>\n      <td>0.011010</td>\n      <td>0.012191</td>\n      <td>3</td>\n      <td>100</td>\n      <td>1.00</td>\n      <td>0.75</td>\n    </tr>\n    <tr>\n      <th>15</th>\n      <td>0.007038</td>\n      <td>0.011065</td>\n      <td>0.012684</td>\n      <td>3</td>\n      <td>100</td>\n      <td>1.00</td>\n      <td>1.00</td>\n    </tr>\n    <tr>\n      <th>16</th>\n      <td>0.008280</td>\n      <td>0.011175</td>\n      <td>0.013077</td>\n      <td>3</td>\n      <td>200</td>\n      <td>0.25</td>\n      <td>0.25</td>\n    </tr>\n    <tr>\n      <th>17</th>\n      <td>0.007892</td>\n      <td>0.010923</td>\n      <td>0.012263</td>\n      <td>3</td>\n      <td>200</td>\n      <td>0.25</td>\n      <td>0.50</td>\n    </tr>\n    <tr>\n      <th>18</th>\n      <td>0.007586</td>\n      <td>0.010922</td>\n      <td>0.012400</td>\n      <td>3</td>\n      <td>200</td>\n      <td>0.25</td>\n      <td>0.75</td>\n    </tr>\n    <tr>\n      <th>19</th>\n      <td>0.007634</td>\n      <td>0.010858</td>\n      <td>0.012724</td>\n      <td>3</td>\n      <td>200</td>\n      <td>0.25</td>\n      <td>1.00</td>\n    </tr>\n    <tr>\n      <th>20</th>\n      <td>0.007913</td>\n      <td>0.010921</td>\n      <td>0.013414</td>\n      <td>3</td>\n      <td>200</td>\n      <td>0.50</td>\n      <td>0.25</td>\n    </tr>\n    <tr>\n      <th>21</th>\n      <td>0.007540</td>\n      <td>0.010944</td>\n      <td>0.012348</td>\n      <td>3</td>\n      <td>200</td>\n      <td>0.50</td>\n      <td>0.50</td>\n    </tr>\n    <tr>\n      <th>22</th>\n      <td>0.007373</td>\n      <td>0.010934</td>\n      <td>0.012971</td>\n      <td>3</td>\n      <td>200</td>\n      <td>0.50</td>\n      <td>0.75</td>\n    </tr>\n    <tr>\n      <th>23</th>\n      <td>0.007289</td>\n      <td>0.010966</td>\n      <td>0.012710</td>\n      <td>3</td>\n      <td>200</td>\n      <td>0.50</td>\n      <td>1.00</td>\n    </tr>\n    <tr>\n      <th>24</th>\n      <td>0.007539</td>\n      <td>0.010884</td>\n      <td>0.012878</td>\n      <td>3</td>\n      <td>200</td>\n      <td>0.75</td>\n      <td>0.25</td>\n    </tr>\n    <tr>\n      <th>25</th>\n      <td>0.007317</td>\n      <td>0.010930</td>\n      <td>0.013194</td>\n      <td>3</td>\n      <td>200</td>\n      <td>0.75</td>\n      <td>0.50</td>\n    </tr>\n    <tr>\n      <th>26</th>\n      <td>0.007192</td>\n      <td>0.010924</td>\n      <td>0.012411</td>\n      <td>3</td>\n      <td>200</td>\n      <td>0.75</td>\n      <td>0.75</td>\n    </tr>\n    <tr>\n      <th>27</th>\n      <td>0.007150</td>\n      <td>0.010971</td>\n      <td>0.012521</td>\n      <td>3</td>\n      <td>200</td>\n      <td>0.75</td>\n      <td>1.00</td>\n    </tr>\n    <tr>\n      <th>28</th>\n      <td>0.007482</td>\n      <td>0.010927</td>\n      <td>0.013282</td>\n      <td>3</td>\n      <td>200</td>\n      <td>1.00</td>\n      <td>0.25</td>\n    </tr>\n    <tr>\n      <th>29</th>\n      <td>0.007207</td>\n      <td>0.010922</td>\n      <td>0.012560</td>\n      <td>3</td>\n      <td>200</td>\n      <td>1.00</td>\n      <td>0.50</td>\n    </tr>\n    <tr>\n      <th>...</th>\n      <td>...</td>\n      <td>...</td>\n      <td>...</td>\n      <td>...</td>\n      <td>...</td>\n      <td>...</td>\n      <td>...</td>\n    </tr>\n    <tr>\n      <th>1250</th>\n      <td>0.001994</td>\n      <td>0.011043</td>\n      <td>0.012356</td>\n      <td>10</td>\n      <td>900</td>\n      <td>0.25</td>\n      <td>0.75</td>\n    </tr>\n    <tr>\n      <th>1251</th>\n      <td>0.001775</td>\n      <td>0.010985</td>\n      <td>0.012774</td>\n      <td>10</td>\n      <td>900</td>\n      <td>0.25</td>\n      <td>1.00</td>\n    </tr>\n    <tr>\n      <th>1252</th>\n      <td>0.002035</td>\n      <td>0.010836</td>\n      <td>0.012650</td>\n      <td>10</td>\n      <td>900</td>\n      <td>0.50</td>\n      <td>0.25</td>\n    </tr>\n    <tr>\n      <th>1253</th>\n      <td>0.001815</td>\n      <td>0.010914</td>\n      <td>0.012766</td>\n      <td>10</td>\n      <td>900</td>\n      <td>0.50</td>\n      <td>0.50</td>\n    </tr>\n    <tr>\n      <th>1254</th>\n      <td>0.001784</td>\n      <td>0.010968</td>\n      <td>0.013880</td>\n      <td>10</td>\n      <td>900</td>\n      <td>0.50</td>\n      <td>0.75</td>\n    </tr>\n    <tr>\n      <th>1255</th>\n      <td>0.001601</td>\n      <td>0.011032</td>\n      <td>0.012997</td>\n      <td>10</td>\n      <td>900</td>\n      <td>0.50</td>\n      <td>1.00</td>\n    </tr>\n    <tr>\n      <th>1256</th>\n      <td>0.002152</td>\n      <td>0.010939</td>\n      <td>0.011931</td>\n      <td>10</td>\n      <td>900</td>\n      <td>0.75</td>\n      <td>0.25</td>\n    </tr>\n    <tr>\n      <th>1257</th>\n      <td>0.001731</td>\n      <td>0.011021</td>\n      <td>0.012289</td>\n      <td>10</td>\n      <td>900</td>\n      <td>0.75</td>\n      <td>0.50</td>\n    </tr>\n    <tr>\n      <th>1258</th>\n      <td>0.001855</td>\n      <td>0.011100</td>\n      <td>0.013779</td>\n      <td>10</td>\n      <td>900</td>\n      <td>0.75</td>\n      <td>0.75</td>\n    </tr>\n    <tr>\n      <th>1259</th>\n      <td>0.001715</td>\n      <td>0.011116</td>\n      <td>0.013959</td>\n      <td>10</td>\n      <td>900</td>\n      <td>0.75</td>\n      <td>1.00</td>\n    </tr>\n    <tr>\n      <th>1260</th>\n      <td>0.001795</td>\n      <td>0.011021</td>\n      <td>0.012201</td>\n      <td>10</td>\n      <td>900</td>\n      <td>1.00</td>\n      <td>0.25</td>\n    </tr>\n    <tr>\n      <th>1261</th>\n      <td>0.001675</td>\n      <td>0.011089</td>\n      <td>0.012764</td>\n      <td>10</td>\n      <td>900</td>\n      <td>1.00</td>\n      <td>0.50</td>\n    </tr>\n    <tr>\n      <th>1262</th>\n      <td>0.001658</td>\n      <td>0.011104</td>\n      <td>0.012788</td>\n      <td>10</td>\n      <td>900</td>\n      <td>1.00</td>\n      <td>0.75</td>\n    </tr>\n    <tr>\n      <th>1263</th>\n      <td>0.001726</td>\n      <td>0.011296</td>\n      <td>0.012879</td>\n      <td>10</td>\n      <td>900</td>\n      <td>1.00</td>\n      <td>1.00</td>\n    </tr>\n    <tr>\n      <th>1264</th>\n      <td>0.002621</td>\n      <td>0.011028</td>\n      <td>0.012454</td>\n      <td>10</td>\n      <td>1000</td>\n      <td>0.25</td>\n      <td>0.25</td>\n    </tr>\n    <tr>\n      <th>1265</th>\n      <td>0.001991</td>\n      <td>0.010954</td>\n      <td>0.012211</td>\n      <td>10</td>\n      <td>1000</td>\n      <td>0.25</td>\n      <td>0.50</td>\n    </tr>\n    <tr>\n      <th>1266</th>\n      <td>0.001994</td>\n      <td>0.011043</td>\n      <td>0.012356</td>\n      <td>10</td>\n      <td>1000</td>\n      <td>0.25</td>\n      <td>0.75</td>\n    </tr>\n    <tr>\n      <th>1267</th>\n      <td>0.001775</td>\n      <td>0.010985</td>\n      <td>0.012774</td>\n      <td>10</td>\n      <td>1000</td>\n      <td>0.25</td>\n      <td>1.00</td>\n    </tr>\n    <tr>\n      <th>1268</th>\n      <td>0.002035</td>\n      <td>0.010836</td>\n      <td>0.012650</td>\n      <td>10</td>\n      <td>1000</td>\n      <td>0.50</td>\n      <td>0.25</td>\n    </tr>\n    <tr>\n      <th>1269</th>\n      <td>0.001815</td>\n      <td>0.010914</td>\n      <td>0.012766</td>\n      <td>10</td>\n      <td>1000</td>\n      <td>0.50</td>\n      <td>0.50</td>\n    </tr>\n    <tr>\n      <th>1270</th>\n      <td>0.001784</td>\n      <td>0.010968</td>\n      <td>0.013880</td>\n      <td>10</td>\n      <td>1000</td>\n      <td>0.50</td>\n      <td>0.75</td>\n    </tr>\n    <tr>\n      <th>1271</th>\n      <td>0.001601</td>\n      <td>0.011032</td>\n      <td>0.012997</td>\n      <td>10</td>\n      <td>1000</td>\n      <td>0.50</td>\n      <td>1.00</td>\n    </tr>\n    <tr>\n      <th>1272</th>\n      <td>0.002152</td>\n      <td>0.010939</td>\n      <td>0.011931</td>\n      <td>10</td>\n      <td>1000</td>\n      <td>0.75</td>\n      <td>0.25</td>\n    </tr>\n    <tr>\n      <th>1273</th>\n      <td>0.001731</td>\n      <td>0.011021</td>\n      <td>0.012289</td>\n      <td>10</td>\n      <td>1000</td>\n      <td>0.75</td>\n      <td>0.50</td>\n    </tr>\n    <tr>\n      <th>1274</th>\n      <td>0.001855</td>\n      <td>0.011100</td>\n      <td>0.013779</td>\n      <td>10</td>\n      <td>1000</td>\n      <td>0.75</td>\n      <td>0.75</td>\n    </tr>\n    <tr>\n      <th>1275</th>\n      <td>0.001715</td>\n      <td>0.011116</td>\n      <td>0.013959</td>\n      <td>10</td>\n      <td>1000</td>\n      <td>0.75</td>\n      <td>1.00</td>\n    </tr>\n    <tr>\n      <th>1276</th>\n      <td>0.001795</td>\n      <td>0.011021</td>\n      <td>0.012201</td>\n      <td>10</td>\n      <td>1000</td>\n      <td>1.00</td>\n      <td>0.25</td>\n    </tr>\n    <tr>\n      <th>1277</th>\n      <td>0.001675</td>\n      <td>0.011089</td>\n      <td>0.012764</td>\n      <td>10</td>\n      <td>1000</td>\n      <td>1.00</td>\n      <td>0.50</td>\n    </tr>\n    <tr>\n      <th>1278</th>\n      <td>0.001658</td>\n      <td>0.011104</td>\n      <td>0.012788</td>\n      <td>10</td>\n      <td>1000</td>\n      <td>1.00</td>\n      <td>0.75</td>\n    </tr>\n    <tr>\n      <th>1279</th>\n      <td>0.001726</td>\n      <td>0.011296</td>\n      <td>0.012879</td>\n      <td>10</td>\n      <td>1000</td>\n      <td>1.00</td>\n      <td>1.00</td>\n    </tr>\n  </tbody>\n</table>\n<p>1280 rows × 7 columns</p>\n</div>"
          },
          "metadata": {}
        }
      ]
    },
    {
      "metadata": {
        "trusted": true,
        "_uuid": "0b0f6d66aecf5602b56c980160d0ccb5b3023929"
      },
      "cell_type": "code",
      "source": "temp_df[temp_df.testing_score == temp_df.testing_score.min()]",
      "execution_count": null,
      "outputs": []
    },
    {
      "metadata": {
        "trusted": true,
        "_uuid": "452401a7e157947052e0f283ba81bd3d0fa289af",
        "scrolled": true
      },
      "cell_type": "code",
      "source": "temp_df[temp_df.validation_score == temp_df.validation_score.min()]",
      "execution_count": null,
      "outputs": []
    },
    {
      "metadata": {
        "trusted": true,
        "scrolled": false,
        "_uuid": "4e4ebf0d6215466b1111e8006308637f726c79d6"
      },
      "cell_type": "code",
      "source": "def plottheTemp(df,title):\n    #for bytree in [.25,.5,.75,1]:\n    #for n in temp_df.n_estimator.unique():\n        fig, ax = plt.subplots()\n        plt.title(title)\n        ax = df.plot.line('max_depth','training_score',ax =ax,xticks= list(range(3,11)))\n        ax = df.plot.line('max_depth','validation_score',ax =ax,xticks= list(range(3,11)))\n        ax = df.plot.line('max_depth','testing_score',ax =ax,xticks= list(range(3,11)))\n        #x_point = temp_df[temp_df.validation_score == temp_df.validation_score.min()]['max_depth'].tolist()[0]\n        #ax= ax.vlines(x_point,0,.2)\n        #x_point1 = df[df.testing_score == temp_df.testing_score.min()]['max_depth'].tolist()[0]\n        #ax= ax.vlines(x_point1,0,.2)\n        \n        plt.show()\n#,'validation_score')\n\nfor bytree in temp_df.bytree.unique():\n    plottheTemp(temp_df[temp_df.bytree == bytree], \"bytree - \"+str(bytree))\n    \nfor bylevel in temp_df.bylevel.unique():\n    plottheTemp(temp_df[temp_df.bylevel == bylevel], \"bylevel - \"+str(bylevel))",
      "execution_count": null,
      "outputs": []
    },
    {
      "metadata": {
        "_uuid": "1687d221c88c9bd7e54ae0c15a8c22eff5b646cd"
      },
      "cell_type": "markdown",
      "source": "##### Kaggle score remained unchanged, this proves that our logic of test score calculation fails and there must be some value prediction which is huge which brings the average error value up\n"
    },
    {
      "metadata": {
        "_uuid": "86ec97e2b5317e69a5742374760e089a89ffa358"
      },
      "cell_type": "markdown",
      "source": "##### Next Steps:\n* re run the grid search and note training score, validation score and testing score. This should not only double check on test score calculation but also gives us the right hyper parameter from the training and validation perspective.\n* address the runtime error during scaling or power transform. If boxcox fails attempt a log transformation at least.\n* stratify fold testing to check if the training score & validation in the previous exercise still holds goods.\n* hyper parameter research for XGBoost\n* target variable transformation\n* best of best stack approach\n* team work stack approach\n* XGBoost as the final assesser in best of best stack approach\n* XGBoost as the final assesser in the team work starck approach\n* 3 layers in stack approach: best of best candidates in the order of their accuracy feeding on input in each case.\n* re-assess the dataset"
    },
    {
      "metadata": {
        "_uuid": "fd61af6bd1d247a69e846af22625a265b4f6b2f2"
      },
      "cell_type": "markdown",
      "source": "##### The grid search in the kaggle resulted in the different hyper parameter for lowest validation score. Not sure why is that ? validation is through the shuffle split. isnt 3 cross validation set sufficient ?\n\n##### Or it is a game of kfold shuffle split and stratify ?"
    },
    {
      "metadata": {
        "_uuid": "55a0a09f1fd87fe69a94859187b6ccc2f9387c8a"
      },
      "cell_type": "markdown",
      "source": "##### It only makes sense to move on for stacked approach and other hyper parameter tuning if we sort out the cross validation consistency issue. Otherwise, we cannot have the confidence of impact of changes in stacked approaches."
    },
    {
      "metadata": {
        "_uuid": "5cd73aadf72033198ff29708d8389915afa21bd8"
      },
      "cell_type": "markdown",
      "source": "##### The full grid search for split count = 10 is as below. It is evident that \n* testing training score is of no use. We can ignore it in the future grid searches. it would save couple minutes from one grid search.\n\n##### Following are the observation yet to be confirmed:\n* Does the testing score confidence is high; post custom stratified split ? We will have predict with the best testing score and see the rank in Kaggle. 6,800 = > 0.15404  & 3,800 ==> 0.16021\n* Does we have relation between validation score and testing score ?\n* Can we first focus on training score to be 0 with other hyper parameters ? would that be overfitting ? Should we need still learning curve of validation vs testing score.?\n* Can we ignore n_estimator and see if the validation score converges with testing score only with max_depth and other hyper parameters?"
    },
    {
      "metadata": {
        "_uuid": "5b47e9763bd59669f61c104944f46de2161ce0d4"
      },
      "cell_type": "markdown",
      "source": "##### Let us talk about the hyper parameter till we get the gridsearch result"
    },
    {
      "metadata": {
        "_uuid": "8db131a039893493f30424aa9a2532389594614b"
      },
      "cell_type": "markdown",
      "source": "* https://xgboost.readthedocs.io/en/latest/parameter.html\n* https://www.kaggle.com/dansbecker/xgboost\n* https://www.datacamp.com/community/tutorials/xgboost-in-python\n\n* 1 being the max value, let us have half as the value for {'colsample_bytree':0.5, 'colsample_bylevel':0.5}\n* learning_rate = 0.05 because we have already using 0.1 so far. It is suggested in the kaggle blog.\n* n_jobs= 2 /4 based on the cpu. I guess Kaggle provides 4 cpu machine. I saw the max cpu spike as 400%\n* Surprisingly and unnoticed so far that it does the cross validation by itself. so we can leverage the n_estimator to be 1000 and use early_stopping_rounds for our quick turnaround. So our 2 for loops reduced to one :)\n"
    },
    {
      "metadata": {
        "trusted": true,
        "_uuid": "e4c3e26e2e455e9f089320c3af74fb7543ade251"
      },
      "cell_type": "code",
      "source": "reg",
      "execution_count": null,
      "outputs": []
    },
    {
      "metadata": {
        "trusted": true,
        "_uuid": "2fac7047a1da3551cf8ccc791a2915d37408df48"
      },
      "cell_type": "code",
      "source": "reg = XGBRegressor(max_depth=4, n_estimators=1000, learning_rate = 0.05, n_jobs = 2, colsample_bylevel = 0.5, colsample_bytree = 0.5)\nX_train, X_test, y_train, y_test = train_test_split(X,y, test_size=0.5, random_state=random.randint(1,500))\nreg.fit(X_train,y_train, early_stopping_rounds=250, eval_metric='rmse',eval_set=[(X_test,y_test)], verbose=100,)\n\n'''my_model = XGBRegressor(n_estimators=1000)\nmy_model.fit(train_X, train_y, early_stopping_rounds=5, \n             eval_set=[(test_X, test_y)], verbose=False)'''\nprint()",
      "execution_count": null,
      "outputs": []
    },
    {
      "metadata": {
        "_uuid": "38f4d0e988044c5d6df7100d966c8101289ec893"
      },
      "cell_type": "markdown",
      "source": "* 15 ==> validation_0-rmse:0.145474\n* 25 ==> [ 527 ]\tvalidation_0-rmse:0.14391\n* 100 ==> [567]\tvalidation_0-rmse:0.143869\n* 250 ==> [567]\tvalidation_0-rmse:0.143869\n\n\n* for max_depth = 4\n  * [273]\tvalidation_0-rmse:0.148329\n  * [729]\tvalidation_0-rmse:0.12575\n"
    },
    {
      "metadata": {
        "trusted": true,
        "_uuid": "96eba0a45dfa1e1709bcf1d15e5b0001cdb7945b"
      },
      "cell_type": "code",
      "source": "reg",
      "execution_count": null,
      "outputs": []
    },
    {
      "metadata": {
        "_uuid": "fe03586407468ebf629ffc1e0897a8d852aae688"
      },
      "cell_type": "markdown",
      "source": "##### n_estimator we will choose it at the end again through Stratified"
    },
    {
      "metadata": {
        "_uuid": "cdb259d1e30e2fd868aab2baef2cb985f7fe62d9"
      },
      "cell_type": "markdown",
      "source": "##### With hyper parameter set to above the grid search is as below:"
    },
    {
      "metadata": {
        "trusted": true,
        "_uuid": "c34b14e4a2b64d21b3ca57cd1be6d69e5258fbd7"
      },
      "cell_type": "code",
      "source": "    ",
      "execution_count": null,
      "outputs": []
    }
  ],
  "metadata": {
    "kernelspec": {
      "display_name": "Python 3",
      "language": "python",
      "name": "python3"
    },
    "language_info": {
      "name": "python",
      "version": "3.6.6",
      "mimetype": "text/x-python",
      "codemirror_mode": {
        "name": "ipython",
        "version": 3
      },
      "pygments_lexer": "ipython3",
      "nbconvert_exporter": "python",
      "file_extension": ".py"
    }
  },
  "nbformat": 4,
  "nbformat_minor": 1
}